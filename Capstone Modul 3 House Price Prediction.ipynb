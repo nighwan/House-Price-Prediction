{
 "cells": [
  {
   "cell_type": "markdown",
   "id": "64fd9abb",
   "metadata": {},
   "source": [
    "# House Price Prediction"
   ]
  },
  {
   "cell_type": "markdown",
   "id": "4e3b0e85",
   "metadata": {},
   "source": [
    "# 1. Businesss Problem Understanding\n",
    "## 1.1 Context\n",
    "Bank ABC merupakan bank dengan fokus kredit pada kredit multiguna dengan pinjaman dengan agunan properti atau rumah tinggal. Dimana rasio dari pinjaman yang diberikan oleh bank 80% dari nilai agunan atau bangunan ini. Untuk menilai properti atau bangunan yang akan dijaminkan ke bank perlu dilakukan penilaian baik dari eksternal maupun internal. Penilaian ini memakan waktu yang tidak sebentar, karena harus dilakukan secara hati-hati dan detail. Meskipun tim penilai di sisi eksternal ditunjuk langsung oleh bank pemberi kredit, namun tidak menutup kemungkinan hasil yang dihasilkan bisa bias atau tidak sesuai dengan taksiran. Dari penilai internal juga sangat memungkinkan lamanya waktu penilaian jika jaminan atau agunan yang diajukan sangat banyak. Jika penilaian yang dilakukan terlalu tinggi maka ini akan merugikan pihak perbankan dikemudian hari jika terjadi kredit macet. Sebaliknya jika penilaian terlalu murah maka nasabah enggan mengambil kredit pada bank kami. \n",
    "\n",
    "## 1.2 Problem Statement \n",
    "Salah satu yang menjadi masalah dalam pemberian kredit adalah efisiensi dan efektifitas dalam penilaian atau penaksiran nilai agunan berupa rumah sebagai ukuran pemberian kredit yang bisa diberikan kepada nasabah. Pemecahan masalah ini merupakan menjadi masalah yang harus diselesaikan oleh departemen kredit guna meningkatkan efisiensi dan efektifitas dalam operasinal bisnis, hal ini ingin dicapai guna memberikan customer satisfaction terkait pelayanan pemberian kredit kepada nasabah. \n",
    "\n",
    "Banyaknya jenis, spesifikasi maupun lokasi rumah tinggal yang diajukan oleh nasabah, membuat harga taksiran juga sangat bervariatif. Dengan banyaknya perbedaan dari masing-masing agunan, sangat penting bagi bank untuk menilai berapa harga pasaran atau taksiran yang diajukan sebagai agunan, mengingat pemberian kredit atau plafond sangat bergantung dengan nilai agunan yang diberikan. Kecepatan dalam penaksiran inilah yang ingin dicapai oleh departement kredit untuk meningkatkan efisiensi dan efektifitas dalam pelayanan. Semakin cepat kredit diberikan kepada nasabah maka semakin cepat juga perusahaan mendapatkan profit dari bunga pinjaman tersebut. \n",
    "\n",
    "## 1.3 Goals\n",
    "Goals yang ingin dicapai dengan dibuatnya predicting tools ini jelas ingin mempercepat waktu pemberian kredit serta mengurangi bias pada tim penilai internal. Prediksi harga yang dibuat akan mengikuti standar yang telah ditetapkan oleh bank. Hal ini bertujuan untuk memudahkan tim internal dalam pengambilan keputusan. \n",
    "\n",
    "## 1.4 Analytics Approach\n",
    "\n",
    "Hal yang perlu dilakukan adalah dengan melakukan pendekatan dalam membuat model yang dapat memprediksi harga secara akurat dengan memerhatikan faktor-faktor(fitur) yang dapat memengaruhi harga rumah. Penentuan fitur juga memerhatikan korelasi dari fitur itu sendiri kita bisa memlihat fitur atau faktor apa saja yang dapat memengaruhi harga rumah tersebut. Model inilah yang dapat digunakan untuk membantu mempercepat waktu pemberian kredit pada Bank ABC.   \n",
    "\n",
    "## 1.5 Metric Evaluation\n",
    "Pada model yang dibuat nantinya akan menggunakan beberapa metrik evaluasi antara lain RMSE, MAE dan MAPE. \n",
    "\n",
    "**RMSE** adalah  metode pengukuran dengan mengukur perbedaan nilai dari prediksi sebuah model sebagai estimasi atas nilai yang diobservasi. Nilai RMSE didapat dari akar kuadrat Mean Square Error. \n",
    "\n",
    "**MAE** adalah rata-rata nilai absolut dari error, sedangkan \n",
    "\n",
    "**MAPE** adalah rata-rata persentase error yang dihasilkan oleh model. \n",
    "\n",
    "Ketiganya digunakan untuk melihat seberapa baik model dapat memprediksi data yang belum pernah dilihat atau data test. Semakin kecil nilai ketiganya, artinya model semakin akurat dalam memprediksi target atau dependent variable sesuai dengan feature yang telah digunakan.\n",
    "\n",
    "Penggunaan **RMSE** untuk menilai akurasi model prediksi, apakah model prediksi tersebut sesuai atau tidak.\n",
    "\n",
    "Penggunaan **MAE** dan **MAPE** lebih mudah untuk di interpretasi, dimana hasil erorr hanya akan dimutlakan untuk MAE dan untuk MAPE akan dibagi dengan data aktual. Untuk MAPE sendiri lebih fair digunakan dalam nominal rupiah karena yang dihitung nantinya adalah prosentase.\n"
   ]
  },
  {
   "cell_type": "markdown",
   "id": "d9b1cf48",
   "metadata": {},
   "source": [
    "# 2. Data "
   ]
  },
  {
   "cell_type": "markdown",
   "id": "e7523767",
   "metadata": {},
   "source": [
    "## 2.1. Data Understanding"
   ]
  },
  {
   "cell_type": "code",
   "execution_count": 1,
   "id": "cd1d8b4b",
   "metadata": {},
   "outputs": [],
   "source": [
    "# import library\n",
    "import numpy as np \n",
    "import pandas as pd\n",
    "import seaborn as sns \n",
    "import matplotlib.pyplot as plt\n",
    "\n",
    "import warnings \n",
    "warnings.filterwarnings(\"ignore\")\n",
    "pd.set_option(\"display.max_columns\", None)"
   ]
  },
  {
   "cell_type": "code",
   "execution_count": 2,
   "id": "9782b15f",
   "metadata": {},
   "outputs": [
    {
     "data": {
      "text/html": [
       "<div>\n",
       "<style scoped>\n",
       "    .dataframe tbody tr th:only-of-type {\n",
       "        vertical-align: middle;\n",
       "    }\n",
       "\n",
       "    .dataframe tbody tr th {\n",
       "        vertical-align: top;\n",
       "    }\n",
       "\n",
       "    .dataframe thead th {\n",
       "        text-align: right;\n",
       "    }\n",
       "</style>\n",
       "<table border=\"1\" class=\"dataframe\">\n",
       "  <thead>\n",
       "    <tr style=\"text-align: right;\">\n",
       "      <th></th>\n",
       "      <th>longitude</th>\n",
       "      <th>latitude</th>\n",
       "      <th>housing_median_age</th>\n",
       "      <th>total_rooms</th>\n",
       "      <th>total_bedrooms</th>\n",
       "      <th>population</th>\n",
       "      <th>households</th>\n",
       "      <th>median_income</th>\n",
       "      <th>ocean_proximity</th>\n",
       "      <th>median_house_value</th>\n",
       "    </tr>\n",
       "  </thead>\n",
       "  <tbody>\n",
       "    <tr>\n",
       "      <th>0</th>\n",
       "      <td>-119.79</td>\n",
       "      <td>36.73</td>\n",
       "      <td>52.0</td>\n",
       "      <td>112.0</td>\n",
       "      <td>28.0</td>\n",
       "      <td>193.0</td>\n",
       "      <td>40.0</td>\n",
       "      <td>1.9750</td>\n",
       "      <td>INLAND</td>\n",
       "      <td>47500.0</td>\n",
       "    </tr>\n",
       "    <tr>\n",
       "      <th>1</th>\n",
       "      <td>-122.21</td>\n",
       "      <td>37.77</td>\n",
       "      <td>43.0</td>\n",
       "      <td>1017.0</td>\n",
       "      <td>328.0</td>\n",
       "      <td>836.0</td>\n",
       "      <td>277.0</td>\n",
       "      <td>2.2604</td>\n",
       "      <td>NEAR BAY</td>\n",
       "      <td>100000.0</td>\n",
       "    </tr>\n",
       "    <tr>\n",
       "      <th>2</th>\n",
       "      <td>-118.04</td>\n",
       "      <td>33.87</td>\n",
       "      <td>17.0</td>\n",
       "      <td>2358.0</td>\n",
       "      <td>396.0</td>\n",
       "      <td>1387.0</td>\n",
       "      <td>364.0</td>\n",
       "      <td>6.2990</td>\n",
       "      <td>&lt;1H OCEAN</td>\n",
       "      <td>285800.0</td>\n",
       "    </tr>\n",
       "    <tr>\n",
       "      <th>3</th>\n",
       "      <td>-118.28</td>\n",
       "      <td>34.06</td>\n",
       "      <td>17.0</td>\n",
       "      <td>2518.0</td>\n",
       "      <td>1196.0</td>\n",
       "      <td>3051.0</td>\n",
       "      <td>1000.0</td>\n",
       "      <td>1.7199</td>\n",
       "      <td>&lt;1H OCEAN</td>\n",
       "      <td>175000.0</td>\n",
       "    </tr>\n",
       "    <tr>\n",
       "      <th>4</th>\n",
       "      <td>-119.81</td>\n",
       "      <td>36.73</td>\n",
       "      <td>50.0</td>\n",
       "      <td>772.0</td>\n",
       "      <td>194.0</td>\n",
       "      <td>606.0</td>\n",
       "      <td>167.0</td>\n",
       "      <td>2.2206</td>\n",
       "      <td>INLAND</td>\n",
       "      <td>59200.0</td>\n",
       "    </tr>\n",
       "  </tbody>\n",
       "</table>\n",
       "</div>"
      ],
      "text/plain": [
       "   longitude  latitude  housing_median_age  total_rooms  total_bedrooms  \\\n",
       "0    -119.79     36.73                52.0        112.0            28.0   \n",
       "1    -122.21     37.77                43.0       1017.0           328.0   \n",
       "2    -118.04     33.87                17.0       2358.0           396.0   \n",
       "3    -118.28     34.06                17.0       2518.0          1196.0   \n",
       "4    -119.81     36.73                50.0        772.0           194.0   \n",
       "\n",
       "   population  households  median_income ocean_proximity  median_house_value  \n",
       "0       193.0        40.0         1.9750          INLAND             47500.0  \n",
       "1       836.0       277.0         2.2604        NEAR BAY            100000.0  \n",
       "2      1387.0       364.0         6.2990       <1H OCEAN            285800.0  \n",
       "3      3051.0      1000.0         1.7199       <1H OCEAN            175000.0  \n",
       "4       606.0       167.0         2.2206          INLAND             59200.0  "
      ]
     },
     "metadata": {},
     "output_type": "display_data"
    },
    {
     "data": {
      "text/html": [
       "<div>\n",
       "<style scoped>\n",
       "    .dataframe tbody tr th:only-of-type {\n",
       "        vertical-align: middle;\n",
       "    }\n",
       "\n",
       "    .dataframe tbody tr th {\n",
       "        vertical-align: top;\n",
       "    }\n",
       "\n",
       "    .dataframe thead th {\n",
       "        text-align: right;\n",
       "    }\n",
       "</style>\n",
       "<table border=\"1\" class=\"dataframe\">\n",
       "  <thead>\n",
       "    <tr style=\"text-align: right;\">\n",
       "      <th></th>\n",
       "      <th>longitude</th>\n",
       "      <th>latitude</th>\n",
       "      <th>housing_median_age</th>\n",
       "      <th>total_rooms</th>\n",
       "      <th>total_bedrooms</th>\n",
       "      <th>population</th>\n",
       "      <th>households</th>\n",
       "      <th>median_income</th>\n",
       "      <th>ocean_proximity</th>\n",
       "      <th>median_house_value</th>\n",
       "    </tr>\n",
       "  </thead>\n",
       "  <tbody>\n",
       "    <tr>\n",
       "      <th>14443</th>\n",
       "      <td>-121.26</td>\n",
       "      <td>38.27</td>\n",
       "      <td>20.0</td>\n",
       "      <td>1314.0</td>\n",
       "      <td>229.0</td>\n",
       "      <td>712.0</td>\n",
       "      <td>219.0</td>\n",
       "      <td>4.4125</td>\n",
       "      <td>INLAND</td>\n",
       "      <td>144600.0</td>\n",
       "    </tr>\n",
       "    <tr>\n",
       "      <th>14444</th>\n",
       "      <td>-120.89</td>\n",
       "      <td>37.48</td>\n",
       "      <td>27.0</td>\n",
       "      <td>1118.0</td>\n",
       "      <td>195.0</td>\n",
       "      <td>647.0</td>\n",
       "      <td>209.0</td>\n",
       "      <td>2.9135</td>\n",
       "      <td>INLAND</td>\n",
       "      <td>159400.0</td>\n",
       "    </tr>\n",
       "    <tr>\n",
       "      <th>14445</th>\n",
       "      <td>-121.90</td>\n",
       "      <td>36.58</td>\n",
       "      <td>31.0</td>\n",
       "      <td>1431.0</td>\n",
       "      <td>NaN</td>\n",
       "      <td>704.0</td>\n",
       "      <td>393.0</td>\n",
       "      <td>3.1977</td>\n",
       "      <td>NEAR OCEAN</td>\n",
       "      <td>289300.0</td>\n",
       "    </tr>\n",
       "    <tr>\n",
       "      <th>14446</th>\n",
       "      <td>-117.93</td>\n",
       "      <td>33.62</td>\n",
       "      <td>34.0</td>\n",
       "      <td>2125.0</td>\n",
       "      <td>498.0</td>\n",
       "      <td>1052.0</td>\n",
       "      <td>468.0</td>\n",
       "      <td>5.6315</td>\n",
       "      <td>&lt;1H OCEAN</td>\n",
       "      <td>484600.0</td>\n",
       "    </tr>\n",
       "    <tr>\n",
       "      <th>14447</th>\n",
       "      <td>-115.56</td>\n",
       "      <td>32.80</td>\n",
       "      <td>15.0</td>\n",
       "      <td>1171.0</td>\n",
       "      <td>328.0</td>\n",
       "      <td>1024.0</td>\n",
       "      <td>298.0</td>\n",
       "      <td>1.3882</td>\n",
       "      <td>INLAND</td>\n",
       "      <td>69400.0</td>\n",
       "    </tr>\n",
       "  </tbody>\n",
       "</table>\n",
       "</div>"
      ],
      "text/plain": [
       "       longitude  latitude  housing_median_age  total_rooms  total_bedrooms  \\\n",
       "14443    -121.26     38.27                20.0       1314.0           229.0   \n",
       "14444    -120.89     37.48                27.0       1118.0           195.0   \n",
       "14445    -121.90     36.58                31.0       1431.0             NaN   \n",
       "14446    -117.93     33.62                34.0       2125.0           498.0   \n",
       "14447    -115.56     32.80                15.0       1171.0           328.0   \n",
       "\n",
       "       population  households  median_income ocean_proximity  \\\n",
       "14443       712.0       219.0         4.4125          INLAND   \n",
       "14444       647.0       209.0         2.9135          INLAND   \n",
       "14445       704.0       393.0         3.1977      NEAR OCEAN   \n",
       "14446      1052.0       468.0         5.6315       <1H OCEAN   \n",
       "14447      1024.0       298.0         1.3882          INLAND   \n",
       "\n",
       "       median_house_value  \n",
       "14443            144600.0  \n",
       "14444            159400.0  \n",
       "14445            289300.0  \n",
       "14446            484600.0  \n",
       "14447             69400.0  "
      ]
     },
     "metadata": {},
     "output_type": "display_data"
    }
   ],
   "source": [
    "# read dataset dan tampilkan sample dataset\n",
    "df = pd.read_csv(\"data_california_house.csv\")\n",
    "display(df.head(), df.tail())"
   ]
  },
  {
   "cell_type": "markdown",
   "id": "b31968c2",
   "metadata": {},
   "source": [
    "###  Informasi tentang dataset\n",
    "- Data yang digunakan merupakan data terkait dengan median harga rumah untuk daerah California. Pengambilan data atau sensus dilakukan pada tahun 1990.\n",
    "- Masing-masing data merepresentasikan kriteria dan median harga rumahnya.\n",
    "\n",
    "\n",
    "| **Kolom** | **Tipe Data** | **Deskripsi Fitur** |\n",
    "| --- | --- | --- |\n",
    "| logitude | Float | Titik koordinat pada garis bujur, semakin besar angka longitude maka semakin ke barat titik tersebut |\n",
    "| latitude | Float | Titik koordinat pada garis lintang, semakin besar angka latitude maka semakin ke utara titik tersebut |\n",
    "| housing_median_age | Float | Nilai median dari umur bangunan dalam radius satu block, semakin besar angkanya maka semakin tua bangunan tersebut |\n",
    "| total_rooms | Float | Banyaknya atau total ruangan dalam radius satu block |\n",
    "| total_bedrooms | Float | Banyaknya atau total kamar tidur dalam radius satu block |\n",
    "| population | Float | Banyaknya atau total populasi yang tinggal dalam radius satu block |\n",
    "| households | Float | Banyaknya rumah tangga yang tinggal dalam satu bangunan pada radius satu block |\n",
    "| median_income | Float | Nilai median pendapatan tiap household secara kumulatif dalam radius satu block(satuan USD) |\n",
    "| ocean_proximity | Object | Lokasi atau jarak rumah relatif terhadap laut atau pesisir |\n",
    "| median_house_value | Float | Nilai median harga rumah atau bangunan untuk tiap household dalam radius satu block(satuan USD) |"
   ]
  },
  {
   "cell_type": "markdown",
   "id": "b96ddcb7",
   "metadata": {},
   "source": [
    "## 2.2. Exploratory Data Analysis"
   ]
  },
  {
   "cell_type": "markdown",
   "id": "a8352162",
   "metadata": {},
   "source": [
    "EDA dilakukan untuk melihat pola atau insight yang ada pada data secara mendetail. EDA juga dapat memberikan informasi terkait bagaimana kelengkapan data yang digunakan, apakah terdapat missing value pada data serta juga dapat melihat bagimana distribusi data yang dimiliki. Secara garis besar EDA merupakan langkah awal ketika kita akan melakukan prediksi terhadap sesuatu."
   ]
  },
  {
   "cell_type": "code",
   "execution_count": 3,
   "id": "761c8cea",
   "metadata": {},
   "outputs": [
    {
     "name": "stdout",
     "output_type": "stream",
     "text": [
      "<class 'pandas.core.frame.DataFrame'>\n",
      "RangeIndex: 14448 entries, 0 to 14447\n",
      "Data columns (total 10 columns):\n",
      " #   Column              Non-Null Count  Dtype  \n",
      "---  ------              --------------  -----  \n",
      " 0   longitude           14448 non-null  float64\n",
      " 1   latitude            14448 non-null  float64\n",
      " 2   housing_median_age  14448 non-null  float64\n",
      " 3   total_rooms         14448 non-null  float64\n",
      " 4   total_bedrooms      14311 non-null  float64\n",
      " 5   population          14448 non-null  float64\n",
      " 6   households          14448 non-null  float64\n",
      " 7   median_income       14448 non-null  float64\n",
      " 8   ocean_proximity     14448 non-null  object \n",
      " 9   median_house_value  14448 non-null  float64\n",
      "dtypes: float64(9), object(1)\n",
      "memory usage: 1.1+ MB\n"
     ]
    }
   ],
   "source": [
    "df.info()"
   ]
  },
  {
   "cell_type": "code",
   "execution_count": 4,
   "id": "5ddd3cdf",
   "metadata": {},
   "outputs": [
    {
     "data": {
      "text/html": [
       "<div>\n",
       "<style scoped>\n",
       "    .dataframe tbody tr th:only-of-type {\n",
       "        vertical-align: middle;\n",
       "    }\n",
       "\n",
       "    .dataframe tbody tr th {\n",
       "        vertical-align: top;\n",
       "    }\n",
       "\n",
       "    .dataframe thead th {\n",
       "        text-align: right;\n",
       "    }\n",
       "</style>\n",
       "<table border=\"1\" class=\"dataframe\">\n",
       "  <thead>\n",
       "    <tr style=\"text-align: right;\">\n",
       "      <th></th>\n",
       "      <th>Column</th>\n",
       "      <th>Unique Value</th>\n",
       "      <th>Number of Unique</th>\n",
       "      <th>dtype</th>\n",
       "      <th>Null</th>\n",
       "    </tr>\n",
       "  </thead>\n",
       "  <tbody>\n",
       "    <tr>\n",
       "      <th>0</th>\n",
       "      <td>longitude</td>\n",
       "      <td>[-119.79, -122.21, -118.04, -118.28, -119.81, ...</td>\n",
       "      <td>806</td>\n",
       "      <td>float64</td>\n",
       "      <td>0</td>\n",
       "    </tr>\n",
       "    <tr>\n",
       "      <th>1</th>\n",
       "      <td>latitude</td>\n",
       "      <td>[36.73, 37.77, 33.87, 34.06, 33.8, 33.81, 38.6...</td>\n",
       "      <td>836</td>\n",
       "      <td>float64</td>\n",
       "      <td>0</td>\n",
       "    </tr>\n",
       "    <tr>\n",
       "      <th>2</th>\n",
       "      <td>housing_median_age</td>\n",
       "      <td>[52.0, 43.0, 17.0, 50.0, 11.0, 14.0, 6.0, 10.0...</td>\n",
       "      <td>52</td>\n",
       "      <td>float64</td>\n",
       "      <td>0</td>\n",
       "    </tr>\n",
       "    <tr>\n",
       "      <th>3</th>\n",
       "      <td>total_rooms</td>\n",
       "      <td>[112.0, 1017.0, 2358.0, 2518.0, 772.0, 10535.0...</td>\n",
       "      <td>5227</td>\n",
       "      <td>float64</td>\n",
       "      <td>0</td>\n",
       "    </tr>\n",
       "    <tr>\n",
       "      <th>4</th>\n",
       "      <td>total_bedrooms</td>\n",
       "      <td>[28.0, 328.0, 396.0, 1196.0, 194.0, 1620.0, 14...</td>\n",
       "      <td>1748</td>\n",
       "      <td>float64</td>\n",
       "      <td>137</td>\n",
       "    </tr>\n",
       "    <tr>\n",
       "      <th>5</th>\n",
       "      <td>population</td>\n",
       "      <td>[193.0, 836.0, 1387.0, 3051.0, 606.0, 4409.0, ...</td>\n",
       "      <td>3498</td>\n",
       "      <td>float64</td>\n",
       "      <td>0</td>\n",
       "    </tr>\n",
       "    <tr>\n",
       "      <th>6</th>\n",
       "      <td>households</td>\n",
       "      <td>[40.0, 277.0, 364.0, 1000.0, 167.0, 1622.0, 14...</td>\n",
       "      <td>1649</td>\n",
       "      <td>float64</td>\n",
       "      <td>0</td>\n",
       "    </tr>\n",
       "    <tr>\n",
       "      <th>7</th>\n",
       "      <td>median_income</td>\n",
       "      <td>[1.975, 2.2604, 6.299, 1.7199, 2.2206, 6.67, 8...</td>\n",
       "      <td>9797</td>\n",
       "      <td>float64</td>\n",
       "      <td>0</td>\n",
       "    </tr>\n",
       "    <tr>\n",
       "      <th>8</th>\n",
       "      <td>ocean_proximity</td>\n",
       "      <td>[INLAND, NEAR BAY, &lt;1H OCEAN, NEAR OCEAN, ISLAND]</td>\n",
       "      <td>5</td>\n",
       "      <td>object</td>\n",
       "      <td>0</td>\n",
       "    </tr>\n",
       "    <tr>\n",
       "      <th>9</th>\n",
       "      <td>median_house_value</td>\n",
       "      <td>[47500.0, 100000.0, 285800.0, 175000.0, 59200....</td>\n",
       "      <td>3548</td>\n",
       "      <td>float64</td>\n",
       "      <td>0</td>\n",
       "    </tr>\n",
       "  </tbody>\n",
       "</table>\n",
       "</div>"
      ],
      "text/plain": [
       "               Column                                       Unique Value  \\\n",
       "0           longitude  [-119.79, -122.21, -118.04, -118.28, -119.81, ...   \n",
       "1            latitude  [36.73, 37.77, 33.87, 34.06, 33.8, 33.81, 38.6...   \n",
       "2  housing_median_age  [52.0, 43.0, 17.0, 50.0, 11.0, 14.0, 6.0, 10.0...   \n",
       "3         total_rooms  [112.0, 1017.0, 2358.0, 2518.0, 772.0, 10535.0...   \n",
       "4      total_bedrooms  [28.0, 328.0, 396.0, 1196.0, 194.0, 1620.0, 14...   \n",
       "5          population  [193.0, 836.0, 1387.0, 3051.0, 606.0, 4409.0, ...   \n",
       "6          households  [40.0, 277.0, 364.0, 1000.0, 167.0, 1622.0, 14...   \n",
       "7       median_income  [1.975, 2.2604, 6.299, 1.7199, 2.2206, 6.67, 8...   \n",
       "8     ocean_proximity  [INLAND, NEAR BAY, <1H OCEAN, NEAR OCEAN, ISLAND]   \n",
       "9  median_house_value  [47500.0, 100000.0, 285800.0, 175000.0, 59200....   \n",
       "\n",
       "   Number of Unique    dtype  Null  \n",
       "0               806  float64     0  \n",
       "1               836  float64     0  \n",
       "2                52  float64     0  \n",
       "3              5227  float64     0  \n",
       "4              1748  float64   137  \n",
       "5              3498  float64     0  \n",
       "6              1649  float64     0  \n",
       "7              9797  float64     0  \n",
       "8                 5   object     0  \n",
       "9              3548  float64     0  "
      ]
     },
     "execution_count": 4,
     "metadata": {},
     "output_type": "execute_result"
    }
   ],
   "source": [
    "# Menampilkan informasi pada dataset\n",
    "sample = []\n",
    "jumlah = []\n",
    "tipe = []\n",
    "nan = []\n",
    "for i in df.columns:\n",
    "    sample.append(df[i].unique())\n",
    "    jumlah.append(df[i].nunique())\n",
    "    tipe.append(df[i].dtype)\n",
    "    nan.append(df[i].isna().sum())\n",
    "    \n",
    "pd.DataFrame({\n",
    "    \"Column\" : df.columns,\n",
    "    \"Unique Value\" : sample,\n",
    "    \"Number of Unique\" : jumlah, \n",
    "    \"dtype\" : tipe,\n",
    "    \"Null\" : nan\n",
    "    \n",
    "})"
   ]
  },
  {
   "cell_type": "markdown",
   "id": "d7e931c0",
   "metadata": {},
   "source": [
    "Secara umum, informasi di atas menunjukan bahwa dataframe atau dataset yang digunakan memuat informasi sebagai berikut:\n",
    "1. Memilki 10 kolom dengan 9 kolom data numerical dan 1 kolom data categorical.\n",
    "2. Terdapat 14.448 baris data.\n",
    "3. Data numerikal pada dataset ini meliputi kolom `housing_median_age`, `total_rooms`, `total_bedrooms`, `households`,`population`, `median_income` dan `median_house_value` yang memiliki nilai positif dengan rentang nilai tertentu. \n",
    "4. Data numerikal lainnya adalah kolom `longitude` dan `latitude` yang memuat data spatial atau menujukan lokasi atau titik koordinat.\n",
    "5. Data kategorikal pada dataset ini adalah kolom `ocean_proximity` yang memuat informasi lokasi bangunan dengan membagi ke beberapa kategori tergantung dengan kedekatan dengan garis pantai."
   ]
  },
  {
   "cell_type": "markdown",
   "id": "671dda26",
   "metadata": {},
   "source": [
    "### 2.2.1. Missing Value"
   ]
  },
  {
   "cell_type": "code",
   "execution_count": 5,
   "id": "fc77c743",
   "metadata": {},
   "outputs": [
    {
     "data": {
      "text/plain": [
       "longitude               0\n",
       "latitude                0\n",
       "housing_median_age      0\n",
       "total_rooms             0\n",
       "total_bedrooms        137\n",
       "population              0\n",
       "households              0\n",
       "median_income           0\n",
       "ocean_proximity         0\n",
       "median_house_value      0\n",
       "dtype: int64"
      ]
     },
     "execution_count": 5,
     "metadata": {},
     "output_type": "execute_result"
    }
   ],
   "source": [
    "# melihat apakah ada missing value pada dataset \n",
    "df.isna().sum()"
   ]
  },
  {
   "cell_type": "markdown",
   "id": "cafe20ec",
   "metadata": {},
   "source": [
    "Dari informasi dataset diatas dapat dilihat bahwa terdapat mising value pada kolom `total_bedrooms`. Kemudian setelah dilakukan pengecekan missing value, terdapat sebanyak 137 missing value. Kita akan melakukan pengecekan distribusi pada kolom `total_bedrooms` sebagai landasan penanganan atau handling missing value pada kolom tersebut. "
   ]
  },
  {
   "cell_type": "code",
   "execution_count": 6,
   "id": "565f4036",
   "metadata": {},
   "outputs": [
    {
     "data": {
      "image/png": "[encoded data removed]",
      "text/plain": [
       "<Figure size 576x432 with 1 Axes>"
      ]
     },
     "metadata": {
      "needs_background": "light"
     },
     "output_type": "display_data"
    }
   ],
   "source": [
    "# plot distribusi data total bedrooms\n",
    "plt.figure(figsize=(8,6))\n",
    "sns.distplot(df[\"total_bedrooms\"],bins=30)\n",
    "plt.title(\"Distribution Plot Total Bedrooms\")\n",
    "plt.show()"
   ]
  },
  {
   "cell_type": "markdown",
   "id": "0c18d609",
   "metadata": {},
   "source": [
    "Dari plot distribusi terlihat bahwa data total bedrooms tidak berdistribusi normal, dan cenderung negatif skewed atau right skewed, maka mising value pada kolom ini akan diisi dengan nilai median atau nilai tengah. "
   ]
  },
  {
   "cell_type": "code",
   "execution_count": 7,
   "id": "1d847f6e",
   "metadata": {},
   "outputs": [
    {
     "data": {
      "image/png": "[encoded data removed]",
      "text/plain": [
       "<Figure size 864x720 with 9 Axes>"
      ]
     },
     "metadata": {
      "needs_background": "light"
     },
     "output_type": "display_data"
    }
   ],
   "source": [
    "# Menampilkan plot distribusi semua data numerical pada dataset\n",
    "df.hist(figsize=(12, 10), bins=50)\n",
    "plt.subplots_adjust(hspace=0.7, wspace=0.4)\n",
    "plt.show()"
   ]
  },
  {
   "cell_type": "markdown",
   "id": "c0d38ef2",
   "metadata": {},
   "source": [
    "Visualiasi di atas merupakan data disrtibusi data numerik yang ada. Data menunjukan bahwa sebagian besar data memiliki negatif skewed atau right skewed kecuali longitude dan latitude. Kolom median_house_value dan housing_median_age secara umum memiliki data yang bersifat ekstrem atau sering disebut outliers.\n",
    "* Nilai median house value memiliki nilai outliers pada harga tertinggi karena kita juga memiliki kategori ocean proximity yang berhubungan dengan kedekatan lokasi rumah dengan pantai. Hal lain yang mungkin terjadi adalah rumah atau bangunan dengan harga diatas harga tertentu masuk kedalam satu kelompok kategori.\n",
    "* Nilai median house age juga memiliki nilai outlies pada umur bangunan yang tinggi, bisa dilihat pada data dengan umur bangunan di atas 50 tahun. \n",
    "* total_rooms, total_bedrooms, population, household, median_income juga terlihat memiliki outliers."
   ]
  },
  {
   "cell_type": "markdown",
   "id": "480ce838",
   "metadata": {},
   "source": [
    "### 2.2.2. Duplicate Data"
   ]
  },
  {
   "cell_type": "code",
   "execution_count": 8,
   "id": "7ad74614",
   "metadata": {},
   "outputs": [
    {
     "data": {
      "text/plain": [
       "0"
      ]
     },
     "execution_count": 8,
     "metadata": {},
     "output_type": "execute_result"
    }
   ],
   "source": [
    "# cek data duplikat \n",
    "df.duplicated().sum()"
   ]
  },
  {
   "cell_type": "markdown",
   "id": "2cb7179f",
   "metadata": {},
   "source": [
    "Tidak terdapat data duplikat pada dataset yang digunakan. "
   ]
  },
  {
   "cell_type": "code",
   "execution_count": 9,
   "id": "04646b78",
   "metadata": {},
   "outputs": [
    {
     "data": {
      "image/png": "[encoded data removed]",
      "text/plain": [
       "<Figure size 576x432 with 1 Axes>"
      ]
     },
     "metadata": {
      "needs_background": "light"
     },
     "output_type": "display_data"
    }
   ],
   "source": [
    "# plot distribusi data target (median_house_value)\n",
    "plt.figure(figsize=(8,6))\n",
    "sns.distplot(df[\"median_house_value\"])\n",
    "plt.title(\"Distribution Plot Median House Value\")\n",
    "plt.show()"
   ]
  },
  {
   "cell_type": "markdown",
   "id": "cbd2ae60",
   "metadata": {},
   "source": [
    "Dapat dilihat pada grafik distribusi bahwa data `median_house_value` memiliki distribusi data yang right skewed atau positif skewed. Hal tersebut juga yang mendasari penggunaan nilai median pada setiap data, Nilai median lebih bisa merepresentasikan data yang memiliki distribusi data tidak normal. Pada model yang akan dibuat kita akan meminimalisir adanya data outliers agar model yang dibuat dapat lebih akurat namun ketika kita menghapus data outlier kita akan mendapatkan limitasi pada model, model tidak menjamin hasil prediksi yang baik diluar rentang data yang digunakan. "
   ]
  },
  {
   "cell_type": "markdown",
   "id": "058c3b23",
   "metadata": {},
   "source": [
    "### 2.2.3. Numerical Features"
   ]
  },
  {
   "cell_type": "code",
   "execution_count": 10,
   "id": "24cc41a8",
   "metadata": {},
   "outputs": [
    {
     "data": {
      "text/html": [
       "<div>\n",
       "<style scoped>\n",
       "    .dataframe tbody tr th:only-of-type {\n",
       "        vertical-align: middle;\n",
       "    }\n",
       "\n",
       "    .dataframe tbody tr th {\n",
       "        vertical-align: top;\n",
       "    }\n",
       "\n",
       "    .dataframe thead th {\n",
       "        text-align: right;\n",
       "    }\n",
       "</style>\n",
       "<table border=\"1\" class=\"dataframe\">\n",
       "  <thead>\n",
       "    <tr style=\"text-align: right;\">\n",
       "      <th></th>\n",
       "      <th>longitude</th>\n",
       "      <th>latitude</th>\n",
       "      <th>housing_median_age</th>\n",
       "      <th>total_rooms</th>\n",
       "      <th>total_bedrooms</th>\n",
       "      <th>population</th>\n",
       "      <th>households</th>\n",
       "      <th>median_income</th>\n",
       "      <th>median_house_value</th>\n",
       "    </tr>\n",
       "  </thead>\n",
       "  <tbody>\n",
       "    <tr>\n",
       "      <th>count</th>\n",
       "      <td>14448.000000</td>\n",
       "      <td>14448.000000</td>\n",
       "      <td>14448.000000</td>\n",
       "      <td>14448.000000</td>\n",
       "      <td>14311.000000</td>\n",
       "      <td>14448.000000</td>\n",
       "      <td>14448.000000</td>\n",
       "      <td>14448.000000</td>\n",
       "      <td>14448.000000</td>\n",
       "    </tr>\n",
       "    <tr>\n",
       "      <th>mean</th>\n",
       "      <td>-119.566647</td>\n",
       "      <td>35.630093</td>\n",
       "      <td>28.618702</td>\n",
       "      <td>2640.132683</td>\n",
       "      <td>538.260709</td>\n",
       "      <td>1425.157323</td>\n",
       "      <td>499.508929</td>\n",
       "      <td>3.866667</td>\n",
       "      <td>206824.624516</td>\n",
       "    </tr>\n",
       "    <tr>\n",
       "      <th>std</th>\n",
       "      <td>2.006587</td>\n",
       "      <td>2.140121</td>\n",
       "      <td>12.596694</td>\n",
       "      <td>2191.612441</td>\n",
       "      <td>423.577544</td>\n",
       "      <td>1149.580157</td>\n",
       "      <td>383.098390</td>\n",
       "      <td>1.891158</td>\n",
       "      <td>115365.476182</td>\n",
       "    </tr>\n",
       "    <tr>\n",
       "      <th>min</th>\n",
       "      <td>-124.350000</td>\n",
       "      <td>32.540000</td>\n",
       "      <td>1.000000</td>\n",
       "      <td>2.000000</td>\n",
       "      <td>1.000000</td>\n",
       "      <td>3.000000</td>\n",
       "      <td>1.000000</td>\n",
       "      <td>0.499900</td>\n",
       "      <td>14999.000000</td>\n",
       "    </tr>\n",
       "    <tr>\n",
       "      <th>25%</th>\n",
       "      <td>-121.800000</td>\n",
       "      <td>33.930000</td>\n",
       "      <td>18.000000</td>\n",
       "      <td>1451.000000</td>\n",
       "      <td>295.000000</td>\n",
       "      <td>784.000000</td>\n",
       "      <td>279.000000</td>\n",
       "      <td>2.570600</td>\n",
       "      <td>119600.000000</td>\n",
       "    </tr>\n",
       "    <tr>\n",
       "      <th>50%</th>\n",
       "      <td>-118.490000</td>\n",
       "      <td>34.260000</td>\n",
       "      <td>29.000000</td>\n",
       "      <td>2125.000000</td>\n",
       "      <td>435.000000</td>\n",
       "      <td>1165.000000</td>\n",
       "      <td>410.000000</td>\n",
       "      <td>3.539100</td>\n",
       "      <td>180000.000000</td>\n",
       "    </tr>\n",
       "    <tr>\n",
       "      <th>75%</th>\n",
       "      <td>-118.000000</td>\n",
       "      <td>37.710000</td>\n",
       "      <td>37.000000</td>\n",
       "      <td>3148.000000</td>\n",
       "      <td>647.000000</td>\n",
       "      <td>1724.000000</td>\n",
       "      <td>604.000000</td>\n",
       "      <td>4.736100</td>\n",
       "      <td>263900.000000</td>\n",
       "    </tr>\n",
       "    <tr>\n",
       "      <th>max</th>\n",
       "      <td>-114.310000</td>\n",
       "      <td>41.950000</td>\n",
       "      <td>52.000000</td>\n",
       "      <td>32627.000000</td>\n",
       "      <td>6445.000000</td>\n",
       "      <td>35682.000000</td>\n",
       "      <td>6082.000000</td>\n",
       "      <td>15.000100</td>\n",
       "      <td>500001.000000</td>\n",
       "    </tr>\n",
       "  </tbody>\n",
       "</table>\n",
       "</div>"
      ],
      "text/plain": [
       "          longitude      latitude  housing_median_age   total_rooms  \\\n",
       "count  14448.000000  14448.000000        14448.000000  14448.000000   \n",
       "mean    -119.566647     35.630093           28.618702   2640.132683   \n",
       "std        2.006587      2.140121           12.596694   2191.612441   \n",
       "min     -124.350000     32.540000            1.000000      2.000000   \n",
       "25%     -121.800000     33.930000           18.000000   1451.000000   \n",
       "50%     -118.490000     34.260000           29.000000   2125.000000   \n",
       "75%     -118.000000     37.710000           37.000000   3148.000000   \n",
       "max     -114.310000     41.950000           52.000000  32627.000000   \n",
       "\n",
       "       total_bedrooms    population    households  median_income  \\\n",
       "count    14311.000000  14448.000000  14448.000000   14448.000000   \n",
       "mean       538.260709   1425.157323    499.508929       3.866667   \n",
       "std        423.577544   1149.580157    383.098390       1.891158   \n",
       "min          1.000000      3.000000      1.000000       0.499900   \n",
       "25%        295.000000    784.000000    279.000000       2.570600   \n",
       "50%        435.000000   1165.000000    410.000000       3.539100   \n",
       "75%        647.000000   1724.000000    604.000000       4.736100   \n",
       "max       6445.000000  35682.000000   6082.000000      15.000100   \n",
       "\n",
       "       median_house_value  \n",
       "count        14448.000000  \n",
       "mean        206824.624516  \n",
       "std         115365.476182  \n",
       "min          14999.000000  \n",
       "25%         119600.000000  \n",
       "50%         180000.000000  \n",
       "75%         263900.000000  \n",
       "max         500001.000000  "
      ]
     },
     "execution_count": 10,
     "metadata": {},
     "output_type": "execute_result"
    }
   ],
   "source": [
    "# describe data numerical\n",
    "df.describe()"
   ]
  },
  {
   "cell_type": "markdown",
   "id": "7d27fa95",
   "metadata": {},
   "source": [
    "Secara keseluruhan tidak ada feature yang bernilai negatif pada deskripsi data kecuali pada fitur longitude. "
   ]
  },
  {
   "cell_type": "markdown",
   "id": "be0775af",
   "metadata": {},
   "source": [
    "### 2.2.4. Categorical Feature"
   ]
  },
  {
   "cell_type": "code",
   "execution_count": 11,
   "id": "e6f86855",
   "metadata": {},
   "outputs": [
    {
     "data": {
      "text/html": [
       "<div>\n",
       "<style scoped>\n",
       "    .dataframe tbody tr th:only-of-type {\n",
       "        vertical-align: middle;\n",
       "    }\n",
       "\n",
       "    .dataframe tbody tr th {\n",
       "        vertical-align: top;\n",
       "    }\n",
       "\n",
       "    .dataframe thead th {\n",
       "        text-align: right;\n",
       "    }\n",
       "</style>\n",
       "<table border=\"1\" class=\"dataframe\">\n",
       "  <thead>\n",
       "    <tr style=\"text-align: right;\">\n",
       "      <th></th>\n",
       "      <th>ocean_proximity</th>\n",
       "    </tr>\n",
       "  </thead>\n",
       "  <tbody>\n",
       "    <tr>\n",
       "      <th>count</th>\n",
       "      <td>14448</td>\n",
       "    </tr>\n",
       "    <tr>\n",
       "      <th>unique</th>\n",
       "      <td>5</td>\n",
       "    </tr>\n",
       "    <tr>\n",
       "      <th>top</th>\n",
       "      <td>&lt;1H OCEAN</td>\n",
       "    </tr>\n",
       "    <tr>\n",
       "      <th>freq</th>\n",
       "      <td>6369</td>\n",
       "    </tr>\n",
       "  </tbody>\n",
       "</table>\n",
       "</div>"
      ],
      "text/plain": [
       "       ocean_proximity\n",
       "count            14448\n",
       "unique               5\n",
       "top          <1H OCEAN\n",
       "freq              6369"
      ]
     },
     "execution_count": 11,
     "metadata": {},
     "output_type": "execute_result"
    }
   ],
   "source": [
    "# describe data kategorical\n",
    "df.describe(include=\"O\")"
   ]
  },
  {
   "cell_type": "markdown",
   "id": "74095bd1",
   "metadata": {},
   "source": [
    "Terdapat 5 unique value pada kategori ocean_proximity dengan data yang mendominasi adalah data dengan kategori 1<H OCEAN, diikuti dengan INLAND, NEAR OCEAN, NEAR BAY dan paling sedikit ISLAND."
   ]
  },
  {
   "cell_type": "code",
   "execution_count": 13,
   "id": "97583e7f",
   "metadata": {},
   "outputs": [
    {
     "data": {
      "image/png": "[encoded data removed]",
      "text/plain": [
       "<Figure size 720x432 with 2 Axes>"
      ]
     },
     "metadata": {
      "needs_background": "light"
     },
     "output_type": "display_data"
    }
   ],
   "source": [
    "# plot longitude dan latitude berdasarkan median_house_value\n",
    "df.plot(kind=\"scatter\",\n",
    "        x=\"longitude\",\n",
    "        y=\"latitude\",\n",
    "        alpha=0.4,\n",
    "       s = df[\"population\"]/50, \n",
    "       c = \"median_house_value\",\n",
    "       cmap='afmhot',\n",
    "       colorbar=True, figsize=(10,6))\n",
    "plt.title(\"Median House Price California\")\n",
    "plt.show()"
   ]
  },
  {
   "cell_type": "code",
   "execution_count": 16,
   "id": "95fbf0c2",
   "metadata": {},
   "outputs": [
    {
     "data": {
      "text/html": [
       "<div>\n",
       "<style scoped>\n",
       "    .dataframe tbody tr th:only-of-type {\n",
       "        vertical-align: middle;\n",
       "    }\n",
       "\n",
       "    .dataframe tbody tr th {\n",
       "        vertical-align: top;\n",
       "    }\n",
       "\n",
       "    .dataframe thead th {\n",
       "        text-align: right;\n",
       "    }\n",
       "</style>\n",
       "<table border=\"1\" class=\"dataframe\">\n",
       "  <thead>\n",
       "    <tr style=\"text-align: right;\">\n",
       "      <th></th>\n",
       "      <th>median_house_value</th>\n",
       "    </tr>\n",
       "    <tr>\n",
       "      <th>ocean_proximity</th>\n",
       "      <th></th>\n",
       "    </tr>\n",
       "  </thead>\n",
       "  <tbody>\n",
       "    <tr>\n",
       "      <th>ISLAND</th>\n",
       "      <td>351100.0</td>\n",
       "    </tr>\n",
       "    <tr>\n",
       "      <th>NEAR BAY</th>\n",
       "      <td>230800.0</td>\n",
       "    </tr>\n",
       "    <tr>\n",
       "      <th>NEAR OCEAN</th>\n",
       "      <td>228600.0</td>\n",
       "    </tr>\n",
       "    <tr>\n",
       "      <th>&lt;1H OCEAN</th>\n",
       "      <td>214800.0</td>\n",
       "    </tr>\n",
       "    <tr>\n",
       "      <th>INLAND</th>\n",
       "      <td>108800.0</td>\n",
       "    </tr>\n",
       "  </tbody>\n",
       "</table>\n",
       "</div>"
      ],
      "text/plain": [
       "                 median_house_value\n",
       "ocean_proximity                    \n",
       "ISLAND                     351100.0\n",
       "NEAR BAY                   230800.0\n",
       "NEAR OCEAN                 228600.0\n",
       "<1H OCEAN                  214800.0\n",
       "INLAND                     108800.0"
      ]
     },
     "execution_count": 16,
     "metadata": {},
     "output_type": "execute_result"
    }
   ],
   "source": [
    "# cek median house value untuk setiap Ocean Proximity\n",
    "df_median_value = df.groupby(by=[\"ocean_proximity\"]).agg({\"median_house_value\":\"median\"}).reset_index()\n",
    "df_median_value.set_index(\"ocean_proximity\").sort_values(\"median_house_value\", ascending=False)"
   ]
  },
  {
   "cell_type": "markdown",
   "id": "cb35e56a",
   "metadata": {},
   "source": [
    "Pada grafik scatterplot yang diatas kita bisa melihat bahwa rumah-rumah dengan lokasi yang dekat dengan garis pantai cenderung memiliki harga yang lebih tinggi daripada yang berada jauh dari garis pantai. Hal tersebut juga dikonfirmasi dengan melihat nilai median house value yang dikelompokan berdasarkan kategori ocean_proximity. "
   ]
  },
  {
   "cell_type": "code",
   "execution_count": 14,
   "id": "11f8f3b5",
   "metadata": {},
   "outputs": [
    {
     "data": {
      "text/html": [
       "<div>\n",
       "<style scoped>\n",
       "    .dataframe tbody tr th:only-of-type {\n",
       "        vertical-align: middle;\n",
       "    }\n",
       "\n",
       "    .dataframe tbody tr th {\n",
       "        vertical-align: top;\n",
       "    }\n",
       "\n",
       "    .dataframe thead th {\n",
       "        text-align: right;\n",
       "    }\n",
       "</style>\n",
       "<table border=\"1\" class=\"dataframe\">\n",
       "  <thead>\n",
       "    <tr style=\"text-align: right;\">\n",
       "      <th></th>\n",
       "      <th>index</th>\n",
       "      <th>ocean_proximity</th>\n",
       "    </tr>\n",
       "  </thead>\n",
       "  <tbody>\n",
       "    <tr>\n",
       "      <th>0</th>\n",
       "      <td>&lt;1H OCEAN</td>\n",
       "      <td>6369</td>\n",
       "    </tr>\n",
       "    <tr>\n",
       "      <th>1</th>\n",
       "      <td>INLAND</td>\n",
       "      <td>4576</td>\n",
       "    </tr>\n",
       "    <tr>\n",
       "      <th>2</th>\n",
       "      <td>NEAR OCEAN</td>\n",
       "      <td>1879</td>\n",
       "    </tr>\n",
       "    <tr>\n",
       "      <th>3</th>\n",
       "      <td>NEAR BAY</td>\n",
       "      <td>1622</td>\n",
       "    </tr>\n",
       "    <tr>\n",
       "      <th>4</th>\n",
       "      <td>ISLAND</td>\n",
       "      <td>2</td>\n",
       "    </tr>\n",
       "  </tbody>\n",
       "</table>\n",
       "</div>"
      ],
      "text/plain": [
       "        index  ocean_proximity\n",
       "0   <1H OCEAN             6369\n",
       "1      INLAND             4576\n",
       "2  NEAR OCEAN             1879\n",
       "3    NEAR BAY             1622\n",
       "4      ISLAND                2"
      ]
     },
     "execution_count": 14,
     "metadata": {},
     "output_type": "execute_result"
    }
   ],
   "source": [
    "op = pd.DataFrame(df[\"ocean_proximity\"].value_counts()).reset_index()\n",
    "op "
   ]
  },
  {
   "cell_type": "code",
   "execution_count": 17,
   "id": "87aeb483",
   "metadata": {},
   "outputs": [
    {
     "data": {
      "image/png": "[encoded data removed]",
      "text/plain": [
       "<Figure size 432x288 with 1 Axes>"
      ]
     },
     "metadata": {
      "needs_background": "light"
     },
     "output_type": "display_data"
    }
   ],
   "source": [
    "# plot lokasi ocean proximity\n",
    "sns.scatterplot(data=df, x=\"longitude\", y=\"latitude\", hue=\"ocean_proximity\")\n",
    "plt.show()"
   ]
  },
  {
   "cell_type": "code",
   "execution_count": 15,
   "id": "91fa8e72",
   "metadata": {},
   "outputs": [
    {
     "data": {
      "image/png": "[encoded data removed]",
      "text/plain": [
       "<Figure size 432x288 with 1 Axes>"
      ]
     },
     "metadata": {
      "needs_background": "light"
     },
     "output_type": "display_data"
    }
   ],
   "source": [
    "# visualiasi data kategorikal \n",
    "ax = sns.barplot(y=op[\"ocean_proximity\"], x=op[\"index\"])\n",
    "ax.bar_label(ax.containers[0])\n",
    "plt.title(\"Count Median House Price By Ocean Proximity\")\n",
    "plt.xlabel(\"Ocean Proximity\")\n",
    "plt.ylabel(\"Count\")\n",
    "plt.show()"
   ]
  },
  {
   "cell_type": "markdown",
   "id": "744f1ad3",
   "metadata": {},
   "source": [
    "Untuk data dengan kategori ISLAND akan dimasukan kedalam kategori NEAR OCEAN karena data dengan kategori yang terlalu sedikit akan bermasalah pada saat proses modeling. Lebih jelasnya pada proses spliting data, data yang terlalu sedikit bisa saja hanya ada pada data train namun tidak ada pada data test, vice versa."
   ]
  },
  {
   "cell_type": "code",
   "execution_count": 25,
   "id": "8874b0f0",
   "metadata": {},
   "outputs": [
    {
     "data": {
      "image/png": "[encoded data removed]",
      "text/plain": [
       "<Figure size 504x504 with 1 Axes>"
      ]
     },
     "metadata": {
      "needs_background": "light"
     },
     "output_type": "display_data"
    }
   ],
   "source": [
    "# Korelasi dari data numerical \n",
    "corr_mat = df.corr().round(2)\n",
    "\n",
    "f, ax = plt.subplots(figsize=(7,7))\n",
    "masking = np.zeros_like(corr_mat,dtype=np.bool)\n",
    "masking[np.triu_indices_from(masking)] = True\n",
    "sns.heatmap(corr_mat,mask=masking,vmin=-1,vmax=1,center=0,square=False,lw=2,annot=True,cbar=False);\n",
    "plt.title(\"Korelasi data numerical \", fontsize = 15 , fontweight = 'bold')\n",
    "plt.show()"
   ]
  },
  {
   "cell_type": "markdown",
   "id": "5b93d930",
   "metadata": {},
   "source": [
    "## 2.3. Data Preprocessing"
   ]
  },
  {
   "cell_type": "markdown",
   "id": "956de07e",
   "metadata": {},
   "source": [
    "Pada proses ini kita akan melakukan cleaning data yang nanti akan digunakan pada modeling dan analisis ketika data sudah clean. Hal yang dapat dilakukan adalah dengan:\n",
    "- Melakukan drop untuk fitur yang tidak memiliki relevansi terhadap permasalahan yang sedang dihadapi.\n",
    "- Melakukan handling terhadap missing value jika dirasa dapat di handling. Jika missing value tidak menjadi masalah kita bisa melakukan drop mising value. Tergantung bagiamana kasus yang ditemukan. \n",
    "\n",
    "Untuk prosesnya kita akan menggunakan dataframe hasil duplikasi dari dataframe yang sebelumnya. "
   ]
  },
  {
   "cell_type": "code",
   "execution_count": 18,
   "id": "5f081e24",
   "metadata": {},
   "outputs": [],
   "source": [
    "# Membuat duplikasi dataframe\n",
    "df_duplicate = df.copy()"
   ]
  },
  {
   "cell_type": "code",
   "execution_count": 19,
   "id": "78bc2825",
   "metadata": {},
   "outputs": [],
   "source": [
    "# memasukan salah satu kelompol minoritas pada ocean proximity\n",
    "df_duplicate[\"ocean_proximity\"]= df_duplicate[\"ocean_proximity\"].apply(lambda x : \"NEAR OCEAN\" if x == \"ISLAND\" else x)"
   ]
  },
  {
   "cell_type": "code",
   "execution_count": 20,
   "id": "5680948c",
   "metadata": {},
   "outputs": [
    {
     "data": {
      "text/plain": [
       "longitude               0\n",
       "latitude                0\n",
       "housing_median_age      0\n",
       "total_rooms             0\n",
       "total_bedrooms        137\n",
       "population              0\n",
       "households              0\n",
       "median_income           0\n",
       "ocean_proximity         0\n",
       "median_house_value      0\n",
       "dtype: int64"
      ]
     },
     "execution_count": 20,
     "metadata": {},
     "output_type": "execute_result"
    }
   ],
   "source": [
    "df_duplicate.isna().sum()"
   ]
  },
  {
   "cell_type": "markdown",
   "id": "bfb7bed9",
   "metadata": {},
   "source": [
    "Dapat dilihat bawah terdapat null value atau missing value pada kolom atau feature total_bedrooms, observasi lanjutan terkait data dilakukan guna mengetahui handling apa yang cocok untuk dataset diatas."
   ]
  },
  {
   "cell_type": "code",
   "execution_count": 21,
   "id": "07fa53f0",
   "metadata": {},
   "outputs": [
    {
     "data": {
      "image/png": "[encoded data removed]",
      "text/plain": [
       "<Figure size 360x360 with 1 Axes>"
      ]
     },
     "metadata": {
      "needs_background": "light"
     },
     "output_type": "display_data"
    }
   ],
   "source": [
    "# cek distibusi kolom total bedrooms\n",
    "sns.displot(df[\"total_bedrooms\"])\n",
    "plt.show()\n",
    "# missing value pada kolom total_bedroom akan di isi dengan nilai median dengan menggunakan simple imputer"
   ]
  },
  {
   "cell_type": "code",
   "execution_count": 22,
   "id": "02bf7189",
   "metadata": {},
   "outputs": [
    {
     "data": {
      "image/png": "[encoded data removed]",
      "text/plain": [
       "<Figure size 432x288 with 1 Axes>"
      ]
     },
     "metadata": {
      "needs_background": "light"
     },
     "output_type": "display_data"
    }
   ],
   "source": [
    "# Missing value heatmap\n",
    "sns.heatmap(df_duplicate.isnull(), cbar=False);"
   ]
  },
  {
   "cell_type": "code",
   "execution_count": 23,
   "id": "095f4ece",
   "metadata": {},
   "outputs": [
    {
     "data": {
      "text/plain": [
       "longitude               0\n",
       "latitude                0\n",
       "housing_median_age      0\n",
       "total_rooms             0\n",
       "total_bedrooms        137\n",
       "population              0\n",
       "households              0\n",
       "median_income           0\n",
       "ocean_proximity         0\n",
       "median_house_value      0\n",
       "dtype: int64"
      ]
     },
     "execution_count": 23,
     "metadata": {},
     "output_type": "execute_result"
    }
   ],
   "source": [
    "# clean dataset\n",
    "df_duplicate.isna().sum()"
   ]
  },
  {
   "cell_type": "markdown",
   "id": "3de35612",
   "metadata": {},
   "source": [
    "Missing value yang ditemui pada dataset hanya ada pada kolom total_bedrooms, ini akan di isi dengan metode simple imputer pada saat modeling. "
   ]
  },
  {
   "cell_type": "code",
   "execution_count": 26,
   "id": "38607afd",
   "metadata": {},
   "outputs": [
    {
     "data": {
      "text/html": [
       "<div>\n",
       "<style scoped>\n",
       "    .dataframe tbody tr th:only-of-type {\n",
       "        vertical-align: middle;\n",
       "    }\n",
       "\n",
       "    .dataframe tbody tr th {\n",
       "        vertical-align: top;\n",
       "    }\n",
       "\n",
       "    .dataframe thead th {\n",
       "        text-align: right;\n",
       "    }\n",
       "</style>\n",
       "<table border=\"1\" class=\"dataframe\">\n",
       "  <thead>\n",
       "    <tr style=\"text-align: right;\">\n",
       "      <th></th>\n",
       "      <th>longitude</th>\n",
       "      <th>latitude</th>\n",
       "      <th>housing_median_age</th>\n",
       "      <th>total_rooms</th>\n",
       "      <th>total_bedrooms</th>\n",
       "      <th>population</th>\n",
       "      <th>households</th>\n",
       "      <th>median_income</th>\n",
       "      <th>median_house_value</th>\n",
       "    </tr>\n",
       "  </thead>\n",
       "  <tbody>\n",
       "    <tr>\n",
       "      <th>count</th>\n",
       "      <td>14448.000000</td>\n",
       "      <td>14448.000000</td>\n",
       "      <td>14448.000000</td>\n",
       "      <td>14448.000000</td>\n",
       "      <td>14311.000000</td>\n",
       "      <td>14448.000000</td>\n",
       "      <td>14448.000000</td>\n",
       "      <td>14448.000000</td>\n",
       "      <td>14448.000000</td>\n",
       "    </tr>\n",
       "    <tr>\n",
       "      <th>mean</th>\n",
       "      <td>-119.566647</td>\n",
       "      <td>35.630093</td>\n",
       "      <td>28.618702</td>\n",
       "      <td>2640.132683</td>\n",
       "      <td>538.260709</td>\n",
       "      <td>1425.157323</td>\n",
       "      <td>499.508929</td>\n",
       "      <td>3.866667</td>\n",
       "      <td>206824.624516</td>\n",
       "    </tr>\n",
       "    <tr>\n",
       "      <th>std</th>\n",
       "      <td>2.006587</td>\n",
       "      <td>2.140121</td>\n",
       "      <td>12.596694</td>\n",
       "      <td>2191.612441</td>\n",
       "      <td>423.577544</td>\n",
       "      <td>1149.580157</td>\n",
       "      <td>383.098390</td>\n",
       "      <td>1.891158</td>\n",
       "      <td>115365.476182</td>\n",
       "    </tr>\n",
       "    <tr>\n",
       "      <th>min</th>\n",
       "      <td>-124.350000</td>\n",
       "      <td>32.540000</td>\n",
       "      <td>1.000000</td>\n",
       "      <td>2.000000</td>\n",
       "      <td>1.000000</td>\n",
       "      <td>3.000000</td>\n",
       "      <td>1.000000</td>\n",
       "      <td>0.499900</td>\n",
       "      <td>14999.000000</td>\n",
       "    </tr>\n",
       "    <tr>\n",
       "      <th>25%</th>\n",
       "      <td>-121.800000</td>\n",
       "      <td>33.930000</td>\n",
       "      <td>18.000000</td>\n",
       "      <td>1451.000000</td>\n",
       "      <td>295.000000</td>\n",
       "      <td>784.000000</td>\n",
       "      <td>279.000000</td>\n",
       "      <td>2.570600</td>\n",
       "      <td>119600.000000</td>\n",
       "    </tr>\n",
       "    <tr>\n",
       "      <th>50%</th>\n",
       "      <td>-118.490000</td>\n",
       "      <td>34.260000</td>\n",
       "      <td>29.000000</td>\n",
       "      <td>2125.000000</td>\n",
       "      <td>435.000000</td>\n",
       "      <td>1165.000000</td>\n",
       "      <td>410.000000</td>\n",
       "      <td>3.539100</td>\n",
       "      <td>180000.000000</td>\n",
       "    </tr>\n",
       "    <tr>\n",
       "      <th>75%</th>\n",
       "      <td>-118.000000</td>\n",
       "      <td>37.710000</td>\n",
       "      <td>37.000000</td>\n",
       "      <td>3148.000000</td>\n",
       "      <td>647.000000</td>\n",
       "      <td>1724.000000</td>\n",
       "      <td>604.000000</td>\n",
       "      <td>4.736100</td>\n",
       "      <td>263900.000000</td>\n",
       "    </tr>\n",
       "    <tr>\n",
       "      <th>max</th>\n",
       "      <td>-114.310000</td>\n",
       "      <td>41.950000</td>\n",
       "      <td>52.000000</td>\n",
       "      <td>32627.000000</td>\n",
       "      <td>6445.000000</td>\n",
       "      <td>35682.000000</td>\n",
       "      <td>6082.000000</td>\n",
       "      <td>15.000100</td>\n",
       "      <td>500001.000000</td>\n",
       "    </tr>\n",
       "  </tbody>\n",
       "</table>\n",
       "</div>"
      ],
      "text/plain": [
       "          longitude      latitude  housing_median_age   total_rooms  \\\n",
       "count  14448.000000  14448.000000        14448.000000  14448.000000   \n",
       "mean    -119.566647     35.630093           28.618702   2640.132683   \n",
       "std        2.006587      2.140121           12.596694   2191.612441   \n",
       "min     -124.350000     32.540000            1.000000      2.000000   \n",
       "25%     -121.800000     33.930000           18.000000   1451.000000   \n",
       "50%     -118.490000     34.260000           29.000000   2125.000000   \n",
       "75%     -118.000000     37.710000           37.000000   3148.000000   \n",
       "max     -114.310000     41.950000           52.000000  32627.000000   \n",
       "\n",
       "       total_bedrooms    population    households  median_income  \\\n",
       "count    14311.000000  14448.000000  14448.000000   14448.000000   \n",
       "mean       538.260709   1425.157323    499.508929       3.866667   \n",
       "std        423.577544   1149.580157    383.098390       1.891158   \n",
       "min          1.000000      3.000000      1.000000       0.499900   \n",
       "25%        295.000000    784.000000    279.000000       2.570600   \n",
       "50%        435.000000   1165.000000    410.000000       3.539100   \n",
       "75%        647.000000   1724.000000    604.000000       4.736100   \n",
       "max       6445.000000  35682.000000   6082.000000      15.000100   \n",
       "\n",
       "       median_house_value  \n",
       "count        14448.000000  \n",
       "mean        206824.624516  \n",
       "std         115365.476182  \n",
       "min          14999.000000  \n",
       "25%         119600.000000  \n",
       "50%         180000.000000  \n",
       "75%         263900.000000  \n",
       "max         500001.000000  "
      ]
     },
     "execution_count": 26,
     "metadata": {},
     "output_type": "execute_result"
    }
   ],
   "source": [
    "df_duplicate.describe()"
   ]
  },
  {
   "cell_type": "code",
   "execution_count": 27,
   "id": "e8dc664b",
   "metadata": {},
   "outputs": [
    {
     "data": {
      "text/html": [
       "<div>\n",
       "<style scoped>\n",
       "    .dataframe tbody tr th:only-of-type {\n",
       "        vertical-align: middle;\n",
       "    }\n",
       "\n",
       "    .dataframe tbody tr th {\n",
       "        vertical-align: top;\n",
       "    }\n",
       "\n",
       "    .dataframe thead th {\n",
       "        text-align: right;\n",
       "    }\n",
       "</style>\n",
       "<table border=\"1\" class=\"dataframe\">\n",
       "  <thead>\n",
       "    <tr style=\"text-align: right;\">\n",
       "      <th></th>\n",
       "      <th>ocean_proximity</th>\n",
       "    </tr>\n",
       "  </thead>\n",
       "  <tbody>\n",
       "    <tr>\n",
       "      <th>count</th>\n",
       "      <td>14448</td>\n",
       "    </tr>\n",
       "    <tr>\n",
       "      <th>unique</th>\n",
       "      <td>4</td>\n",
       "    </tr>\n",
       "    <tr>\n",
       "      <th>top</th>\n",
       "      <td>&lt;1H OCEAN</td>\n",
       "    </tr>\n",
       "    <tr>\n",
       "      <th>freq</th>\n",
       "      <td>6369</td>\n",
       "    </tr>\n",
       "  </tbody>\n",
       "</table>\n",
       "</div>"
      ],
      "text/plain": [
       "       ocean_proximity\n",
       "count            14448\n",
       "unique               4\n",
       "top          <1H OCEAN\n",
       "freq              6369"
      ]
     },
     "execution_count": 27,
     "metadata": {},
     "output_type": "execute_result"
    }
   ],
   "source": [
    "df_duplicate.describe(include=\"O\")"
   ]
  },
  {
   "cell_type": "code",
   "execution_count": 28,
   "id": "1d22ea67",
   "metadata": {},
   "outputs": [
    {
     "data": {
      "text/html": [
       "<div>\n",
       "<style scoped>\n",
       "    .dataframe tbody tr th:only-of-type {\n",
       "        vertical-align: middle;\n",
       "    }\n",
       "\n",
       "    .dataframe tbody tr th {\n",
       "        vertical-align: top;\n",
       "    }\n",
       "\n",
       "    .dataframe thead th {\n",
       "        text-align: right;\n",
       "    }\n",
       "</style>\n",
       "<table border=\"1\" class=\"dataframe\">\n",
       "  <thead>\n",
       "    <tr style=\"text-align: right;\">\n",
       "      <th></th>\n",
       "      <th>longitude</th>\n",
       "      <th>latitude</th>\n",
       "      <th>housing_median_age</th>\n",
       "      <th>total_rooms</th>\n",
       "      <th>total_bedrooms</th>\n",
       "      <th>population</th>\n",
       "      <th>households</th>\n",
       "      <th>median_income</th>\n",
       "      <th>ocean_proximity</th>\n",
       "      <th>median_house_value</th>\n",
       "    </tr>\n",
       "  </thead>\n",
       "  <tbody>\n",
       "    <tr>\n",
       "      <th>0</th>\n",
       "      <td>-119.79</td>\n",
       "      <td>36.73</td>\n",
       "      <td>52.0</td>\n",
       "      <td>112.0</td>\n",
       "      <td>28.0</td>\n",
       "      <td>193.0</td>\n",
       "      <td>40.0</td>\n",
       "      <td>1.9750</td>\n",
       "      <td>INLAND</td>\n",
       "      <td>47500.0</td>\n",
       "    </tr>\n",
       "    <tr>\n",
       "      <th>1</th>\n",
       "      <td>-122.21</td>\n",
       "      <td>37.77</td>\n",
       "      <td>43.0</td>\n",
       "      <td>1017.0</td>\n",
       "      <td>328.0</td>\n",
       "      <td>836.0</td>\n",
       "      <td>277.0</td>\n",
       "      <td>2.2604</td>\n",
       "      <td>NEAR BAY</td>\n",
       "      <td>100000.0</td>\n",
       "    </tr>\n",
       "    <tr>\n",
       "      <th>2</th>\n",
       "      <td>-118.04</td>\n",
       "      <td>33.87</td>\n",
       "      <td>17.0</td>\n",
       "      <td>2358.0</td>\n",
       "      <td>396.0</td>\n",
       "      <td>1387.0</td>\n",
       "      <td>364.0</td>\n",
       "      <td>6.2990</td>\n",
       "      <td>&lt;1H OCEAN</td>\n",
       "      <td>285800.0</td>\n",
       "    </tr>\n",
       "    <tr>\n",
       "      <th>3</th>\n",
       "      <td>-118.28</td>\n",
       "      <td>34.06</td>\n",
       "      <td>17.0</td>\n",
       "      <td>2518.0</td>\n",
       "      <td>1196.0</td>\n",
       "      <td>3051.0</td>\n",
       "      <td>1000.0</td>\n",
       "      <td>1.7199</td>\n",
       "      <td>&lt;1H OCEAN</td>\n",
       "      <td>175000.0</td>\n",
       "    </tr>\n",
       "    <tr>\n",
       "      <th>4</th>\n",
       "      <td>-119.81</td>\n",
       "      <td>36.73</td>\n",
       "      <td>50.0</td>\n",
       "      <td>772.0</td>\n",
       "      <td>194.0</td>\n",
       "      <td>606.0</td>\n",
       "      <td>167.0</td>\n",
       "      <td>2.2206</td>\n",
       "      <td>INLAND</td>\n",
       "      <td>59200.0</td>\n",
       "    </tr>\n",
       "  </tbody>\n",
       "</table>\n",
       "</div>"
      ],
      "text/plain": [
       "   longitude  latitude  housing_median_age  total_rooms  total_bedrooms  \\\n",
       "0    -119.79     36.73                52.0        112.0            28.0   \n",
       "1    -122.21     37.77                43.0       1017.0           328.0   \n",
       "2    -118.04     33.87                17.0       2358.0           396.0   \n",
       "3    -118.28     34.06                17.0       2518.0          1196.0   \n",
       "4    -119.81     36.73                50.0        772.0           194.0   \n",
       "\n",
       "   population  households  median_income ocean_proximity  median_house_value  \n",
       "0       193.0        40.0         1.9750          INLAND             47500.0  \n",
       "1       836.0       277.0         2.2604        NEAR BAY            100000.0  \n",
       "2      1387.0       364.0         6.2990       <1H OCEAN            285800.0  \n",
       "3      3051.0      1000.0         1.7199       <1H OCEAN            175000.0  \n",
       "4       606.0       167.0         2.2206          INLAND             59200.0  "
      ]
     },
     "execution_count": 28,
     "metadata": {},
     "output_type": "execute_result"
    }
   ],
   "source": [
    "# clean dataset \n",
    "df_duplicate.head()"
   ]
  },
  {
   "cell_type": "markdown",
   "id": "c447fd5d",
   "metadata": {},
   "source": [
    "### Pengecekan outliers\n",
    "Di awal kita sudah menyinggung bahwa kolom median house value dan median house age secara umum terlihat memiliki outliers. Di sini kita akan mengecek outliers tersebut. Banyaknya outliers pada data akan memengaruhi model yang dibuat dan analisis. Namun handling pada outliers juga perlu dilakukan dengan hati-hati karena harus sesuai dengan tujuan bisnis ataupun domain knowlegde. Pada pemodelan kali ini kita ingin membuat model prediksi yang robust dan memiliki residual erorr yang rendah, maka penghapusan outliers jadi salah satu cara dalam pembuatan model yang diinginkan. "
   ]
  },
  {
   "cell_type": "code",
   "execution_count": 29,
   "id": "4036427b",
   "metadata": {},
   "outputs": [],
   "source": [
    "# fungsi pengecekan ouliers\n",
    "def check_out(x):\n",
    "    q1 = x.quantile(0.25)\n",
    "    q3 = x.quantile(0.75)\n",
    "    IQR = q3 - q1\n",
    "    print(f'IQR :{IQR}')\n",
    "    batas_bawah = q1 - (1.5 * IQR)\n",
    "    batas_atas = q3 + (1.5 * IQR)\n",
    "    print(f'batas_bawah : {batas_bawah}')\n",
    "    print(f'batas_atas : {batas_atas}')"
   ]
  },
  {
   "cell_type": "code",
   "execution_count": 30,
   "id": "6f0d916b",
   "metadata": {},
   "outputs": [],
   "source": [
    "column_ = ['longitude', 'latitude', 'housing_median_age', 'total_rooms',\n",
    "       'total_bedrooms', 'population', 'households', 'median_income',\n",
    "       'median_house_value'] "
   ]
  },
  {
   "cell_type": "code",
   "execution_count": 31,
   "id": "fd1a0ded",
   "metadata": {},
   "outputs": [
    {
     "data": {
      "image/png": "[encoded data removed]",
      "text/plain": [
       "<Figure size 432x288 with 1 Axes>"
      ]
     },
     "metadata": {
      "needs_background": "light"
     },
     "output_type": "display_data"
    },
    {
     "data": {
      "image/png": "[encoded data removed]",
      "text/plain": [
       "<Figure size 432x288 with 1 Axes>"
      ]
     },
     "metadata": {
      "needs_background": "light"
     },
     "output_type": "display_data"
    },
    {
     "data": {
      "image/png": "[encoded data removed]",
      "text/plain": [
       "<Figure size 432x288 with 1 Axes>"
      ]
     },
     "metadata": {
      "needs_background": "light"
     },
     "output_type": "display_data"
    },
    {
     "data": {
      "image/png": "[encoded data removed]",
      "text/plain": [
       "<Figure size 432x288 with 1 Axes>"
      ]
     },
     "metadata": {
      "needs_background": "light"
     },
     "output_type": "display_data"
    },
    {
     "data": {
      "image/png": "[encoded data removed]",
      "text/plain": [
       "<Figure size 432x288 with 1 Axes>"
      ]
     },
     "metadata": {
      "needs_background": "light"
     },
     "output_type": "display_data"
    },
    {
     "data": {
      "image/png": "[encoded data removed]",
      "text/plain": [
       "<Figure size 432x288 with 1 Axes>"
      ]
     },
     "metadata": {
      "needs_background": "light"
     },
     "output_type": "display_data"
    },
    {
     "data": {
      "image/png": "[encoded data removed]",
      "text/plain": [
       "<Figure size 432x288 with 1 Axes>"
      ]
     },
     "metadata": {
      "needs_background": "light"
     },
     "output_type": "display_data"
    },
    {
     "data": {
      "image/png": "[encoded data removed]",
      "text/plain": [
       "<Figure size 432x288 with 1 Axes>"
      ]
     },
     "metadata": {
      "needs_background": "light"
     },
     "output_type": "display_data"
    },
    {
     "data": {
      "image/png": "[encoded data removed]",
      "text/plain": [
       "<Figure size 432x288 with 1 Axes>"
      ]
     },
     "metadata": {
      "needs_background": "light"
     },
     "output_type": "display_data"
    }
   ],
   "source": [
    "column_ = ['longitude', 'latitude', 'housing_median_age', 'total_rooms',\n",
    "       'total_bedrooms', 'population', 'households', 'median_income',\n",
    "       'median_house_value'] \n",
    "for column in column_:\n",
    "    plt.figure()\n",
    "    sns.boxplot(data= df_duplicate, x = column)\n",
    "    plt.show()"
   ]
  },
  {
   "cell_type": "code",
   "execution_count": 32,
   "id": "119adbf4",
   "metadata": {},
   "outputs": [
    {
     "data": {
      "image/png": "[encoded data removed]",
      "text/plain": [
       "<Figure size 864x720 with 9 Axes>"
      ]
     },
     "metadata": {
      "needs_background": "light"
     },
     "output_type": "display_data"
    }
   ],
   "source": [
    "df_duplicate.hist(figsize=(12, 10), bins=50)\n",
    "plt.subplots_adjust(hspace=0.7, wspace=0.4)\n",
    "plt.show()"
   ]
  },
  {
   "cell_type": "markdown",
   "id": "78abaf4e",
   "metadata": {},
   "source": [
    "Penghapusan nilai outliers didasarkan pada plot distribusi yang ada pada histogram di atas dan pada boxplot, nilai yang dianggap terlalu ekstrim atau dapat memengaruhi error pada model akan dihapus."
   ]
  },
  {
   "cell_type": "code",
   "execution_count": 33,
   "id": "6ba9b343",
   "metadata": {},
   "outputs": [],
   "source": [
    "# drop outliers\n",
    "df_no_out = df_duplicate[df_duplicate[\"housing_median_age\"] <= 50] # data dengan housing median age di atas 50 tahun akan dihapus\n",
    "df_no_out = df_no_out[df_no_out[\"total_rooms\"] <= 10000] # data dengan total rooms di atas 50000 akan dihapus\n",
    "df_no_out = df_no_out[df_no_out[\"total_bedrooms\"] <= 2000] # data dengan total bedrooms di atas 2000 akan di hapus\n",
    "df_no_out = df_no_out[df_no_out[\"population\"] <= 6000] # data dengan population di atas 10000 akan dihapus \n",
    "df_no_out = df_no_out[df_no_out[\"households\"] <= 2000] # data dengan househhold di atas 2000 akan dihapus\n",
    "df_no_out = df_no_out[df_no_out[\"median_income\"] <= 10] # data dengan median_income di atas 10 USD akan dihapus\n",
    "df_no_out = df_no_out[df_no_out[\"median_house_value\"] <= 500000] # data dengan median house valu 500000 USD akan dihapus"
   ]
  },
  {
   "cell_type": "markdown",
   "id": "acac2dd0",
   "metadata": {},
   "source": [
    "Drop outlier ini juga membuat limitasi pada model yang dibuat:\n",
    "* Umur bangunan maksimmal adalah 50 tahun \n",
    "* Total rooms paling banyak dalam satu blok adalah 10000\n",
    "* Total bedrooms maksimal dalam satu blok adalah 2000\n",
    "* Total population dalam satu blok maksimal 6000\n",
    "* Total household dalam satu blok maksimal 2000\n",
    "* Median income paling banyak dalam satu blok adalah 10 USD\n",
    "* Median house value paling banyak adalah 500.000 USD"
   ]
  },
  {
   "cell_type": "code",
   "execution_count": 34,
   "id": "bd947ce7",
   "metadata": {},
   "outputs": [
    {
     "data": {
      "image/png": "[encoded data removed]",
      "text/plain": [
       "<Figure size 864x720 with 9 Axes>"
      ]
     },
     "metadata": {
      "needs_background": "light"
     },
     "output_type": "display_data"
    }
   ],
   "source": [
    "df_no_out.hist(figsize=(12, 10), bins=50)\n",
    "plt.subplots_adjust(hspace=0.7, wspace=0.4)\n",
    "plt.show()"
   ]
  },
  {
   "cell_type": "markdown",
   "id": "048e95f6",
   "metadata": {},
   "source": [
    "Dapat dilihat bahwa data sudah tidak memiliki banyak outliers"
   ]
  },
  {
   "cell_type": "code",
   "execution_count": 35,
   "id": "61c2e560",
   "metadata": {},
   "outputs": [],
   "source": [
    "df_no_out.reset_index(drop=True, inplace=True)"
   ]
  },
  {
   "cell_type": "code",
   "execution_count": 36,
   "id": "5abd6002",
   "metadata": {},
   "outputs": [],
   "source": [
    "# Dataset clean dengan handling outliers\n",
    "df_clean_no_out = df_no_out.copy()"
   ]
  },
  {
   "cell_type": "markdown",
   "id": "843badf7",
   "metadata": {},
   "source": [
    "# 3. Modelling"
   ]
  },
  {
   "cell_type": "code",
   "execution_count": 37,
   "id": "42381df1",
   "metadata": {},
   "outputs": [],
   "source": [
    "# Import library untuk modeling\n",
    "\n",
    "from sklearn.model_selection import train_test_split, cross_val_score, RandomizedSearchCV, GridSearchCV, KFold\n",
    "\n",
    "import category_encoders as ce\n",
    "from sklearn.preprocessing import OneHotEncoder\n",
    "from sklearn.compose import ColumnTransformer\n",
    "from sklearn.pipeline import Pipeline\n",
    "\n",
    "from sklearn.svm import LinearSVR\n",
    "from sklearn.linear_model import LinearRegression\n",
    "from sklearn.neighbors import KNeighborsRegressor\n",
    "from sklearn.tree import DecisionTreeRegressor\n",
    "from sklearn.ensemble import RandomForestRegressor\n",
    "from xgboost.sklearn import XGBRegressor\n",
    "from sklearn.linear_model import SGDRegressor\n",
    "from sklearn.compose import TransformedTargetRegressor\n",
    "\n",
    "from sklearn.preprocessing import StandardScaler\n",
    "\n",
    "from sklearn.metrics import r2_score, mean_squared_error, mean_absolute_error, mean_absolute_percentage_error"
   ]
  },
  {
   "cell_type": "markdown",
   "id": "3a420060",
   "metadata": {},
   "source": [
    "## 3.1. Encoding"
   ]
  },
  {
   "cell_type": "markdown",
   "id": "fea977f4",
   "metadata": {},
   "source": [
    "Fitur yang digunakanan dalam model machine learning harus berupa angka numerika, maka fitur-fitur yang masih berupa categorical harus kita transform ke dalam data numerikal. Kita akan menggunakan ColumnTransformer untuk mengubah tipe data categorical menjadi numerikal, kolom yang akan di encode adalah `ocean_proximity`. ColumnTransformer ini nantinya akan di gunakan dalam pipeline model."
   ]
  },
  {
   "cell_type": "code",
   "execution_count": 38,
   "id": "ae5852e9",
   "metadata": {},
   "outputs": [
    {
     "data": {
      "application/javascript": [
       "\n",
       "        if (window._pyforest_update_imports_cell) { window._pyforest_update_imports_cell('from sklearn.impute import SimpleImputer'); }\n",
       "    "
      ],
      "text/plain": [
       "<IPython.core.display.Javascript object>"
      ]
     },
     "metadata": {},
     "output_type": "display_data"
    }
   ],
   "source": [
    "# mengubah fitur kategorical menjadi numerikal dengan menggunakan column transformer\n",
    "transformer = ColumnTransformer([\n",
    "    (\"input\", SimpleImputer(strategy=\"median\"), [\"total_bedrooms\"]),\n",
    "    (\"ohe_ocean\", OneHotEncoder(drop=\"first\"), [\"ocean_proximity\"])\n",
    "], remainder=\"passthrough\")"
   ]
  },
  {
   "cell_type": "markdown",
   "id": "c0d8d543",
   "metadata": {},
   "source": [
    "## 3.2. Splitting Data"
   ]
  },
  {
   "cell_type": "code",
   "execution_count": 39,
   "id": "bc5144d0",
   "metadata": {},
   "outputs": [],
   "source": [
    "# Memisahkan data features dengan target\n",
    "x = df_clean_no_out.drop(columns=\"median_house_value\") # target \n",
    "y = df_clean_no_out[\"median_house_value\"] # feature "
   ]
  },
  {
   "cell_type": "code",
   "execution_count": 40,
   "id": "8ac2152d",
   "metadata": {},
   "outputs": [],
   "source": [
    "# Splitting data training dan test\n",
    "x_train, x_test, y_train, y_test = train_test_split(x, \n",
    "                                                    y, \n",
    "                                                    test_size=0.2, # test size 20%\n",
    "                                                    random_state=1)"
   ]
  },
  {
   "cell_type": "markdown",
   "id": "f90e5831",
   "metadata": {},
   "source": [
    "## 3.3. Memilih Model Benchmark"
   ]
  },
  {
   "cell_type": "code",
   "execution_count": 41,
   "id": "0d2b4d9d",
   "metadata": {},
   "outputs": [
    {
     "data": {
      "application/javascript": [
       "\n",
       "        if (window._pyforest_update_imports_cell) { window._pyforest_update_imports_cell('from sklearn.linear_model import Ridge\\nfrom sklearn.impute import SimpleImputer'); }\n",
       "    "
      ],
      "text/plain": [
       "<IPython.core.display.Javascript object>"
      ]
     },
     "metadata": {},
     "output_type": "display_data"
    },
    {
     "data": {
      "application/javascript": [
       "\n",
       "        if (window._pyforest_update_imports_cell) { window._pyforest_update_imports_cell('from sklearn.linear_model import Lasso\\nfrom sklearn.linear_model import Ridge\\nfrom sklearn.impute import SimpleImputer'); }\n",
       "    "
      ],
      "text/plain": [
       "<IPython.core.display.Javascript object>"
      ]
     },
     "metadata": {},
     "output_type": "display_data"
    },
    {
     "data": {
      "application/javascript": [
       "\n",
       "        if (window._pyforest_update_imports_cell) { window._pyforest_update_imports_cell('from sklearn.model_selection import StratifiedKFold\\nfrom sklearn.linear_model import Lasso\\nfrom sklearn.linear_model import Ridge\\nfrom sklearn.impute import SimpleImputer'); }\n",
       "    "
      ],
      "text/plain": [
       "<IPython.core.display.Javascript object>"
      ]
     },
     "metadata": {},
     "output_type": "display_data"
    },
    {
     "name": "stdout",
     "output_type": "stream",
     "text": [
      "[-59545.79470907 -60879.38313951 -59935.32605632 -59895.93076407\n",
      " -59264.16565858] TransformedTargetRegressor(func=<ufunc 'log'>, inverse_func=<ufunc 'exp'>,\n",
      "                           regressor=LinearRegression())\n",
      "[-42104.00131324 -41759.53199386 -41489.70208937 -41746.27554511\n",
      " -41721.21591267] TransformedTargetRegressor(func=<ufunc 'log'>, inverse_func=<ufunc 'exp'>,\n",
      "                           regressor=LinearRegression())\n",
      "[-0.24110579 -0.24631789 -0.23661658 -0.23465801 -0.23691862] TransformedTargetRegressor(func=<ufunc 'log'>, inverse_func=<ufunc 'exp'>,\n",
      "                           regressor=LinearRegression())\n"
     ]
    },
    {
     "data": {
      "application/javascript": [
       "\n",
       "        if (window._pyforest_update_imports_cell) { window._pyforest_update_imports_cell('from sklearn.model_selection import StratifiedKFold\\nfrom sklearn.linear_model import Lasso\\nfrom sklearn.linear_model import Ridge\\nfrom sklearn.impute import SimpleImputer'); }\n",
       "    "
      ],
      "text/plain": [
       "<IPython.core.display.Javascript object>"
      ]
     },
     "metadata": {},
     "output_type": "display_data"
    },
    {
     "name": "stdout",
     "output_type": "stream",
     "text": [
      "[-54436.50827805 -56333.30922729 -56321.52505014 -56910.87603906\n",
      " -55099.99657961] TransformedTargetRegressor(func=<ufunc 'log'>, inverse_func=<ufunc 'exp'>,\n",
      "                           regressor=KNeighborsRegressor())\n",
      "[-37576.03768761 -37621.46801268 -37784.27686846 -38692.00217334\n",
      " -37474.57099776] TransformedTargetRegressor(func=<ufunc 'log'>, inverse_func=<ufunc 'exp'>,\n",
      "                           regressor=KNeighborsRegressor())\n",
      "[-0.21242628 -0.21508919 -0.21327226 -0.21259049 -0.20640715] TransformedTargetRegressor(func=<ufunc 'log'>, inverse_func=<ufunc 'exp'>,\n",
      "                           regressor=KNeighborsRegressor())\n"
     ]
    },
    {
     "data": {
      "application/javascript": [
       "\n",
       "        if (window._pyforest_update_imports_cell) { window._pyforest_update_imports_cell('from sklearn.model_selection import StratifiedKFold\\nfrom sklearn.linear_model import Lasso\\nfrom sklearn.linear_model import Ridge\\nfrom sklearn.impute import SimpleImputer'); }\n",
       "    "
      ],
      "text/plain": [
       "<IPython.core.display.Javascript object>"
      ]
     },
     "metadata": {},
     "output_type": "display_data"
    },
    {
     "name": "stdout",
     "output_type": "stream",
     "text": [
      "[-64015.65263348 -66242.05381803 -64901.9417643  -64100.65555272\n",
      " -66127.35341286] TransformedTargetRegressor(func=<ufunc 'log'>, inverse_func=<ufunc 'exp'>,\n",
      "                           regressor=DecisionTreeRegressor(random_state=1))\n",
      "[-42627.66218905 -43263.63233831 -42981.34328358 -43268.40845771\n",
      " -44231.65853659] TransformedTargetRegressor(func=<ufunc 'log'>, inverse_func=<ufunc 'exp'>,\n",
      "                           regressor=DecisionTreeRegressor(random_state=1))\n",
      "[-0.24371425 -0.25931943 -0.2531273  -0.24674445 -0.25020666] TransformedTargetRegressor(func=<ufunc 'log'>, inverse_func=<ufunc 'exp'>,\n",
      "                           regressor=DecisionTreeRegressor(random_state=1))\n"
     ]
    },
    {
     "data": {
      "application/javascript": [
       "\n",
       "        if (window._pyforest_update_imports_cell) { window._pyforest_update_imports_cell('from sklearn.model_selection import StratifiedKFold\\nfrom sklearn.linear_model import Lasso\\nfrom sklearn.linear_model import Ridge\\nfrom sklearn.impute import SimpleImputer'); }\n",
       "    "
      ],
      "text/plain": [
       "<IPython.core.display.Javascript object>"
      ]
     },
     "metadata": {},
     "output_type": "display_data"
    },
    {
     "name": "stdout",
     "output_type": "stream",
     "text": [
      "[-46930.72564334 -48367.72492376 -48279.41652262 -46126.01791369\n",
      " -47064.10526056] TransformedTargetRegressor(func=<ufunc 'log'>, inverse_func=<ufunc 'exp'>,\n",
      "                           regressor=RandomForestRegressor(random_state=1))\n",
      "[-31249.57380591 -31128.19658838 -30969.44993641 -30129.84037424\n",
      " -30926.0736536 ] TransformedTargetRegressor(func=<ufunc 'log'>, inverse_func=<ufunc 'exp'>,\n",
      "                           regressor=RandomForestRegressor(random_state=1))\n",
      "[-0.17387316 -0.18085848 -0.17563978 -0.1670483  -0.1699683 ] TransformedTargetRegressor(func=<ufunc 'log'>, inverse_func=<ufunc 'exp'>,\n",
      "                           regressor=RandomForestRegressor(random_state=1))\n"
     ]
    },
    {
     "data": {
      "application/javascript": [
       "\n",
       "        if (window._pyforest_update_imports_cell) { window._pyforest_update_imports_cell('from sklearn.model_selection import StratifiedKFold\\nfrom sklearn.linear_model import Lasso\\nfrom sklearn.linear_model import Ridge\\nfrom sklearn.impute import SimpleImputer'); }\n",
       "    "
      ],
      "text/plain": [
       "<IPython.core.display.Javascript object>"
      ]
     },
     "metadata": {},
     "output_type": "display_data"
    },
    {
     "name": "stdout",
     "output_type": "stream",
     "text": [
      "[-44597.68732335 -47290.00965341 -45831.23392571 -44834.3731872\n",
      " -43702.30564098] TransformedTargetRegressor(func=<ufunc 'log'>, inverse_func=<ufunc 'exp'>,\n",
      "                           regressor=XGBRegressor(base_score=None, booster=None,\n",
      "                                                  callbacks=None,\n",
      "                                                  colsample_bylevel=None,\n",
      "                                                  colsample_bynode=None,\n",
      "                                                  colsample_bytree=None,\n",
      "                                                  early_stopping_rounds=None,\n",
      "                                                  enable_categorical=False,\n",
      "                                                  eval_metric=None,\n",
      "                                                  feature_types=None,\n",
      "                                                  gamma=None, gpu_id=None,\n",
      "                                                  grow_policy=None,\n",
      "                                                  importance_type=None,\n",
      "                                                  interaction_constraints=None,\n",
      "                                                  learning_rate=None,\n",
      "                                                  max_bin=None,\n",
      "                                                  max_cat_threshold=None,\n",
      "                                                  max_cat_to_onehot=None,\n",
      "                                                  max_delta_step=None,\n",
      "                                                  max_depth=None,\n",
      "                                                  max_leaves=None,\n",
      "                                                  min_child_weight=None,\n",
      "                                                  missing=nan,\n",
      "                                                  monotone_constraints=None,\n",
      "                                                  n_estimators=100, n_jobs=None,\n",
      "                                                  num_parallel_tree=None,\n",
      "                                                  predictor=None,\n",
      "                                                  random_state=1, ...))\n",
      "[-29944.45900575 -30694.35355061 -29971.24375194 -29709.23776625\n",
      " -28986.34160876] TransformedTargetRegressor(func=<ufunc 'log'>, inverse_func=<ufunc 'exp'>,\n",
      "                           regressor=XGBRegressor(base_score=None, booster=None,\n",
      "                                                  callbacks=None,\n",
      "                                                  colsample_bylevel=None,\n",
      "                                                  colsample_bynode=None,\n",
      "                                                  colsample_bytree=None,\n",
      "                                                  early_stopping_rounds=None,\n",
      "                                                  enable_categorical=False,\n",
      "                                                  eval_metric=None,\n",
      "                                                  feature_types=None,\n",
      "                                                  gamma=None, gpu_id=None,\n",
      "                                                  grow_policy=None,\n",
      "                                                  importance_type=None,\n",
      "                                                  interaction_constraints=None,\n",
      "                                                  learning_rate=None,\n",
      "                                                  max_bin=None,\n",
      "                                                  max_cat_threshold=None,\n",
      "                                                  max_cat_to_onehot=None,\n",
      "                                                  max_delta_step=None,\n",
      "                                                  max_depth=None,\n",
      "                                                  max_leaves=None,\n",
      "                                                  min_child_weight=None,\n",
      "                                                  missing=nan,\n",
      "                                                  monotone_constraints=None,\n",
      "                                                  n_estimators=100, n_jobs=None,\n",
      "                                                  num_parallel_tree=None,\n",
      "                                                  predictor=None,\n",
      "                                                  random_state=1, ...))\n",
      "[-0.16851835 -0.18171662 -0.16980662 -0.16469233 -0.16188152] TransformedTargetRegressor(func=<ufunc 'log'>, inverse_func=<ufunc 'exp'>,\n",
      "                           regressor=XGBRegressor(base_score=None, booster=None,\n",
      "                                                  callbacks=None,\n",
      "                                                  colsample_bylevel=None,\n",
      "                                                  colsample_bynode=None,\n",
      "                                                  colsample_bytree=None,\n",
      "                                                  early_stopping_rounds=None,\n",
      "                                                  enable_categorical=False,\n",
      "                                                  eval_metric=None,\n",
      "                                                  feature_types=None,\n",
      "                                                  gamma=None, gpu_id=None,\n",
      "                                                  grow_policy=None,\n",
      "                                                  importance_type=None,\n",
      "                                                  interaction_constraints=None,\n",
      "                                                  learning_rate=None,\n",
      "                                                  max_bin=None,\n",
      "                                                  max_cat_threshold=None,\n",
      "                                                  max_cat_to_onehot=None,\n",
      "                                                  max_delta_step=None,\n",
      "                                                  max_depth=None,\n",
      "                                                  max_leaves=None,\n",
      "                                                  min_child_weight=None,\n",
      "                                                  missing=nan,\n",
      "                                                  monotone_constraints=None,\n",
      "                                                  n_estimators=100, n_jobs=None,\n",
      "                                                  num_parallel_tree=None,\n",
      "                                                  predictor=None,\n",
      "                                                  random_state=1, ...))\n"
     ]
    },
    {
     "data": {
      "application/javascript": [
       "\n",
       "        if (window._pyforest_update_imports_cell) { window._pyforest_update_imports_cell('from sklearn.model_selection import StratifiedKFold\\nfrom sklearn.linear_model import Lasso\\nfrom sklearn.linear_model import Ridge\\nfrom sklearn.impute import SimpleImputer'); }\n",
       "    "
      ],
      "text/plain": [
       "<IPython.core.display.Javascript object>"
      ]
     },
     "metadata": {},
     "output_type": "display_data"
    },
    {
     "name": "stdout",
     "output_type": "stream",
     "text": [
      "[-59551.17848613 -60876.47653016 -59932.02939956 -59898.67117718\n",
      " -59265.06036891] TransformedTargetRegressor(func=<ufunc 'log'>, inverse_func=<ufunc 'exp'>,\n",
      "                           regressor=Ridge())\n",
      "[-42107.55192336 -41758.84746406 -41490.00401519 -41746.68735786\n",
      " -41722.39447876] TransformedTargetRegressor(func=<ufunc 'log'>, inverse_func=<ufunc 'exp'>,\n",
      "                           regressor=Ridge())\n",
      "[-0.24111597 -0.24631667 -0.23660926 -0.23465403 -0.23691881] TransformedTargetRegressor(func=<ufunc 'log'>, inverse_func=<ufunc 'exp'>,\n",
      "                           regressor=Ridge())\n"
     ]
    },
    {
     "data": {
      "application/javascript": [
       "\n",
       "        if (window._pyforest_update_imports_cell) { window._pyforest_update_imports_cell('from sklearn.model_selection import StratifiedKFold\\nfrom sklearn.linear_model import Lasso\\nfrom sklearn.linear_model import Ridge\\nfrom sklearn.impute import SimpleImputer'); }\n",
       "    "
      ],
      "text/plain": [
       "<IPython.core.display.Javascript object>"
      ]
     },
     "metadata": {},
     "output_type": "display_data"
    },
    {
     "name": "stdout",
     "output_type": "stream",
     "text": [
      "[-101282.33649606  -98882.33837809  -96918.34503583  -97153.72682827\n",
      "  -97078.62653351] TransformedTargetRegressor(func=<ufunc 'log'>, inverse_func=<ufunc 'exp'>,\n",
      "                           regressor=Lasso())\n",
      "[-77329.3597564  -75814.82404936 -73961.21826348 -73355.96612673\n",
      " -73840.54887505] TransformedTargetRegressor(func=<ufunc 'log'>, inverse_func=<ufunc 'exp'>,\n",
      "                           regressor=Lasso())\n",
      "[-0.48974055 -0.49794987 -0.47708666 -0.46714217 -0.47865951] TransformedTargetRegressor(func=<ufunc 'log'>, inverse_func=<ufunc 'exp'>,\n",
      "                           regressor=Lasso())\n"
     ]
    },
    {
     "data": {
      "application/javascript": [
       "\n",
       "        if (window._pyforest_update_imports_cell) { window._pyforest_update_imports_cell('from sklearn.model_selection import StratifiedKFold\\nfrom sklearn.linear_model import Lasso\\nfrom sklearn.linear_model import Ridge\\nfrom sklearn.impute import SimpleImputer'); }\n",
       "    "
      ],
      "text/plain": [
       "<IPython.core.display.Javascript object>"
      ]
     },
     "metadata": {},
     "output_type": "display_data"
    },
    {
     "name": "stdout",
     "output_type": "stream",
     "text": [
      "[-59875.79720336 -61429.79584293 -60182.33144163 -60165.34060677\n",
      " -59628.28306897] TransformedTargetRegressor(func=<ufunc 'log'>, inverse_func=<ufunc 'exp'>,\n",
      "                           regressor=LinearSVR())\n",
      "[-41860.79785773 -41711.19640972 -41258.34964137 -41396.89896718\n",
      " -41824.75183193] TransformedTargetRegressor(func=<ufunc 'log'>, inverse_func=<ufunc 'exp'>,\n",
      "                           regressor=LinearSVR())\n",
      "[-0.23681449 -0.24321789 -0.23289167 -0.23032333 -0.23352301] TransformedTargetRegressor(func=<ufunc 'log'>, inverse_func=<ufunc 'exp'>,\n",
      "                           regressor=LinearSVR())\n"
     ]
    }
   ],
   "source": [
    "# Define algoritma yang digunakan \n",
    "lr = LinearRegression()\n",
    "knn = KNeighborsRegressor()\n",
    "dt = DecisionTreeRegressor(random_state=1)\n",
    "rf = RandomForestRegressor(random_state=1)\n",
    "xgb = XGBRegressor(random_state=1)\n",
    "ridge = Ridge()\n",
    "lasso = Lasso()\n",
    "svr = LinearSVR()\n",
    "\n",
    "\n",
    "models = [lr, knn, dt, rf, xgb, ridge, lasso, svr]\n",
    "\n",
    "model_log = []\n",
    "for i in models:\n",
    "    model_log.append(TransformedTargetRegressor(i, func=np.log, inverse_func=np.exp)) # Transform target \n",
    "    \n",
    "\n",
    "# scaling data\n",
    "scaler = StandardScaler()\n",
    "\n",
    "score_rmse = []\n",
    "nilai_mean_rmse = []\n",
    "nilai_std_rmse = []\n",
    "\n",
    "score_mae = []\n",
    "nilai_mean_mae = []\n",
    "nilai_std_mae = []\n",
    "\n",
    "score_mape = []\n",
    "nilai_mean_mape = []\n",
    "nilai_std_mape = []\n",
    "\n",
    "for i in model_log:\n",
    "    skfold = StratifiedKFold(n_splits=5)\n",
    "    \n",
    "    estimator = Pipeline([\n",
    "        (\"preprocess\", transformer),\n",
    "        (\"scaling\", scaler),\n",
    "        (\"model\", i)\n",
    "    ])\n",
    "    \n",
    "    #RMSE \n",
    "    model_cv_rmse = cross_val_score(estimator, x_train, y_train, cv=skfold, scoring=\"neg_root_mean_squared_error\")\n",
    "    print(model_cv_rmse, i)\n",
    "    \n",
    "    score_rmse.append(model_cv_rmse)\n",
    "    nilai_mean_rmse.append(model_cv_rmse.mean())\n",
    "    nilai_std_rmse.append(model_cv_rmse.std())\n",
    "    \n",
    "    #MAE \n",
    "    model_cv_mae = cross_val_score(estimator, x_train, y_train, cv=skfold, scoring=\"neg_mean_absolute_error\")\n",
    "    print(model_cv_mae, i)\n",
    "    \n",
    "    score_mae.append(model_cv_mae)\n",
    "    nilai_mean_mae.append(model_cv_mae.mean())\n",
    "    nilai_std_mae.append(model_cv_mae.std())\n",
    "    \n",
    "    #MAPE \n",
    "    model_cv_mape = cross_val_score(estimator, x_train, y_train, cv=skfold, scoring=\"neg_mean_absolute_percentage_error\")\n",
    "    print(model_cv_mape, i)\n",
    "    \n",
    "    score_mape.append(model_cv_mape)\n",
    "    nilai_mean_mape.append(model_cv_mape.mean())\n",
    "    nilai_std_mape.append(model_cv_mape.std())"
   ]
  },
  {
   "cell_type": "code",
   "execution_count": 42,
   "id": "7ba3c17d",
   "metadata": {},
   "outputs": [
    {
     "data": {
      "text/html": [
       "<div>\n",
       "<style scoped>\n",
       "    .dataframe tbody tr th:only-of-type {\n",
       "        vertical-align: middle;\n",
       "    }\n",
       "\n",
       "    .dataframe tbody tr th {\n",
       "        vertical-align: top;\n",
       "    }\n",
       "\n",
       "    .dataframe thead th {\n",
       "        text-align: right;\n",
       "    }\n",
       "</style>\n",
       "<table border=\"1\" class=\"dataframe\">\n",
       "  <thead>\n",
       "    <tr style=\"text-align: right;\">\n",
       "      <th></th>\n",
       "      <th>Model</th>\n",
       "      <th>Mean_RMSE</th>\n",
       "      <th>Std_RMSE</th>\n",
       "      <th>Mean_MAE</th>\n",
       "      <th>Std_MAE</th>\n",
       "      <th>Mean_MAPE</th>\n",
       "      <th>Std_MAPE</th>\n",
       "    </tr>\n",
       "  </thead>\n",
       "  <tbody>\n",
       "    <tr>\n",
       "      <th>0</th>\n",
       "      <td>Linear Regression</td>\n",
       "      <td>-59904.120066</td>\n",
       "      <td>545.915313</td>\n",
       "      <td>-41764.145371</td>\n",
       "      <td>196.471234</td>\n",
       "      <td>-0.239123</td>\n",
       "      <td>0.004166</td>\n",
       "    </tr>\n",
       "    <tr>\n",
       "      <th>1</th>\n",
       "      <td>KNN Regressor</td>\n",
       "      <td>-55820.443035</td>\n",
       "      <td>909.667803</td>\n",
       "      <td>-37829.671148</td>\n",
       "      <td>442.594630</td>\n",
       "      <td>-0.211957</td>\n",
       "      <td>0.002931</td>\n",
       "    </tr>\n",
       "    <tr>\n",
       "      <th>2</th>\n",
       "      <td>DecisionTree Regressor</td>\n",
       "      <td>-65077.531436</td>\n",
       "      <td>956.132143</td>\n",
       "      <td>-43274.540961</td>\n",
       "      <td>533.038025</td>\n",
       "      <td>-0.250622</td>\n",
       "      <td>0.005382</td>\n",
       "    </tr>\n",
       "    <tr>\n",
       "      <th>3</th>\n",
       "      <td>RandomForest Regressor</td>\n",
       "      <td>-47353.598053</td>\n",
       "      <td>855.005649</td>\n",
       "      <td>-30880.626872</td>\n",
       "      <td>392.695280</td>\n",
       "      <td>-0.173478</td>\n",
       "      <td>0.004753</td>\n",
       "    </tr>\n",
       "    <tr>\n",
       "      <th>4</th>\n",
       "      <td>XGBoost Regressor</td>\n",
       "      <td>-45251.121946</td>\n",
       "      <td>1224.179829</td>\n",
       "      <td>-29861.127137</td>\n",
       "      <td>548.024858</td>\n",
       "      <td>-0.169323</td>\n",
       "      <td>0.006801</td>\n",
       "    </tr>\n",
       "    <tr>\n",
       "      <th>5</th>\n",
       "      <td>Ridge</td>\n",
       "      <td>-59904.683192</td>\n",
       "      <td>543.920800</td>\n",
       "      <td>-41765.097048</td>\n",
       "      <td>197.561637</td>\n",
       "      <td>-0.239123</td>\n",
       "      <td>0.004168</td>\n",
       "    </tr>\n",
       "    <tr>\n",
       "      <th>6</th>\n",
       "      <td>Lasso</td>\n",
       "      <td>-98263.074654</td>\n",
       "      <td>1669.808212</td>\n",
       "      <td>-74860.383414</td>\n",
       "      <td>1491.216479</td>\n",
       "      <td>-0.482116</td>\n",
       "      <td>0.010680</td>\n",
       "    </tr>\n",
       "    <tr>\n",
       "      <th>7</th>\n",
       "      <td>SVR</td>\n",
       "      <td>-60256.309633</td>\n",
       "      <td>621.293022</td>\n",
       "      <td>-41610.398942</td>\n",
       "      <td>240.136568</td>\n",
       "      <td>-0.235354</td>\n",
       "      <td>0.004443</td>\n",
       "    </tr>\n",
       "  </tbody>\n",
       "</table>\n",
       "</div>"
      ],
      "text/plain": [
       "                    Model     Mean_RMSE     Std_RMSE      Mean_MAE  \\\n",
       "0       Linear Regression -59904.120066   545.915313 -41764.145371   \n",
       "1           KNN Regressor -55820.443035   909.667803 -37829.671148   \n",
       "2  DecisionTree Regressor -65077.531436   956.132143 -43274.540961   \n",
       "3  RandomForest Regressor -47353.598053   855.005649 -30880.626872   \n",
       "4       XGBoost Regressor -45251.121946  1224.179829 -29861.127137   \n",
       "5                   Ridge -59904.683192   543.920800 -41765.097048   \n",
       "6                   Lasso -98263.074654  1669.808212 -74860.383414   \n",
       "7                     SVR -60256.309633   621.293022 -41610.398942   \n",
       "\n",
       "       Std_MAE  Mean_MAPE  Std_MAPE  \n",
       "0   196.471234  -0.239123  0.004166  \n",
       "1   442.594630  -0.211957  0.002931  \n",
       "2   533.038025  -0.250622  0.005382  \n",
       "3   392.695280  -0.173478  0.004753  \n",
       "4   548.024858  -0.169323  0.006801  \n",
       "5   197.561637  -0.239123  0.004168  \n",
       "6  1491.216479  -0.482116  0.010680  \n",
       "7   240.136568  -0.235354  0.004443  "
      ]
     },
     "execution_count": 42,
     "metadata": {},
     "output_type": "execute_result"
    }
   ],
   "source": [
    "# Evaluasi hasil dari 5 kandidat algoritma yang digunakan\n",
    "pd.DataFrame({\n",
    "    'Model': ['Linear Regression', 'KNN Regressor', 'DecisionTree Regressor', 'RandomForest Regressor', 'XGBoost Regressor', \"Ridge\", \"Lasso\", \"SVR\"],\n",
    "    'Mean_RMSE': nilai_mean_rmse,\n",
    "    'Std_RMSE': nilai_std_rmse,\n",
    "    'Mean_MAE': nilai_mean_mae,\n",
    "    'Std_MAE': nilai_std_mae,\n",
    "    'Mean_MAPE': nilai_mean_mape,\n",
    "    'Std_MAPE': nilai_std_mape\n",
    "})"
   ]
  },
  {
   "cell_type": "markdown",
   "id": "32ce695e",
   "metadata": {},
   "source": [
    "Berdasarkan hasil di atas kita akan memilih dua model terbaik yang akan di test pada data test, untuk model yang dipilih XGBoost Regressor dan Random Forest Regressor. "
   ]
  },
  {
   "cell_type": "markdown",
   "id": "5930e887",
   "metadata": {},
   "source": [
    "### 3.3.1. Predict Test Set ke Benchmark Model"
   ]
  },
  {
   "cell_type": "code",
   "execution_count": 43,
   "id": "aecf84f3",
   "metadata": {},
   "outputs": [
    {
     "data": {
      "text/html": [
       "<div>\n",
       "<style scoped>\n",
       "    .dataframe tbody tr th:only-of-type {\n",
       "        vertical-align: middle;\n",
       "    }\n",
       "\n",
       "    .dataframe tbody tr th {\n",
       "        vertical-align: top;\n",
       "    }\n",
       "\n",
       "    .dataframe thead th {\n",
       "        text-align: right;\n",
       "    }\n",
       "</style>\n",
       "<table border=\"1\" class=\"dataframe\">\n",
       "  <thead>\n",
       "    <tr style=\"text-align: right;\">\n",
       "      <th></th>\n",
       "      <th>Model</th>\n",
       "      <th>RMSE</th>\n",
       "      <th>MAE</th>\n",
       "      <th>MAPE</th>\n",
       "    </tr>\n",
       "  </thead>\n",
       "  <tbody>\n",
       "    <tr>\n",
       "      <th>0</th>\n",
       "      <td>XGB</td>\n",
       "      <td>42617.739035</td>\n",
       "      <td>29342.395211</td>\n",
       "      <td>0.172185</td>\n",
       "    </tr>\n",
       "    <tr>\n",
       "      <th>1</th>\n",
       "      <td>RandomForest</td>\n",
       "      <td>43449.213179</td>\n",
       "      <td>29658.212503</td>\n",
       "      <td>0.173131</td>\n",
       "    </tr>\n",
       "  </tbody>\n",
       "</table>\n",
       "</div>"
      ],
      "text/plain": [
       "          Model          RMSE           MAE      MAPE\n",
       "0           XGB  42617.739035  29342.395211  0.172185\n",
       "1  RandomForest  43449.213179  29658.212503  0.173131"
      ]
     },
     "execution_count": 43,
     "metadata": {},
     "output_type": "execute_result"
    }
   ],
   "source": [
    "# Benchmark 2 model terbaik\n",
    "xgb = XGBRegressor(random_state=1)\n",
    "rf = RandomForestRegressor(random_state=1)\n",
    "models = [xgb, rf]\n",
    "\n",
    "scaler = StandardScaler()\n",
    "\n",
    "score_rmse = []\n",
    "score_mae = []\n",
    "score_mape = []\n",
    "\n",
    "# Prediksi pada test set\n",
    "for i in models:\n",
    "\n",
    "    estimator = Pipeline([\n",
    "        ('preprocessing', transformer),\n",
    "        ('scaling',scaler), \n",
    "        ('model',i)\n",
    "        ])\n",
    "\n",
    "    estimator.fit(x_train, y_train)\n",
    "    y_pred = estimator.predict(x_test)\n",
    "    score_rmse.append(np.sqrt(mean_squared_error(y_test, y_pred)))\n",
    "    score_mae.append(mean_absolute_error(y_test, y_pred))\n",
    "    score_mape.append(mean_absolute_percentage_error(y_test, y_pred))\n",
    "\n",
    "score_before_tuning = pd.DataFrame({'Model': [\"XGB\", \"RandomForest\"],'RMSE': score_rmse, 'MAE': score_mae, 'MAPE': score_mape})\n",
    "score_before_tuning"
   ]
  },
  {
   "cell_type": "markdown",
   "id": "b809b07e",
   "metadata": {},
   "source": [
    "Setelah dilakukan pengujian pada data test model yang akan dipilih untuk dituning adalah model XGBoost, model XGBoost memiliki nilai RMSE, MAE dan MAPE yang lebih rendah dari Model Random Forest. Maka model yang akan dipilih untuk dilakukan tuning adalah XGboost Regressor."
   ]
  },
  {
   "cell_type": "code",
   "execution_count": 44,
   "id": "26f61e24",
   "metadata": {},
   "outputs": [],
   "source": [
    "# test model terbaik dengan data test\n",
    "xgb = XGBRegressor(random_state=1)\n",
    "\n",
    "score_rmse = []\n",
    "score_mae = []\n",
    "score_mape = []\n",
    "\n",
    "estimator = Pipeline([\n",
    "        ('preprocessing', transformer),\n",
    "        ('scaling', scaler),\n",
    "        ('model',xgb)\n",
    "        ])\n",
    "estimator.fit(x_train, y_train)\n",
    "y_pred = estimator.predict(x_test)\n",
    "score_rmse.append(np.sqrt(mean_squared_error(y_test, y_pred)))\n",
    "score_mae.append(mean_absolute_error(y_test, y_pred))\n",
    "score_mape.append(mean_absolute_percentage_error(y_test, y_pred))"
   ]
  },
  {
   "cell_type": "code",
   "execution_count": 45,
   "id": "337e866b",
   "metadata": {},
   "outputs": [
    {
     "data": {
      "text/html": [
       "<div>\n",
       "<style scoped>\n",
       "    .dataframe tbody tr th:only-of-type {\n",
       "        vertical-align: middle;\n",
       "    }\n",
       "\n",
       "    .dataframe tbody tr th {\n",
       "        vertical-align: top;\n",
       "    }\n",
       "\n",
       "    .dataframe thead th {\n",
       "        text-align: right;\n",
       "    }\n",
       "</style>\n",
       "<table border=\"1\" class=\"dataframe\">\n",
       "  <thead>\n",
       "    <tr style=\"text-align: right;\">\n",
       "      <th></th>\n",
       "      <th>Model</th>\n",
       "      <th>RMSE</th>\n",
       "      <th>MAE</th>\n",
       "      <th>MAPE</th>\n",
       "    </tr>\n",
       "  </thead>\n",
       "  <tbody>\n",
       "    <tr>\n",
       "      <th>0</th>\n",
       "      <td>XGB</td>\n",
       "      <td>42617.739035</td>\n",
       "      <td>29342.395211</td>\n",
       "      <td>0.172185</td>\n",
       "    </tr>\n",
       "  </tbody>\n",
       "</table>\n",
       "</div>"
      ],
      "text/plain": [
       "  Model          RMSE           MAE      MAPE\n",
       "0   XGB  42617.739035  29342.395211  0.172185"
      ]
     },
     "execution_count": 45,
     "metadata": {},
     "output_type": "execute_result"
    }
   ],
   "source": [
    "# hasil sebelum dituning \n",
    "score_before_tuning = pd.DataFrame({'Model': \"XGB\",'RMSE': score_rmse, 'MAE': score_mae, 'MAPE': score_mape})\n",
    "score_before_tuning"
   ]
  },
  {
   "cell_type": "markdown",
   "id": "e4356b99",
   "metadata": {},
   "source": [
    "## 3.4. Hyperparameter Tuning"
   ]
  },
  {
   "cell_type": "code",
   "execution_count": 61,
   "id": "4b61e808",
   "metadata": {},
   "outputs": [
    {
     "data": {
      "text/plain": [
       "{'memory': None,\n",
       " 'steps': [('preprocessing',\n",
       "   ColumnTransformer(remainder='passthrough',\n",
       "                     transformers=[('input', SimpleImputer(strategy='median'),\n",
       "                                    ['total_bedrooms']),\n",
       "                                   ('ohe_ocean', OneHotEncoder(drop='first'),\n",
       "                                    ['ocean_proximity'])])),\n",
       "  ('scaling', StandardScaler()),\n",
       "  ('model',\n",
       "   XGBRegressor(base_score=0.5, booster='gbtree', callbacks=None,\n",
       "                colsample_bylevel=1, colsample_bynode=1, colsample_bytree=1,\n",
       "                early_stopping_rounds=None, enable_categorical=False,\n",
       "                eval_metric=None, feature_types=None, gamma=0, gpu_id=-1,\n",
       "                grow_policy='depthwise', importance_type=None,\n",
       "                interaction_constraints='', learning_rate=0.300000012, max_bin=256,\n",
       "                max_cat_threshold=64, max_cat_to_onehot=4, max_delta_step=0,\n",
       "                max_depth=6, max_leaves=0, min_child_weight=1, missing=nan,\n",
       "                monotone_constraints='()', n_estimators=100, n_jobs=0,\n",
       "                num_parallel_tree=1, predictor='auto', random_state=1, ...))],\n",
       " 'verbose': False,\n",
       " 'preprocessing': ColumnTransformer(remainder='passthrough',\n",
       "                   transformers=[('input', SimpleImputer(strategy='median'),\n",
       "                                  ['total_bedrooms']),\n",
       "                                 ('ohe_ocean', OneHotEncoder(drop='first'),\n",
       "                                  ['ocean_proximity'])]),\n",
       " 'scaling': StandardScaler(),\n",
       " 'model': XGBRegressor(base_score=0.5, booster='gbtree', callbacks=None,\n",
       "              colsample_bylevel=1, colsample_bynode=1, colsample_bytree=1,\n",
       "              early_stopping_rounds=None, enable_categorical=False,\n",
       "              eval_metric=None, feature_types=None, gamma=0, gpu_id=-1,\n",
       "              grow_policy='depthwise', importance_type=None,\n",
       "              interaction_constraints='', learning_rate=0.300000012, max_bin=256,\n",
       "              max_cat_threshold=64, max_cat_to_onehot=4, max_delta_step=0,\n",
       "              max_depth=6, max_leaves=0, min_child_weight=1, missing=nan,\n",
       "              monotone_constraints='()', n_estimators=100, n_jobs=0,\n",
       "              num_parallel_tree=1, predictor='auto', random_state=1, ...),\n",
       " 'preprocessing__n_jobs': None,\n",
       " 'preprocessing__remainder': 'passthrough',\n",
       " 'preprocessing__sparse_threshold': 0.3,\n",
       " 'preprocessing__transformer_weights': None,\n",
       " 'preprocessing__transformers': [('input',\n",
       "   SimpleImputer(strategy='median'),\n",
       "   ['total_bedrooms']),\n",
       "  ('ohe_ocean', OneHotEncoder(drop='first'), ['ocean_proximity'])],\n",
       " 'preprocessing__verbose': False,\n",
       " 'preprocessing__verbose_feature_names_out': True,\n",
       " 'preprocessing__input': SimpleImputer(strategy='median'),\n",
       " 'preprocessing__ohe_ocean': OneHotEncoder(drop='first'),\n",
       " 'preprocessing__input__add_indicator': False,\n",
       " 'preprocessing__input__copy': True,\n",
       " 'preprocessing__input__fill_value': None,\n",
       " 'preprocessing__input__missing_values': nan,\n",
       " 'preprocessing__input__strategy': 'median',\n",
       " 'preprocessing__input__verbose': 'deprecated',\n",
       " 'preprocessing__ohe_ocean__categories': 'auto',\n",
       " 'preprocessing__ohe_ocean__drop': 'first',\n",
       " 'preprocessing__ohe_ocean__dtype': numpy.float64,\n",
       " 'preprocessing__ohe_ocean__handle_unknown': 'error',\n",
       " 'preprocessing__ohe_ocean__max_categories': None,\n",
       " 'preprocessing__ohe_ocean__min_frequency': None,\n",
       " 'preprocessing__ohe_ocean__sparse': True,\n",
       " 'scaling__copy': True,\n",
       " 'scaling__with_mean': True,\n",
       " 'scaling__with_std': True,\n",
       " 'model__objective': 'reg:squarederror',\n",
       " 'model__base_score': 0.5,\n",
       " 'model__booster': 'gbtree',\n",
       " 'model__callbacks': None,\n",
       " 'model__colsample_bylevel': 1,\n",
       " 'model__colsample_bynode': 1,\n",
       " 'model__colsample_bytree': 1,\n",
       " 'model__early_stopping_rounds': None,\n",
       " 'model__enable_categorical': False,\n",
       " 'model__eval_metric': None,\n",
       " 'model__feature_types': None,\n",
       " 'model__gamma': 0,\n",
       " 'model__gpu_id': -1,\n",
       " 'model__grow_policy': 'depthwise',\n",
       " 'model__importance_type': None,\n",
       " 'model__interaction_constraints': '',\n",
       " 'model__learning_rate': 0.300000012,\n",
       " 'model__max_bin': 256,\n",
       " 'model__max_cat_threshold': 64,\n",
       " 'model__max_cat_to_onehot': 4,\n",
       " 'model__max_delta_step': 0,\n",
       " 'model__max_depth': 6,\n",
       " 'model__max_leaves': 0,\n",
       " 'model__min_child_weight': 1,\n",
       " 'model__missing': nan,\n",
       " 'model__monotone_constraints': '()',\n",
       " 'model__n_estimators': 100,\n",
       " 'model__n_jobs': 0,\n",
       " 'model__num_parallel_tree': 1,\n",
       " 'model__predictor': 'auto',\n",
       " 'model__random_state': 1,\n",
       " 'model__reg_alpha': 0,\n",
       " 'model__reg_lambda': 1,\n",
       " 'model__sampling_method': 'uniform',\n",
       " 'model__scale_pos_weight': 1,\n",
       " 'model__subsample': 1,\n",
       " 'model__tree_method': 'exact',\n",
       " 'model__validate_parameters': 1,\n",
       " 'model__verbosity': None}"
      ]
     },
     "execution_count": 61,
     "metadata": {},
     "output_type": "execute_result"
    }
   ],
   "source": [
    "# melihat paramter yang digunakan\n",
    "estimator.get_params()"
   ]
  },
  {
   "cell_type": "code",
   "execution_count": 50,
   "id": "4f566d67",
   "metadata": {},
   "outputs": [],
   "source": [
    "# membuat kombinasi parameter untuk tuning\n",
    "hyperparam_space = [\n",
    "    {\"model__learning_rate\" : [0,1, 0.2, 0.3, 0.4, 0.5], \n",
    "     \"model__n_estimators\" : [100, 200, 1000], \n",
    "     \"model__max_depth\" : [4,5,6,7], \n",
    "     \"model__gamma\" : [0,1,2,3]}]"
   ]
  },
  {
   "cell_type": "code",
   "execution_count": 51,
   "id": "e7693d28",
   "metadata": {},
   "outputs": [],
   "source": [
    "# melakukan tuning dengan menggunakan GridSearchCV\n",
    "grid = GridSearchCV(estimator,\n",
    "                    param_grid = hyperparam_space,\n",
    "                    cv = skfold,\n",
    "                    scoring = \"neg_root_mean_squared_error\",\n",
    "                    n_jobs = -1)"
   ]
  },
  {
   "cell_type": "code",
   "execution_count": 52,
   "id": "34bc6235",
   "metadata": {},
   "outputs": [
    {
     "data": {
      "text/html": [
       "<style>#sk-container-id-1 {color: black;background-color: white;}#sk-container-id-1 pre{padding: 0;}#sk-container-id-1 div.sk-toggleable {background-color: white;}#sk-container-id-1 label.sk-toggleable__label {cursor: pointer;display: block;width: 100%;margin-bottom: 0;padding: 0.3em;box-sizing: border-box;text-align: center;}#sk-container-id-1 label.sk-toggleable__label-arrow:before {content: \"▸\";float: left;margin-right: 0.25em;color: #696969;}#sk-container-id-1 label.sk-toggleable__label-arrow:hover:before {color: black;}#sk-container-id-1 div.sk-estimator:hover label.sk-toggleable__label-arrow:before {color: black;}#sk-container-id-1 div.sk-toggleable__content {max-height: 0;max-width: 0;overflow: hidden;text-align: left;background-color: #f0f8ff;}#sk-container-id-1 div.sk-toggleable__content pre {margin: 0.2em;color: black;border-radius: 0.25em;background-color: #f0f8ff;}#sk-container-id-1 input.sk-toggleable__control:checked~div.sk-toggleable__content {max-height: 200px;max-width: 100%;overflow: auto;}#sk-container-id-1 input.sk-toggleable__control:checked~label.sk-toggleable__label-arrow:before {content: \"▾\";}#sk-container-id-1 div.sk-estimator input.sk-toggleable__control:checked~label.sk-toggleable__label {background-color: #d4ebff;}#sk-container-id-1 div.sk-label input.sk-toggleable__control:checked~label.sk-toggleable__label {background-color: #d4ebff;}#sk-container-id-1 input.sk-hidden--visually {border: 0;clip: rect(1px 1px 1px 1px);clip: rect(1px, 1px, 1px, 1px);height: 1px;margin: -1px;overflow: hidden;padding: 0;position: absolute;width: 1px;}#sk-container-id-1 div.sk-estimator {font-family: monospace;background-color: #f0f8ff;border: 1px dotted black;border-radius: 0.25em;box-sizing: border-box;margin-bottom: 0.5em;}#sk-container-id-1 div.sk-estimator:hover {background-color: #d4ebff;}#sk-container-id-1 div.sk-parallel-item::after {content: \"\";width: 100%;border-bottom: 1px solid gray;flex-grow: 1;}#sk-container-id-1 div.sk-label:hover label.sk-toggleable__label {background-color: #d4ebff;}#sk-container-id-1 div.sk-serial::before {content: \"\";position: absolute;border-left: 1px solid gray;box-sizing: border-box;top: 0;bottom: 0;left: 50%;z-index: 0;}#sk-container-id-1 div.sk-serial {display: flex;flex-direction: column;align-items: center;background-color: white;padding-right: 0.2em;padding-left: 0.2em;position: relative;}#sk-container-id-1 div.sk-item {position: relative;z-index: 1;}#sk-container-id-1 div.sk-parallel {display: flex;align-items: stretch;justify-content: center;background-color: white;position: relative;}#sk-container-id-1 div.sk-item::before, #sk-container-id-1 div.sk-parallel-item::before {content: \"\";position: absolute;border-left: 1px solid gray;box-sizing: border-box;top: 0;bottom: 0;left: 50%;z-index: -1;}#sk-container-id-1 div.sk-parallel-item {display: flex;flex-direction: column;z-index: 1;position: relative;background-color: white;}#sk-container-id-1 div.sk-parallel-item:first-child::after {align-self: flex-end;width: 50%;}#sk-container-id-1 div.sk-parallel-item:last-child::after {align-self: flex-start;width: 50%;}#sk-container-id-1 div.sk-parallel-item:only-child::after {width: 0;}#sk-container-id-1 div.sk-dashed-wrapped {border: 1px dashed gray;margin: 0 0.4em 0.5em 0.4em;box-sizing: border-box;padding-bottom: 0.4em;background-color: white;}#sk-container-id-1 div.sk-label label {font-family: monospace;font-weight: bold;display: inline-block;line-height: 1.2em;}#sk-container-id-1 div.sk-label-container {text-align: center;}#sk-container-id-1 div.sk-container {/* jupyter's `normalize.less` sets `[hidden] { display: none; }` but bootstrap.min.css set `[hidden] { display: none !important; }` so we also need the `!important` here to be able to override the default hidden behavior on the sphinx rendered scikit-learn.org. See: https://github.com/scikit-learn/scikit-learn/issues/21755 */display: inline-block !important;position: relative;}#sk-container-id-1 div.sk-text-repr-fallback {display: none;}</style><div id=\"sk-container-id-1\" class=\"sk-top-container\"><div class=\"sk-text-repr-fallback\"><pre>GridSearchCV(cv=StratifiedKFold(n_splits=5, random_state=None, shuffle=False),\n",
       "             estimator=Pipeline(steps=[(&#x27;preprocessing&#x27;,\n",
       "                                        ColumnTransformer(remainder=&#x27;passthrough&#x27;,\n",
       "                                                          transformers=[(&#x27;input&#x27;,\n",
       "                                                                         SimpleImputer(strategy=&#x27;median&#x27;),\n",
       "                                                                         [&#x27;total_bedrooms&#x27;]),\n",
       "                                                                        (&#x27;ohe_ocean&#x27;,\n",
       "                                                                         OneHotEncoder(drop=&#x27;first&#x27;),\n",
       "                                                                         [&#x27;ocean_proximity&#x27;])])),\n",
       "                                       (&#x27;scaling&#x27;, StandardScaler()),\n",
       "                                       (&#x27;model&#x27;,\n",
       "                                        XGBRegress...\n",
       "                                                     max_depth=6, max_leaves=0,\n",
       "                                                     min_child_weight=1,\n",
       "                                                     missing=nan,\n",
       "                                                     monotone_constraints=&#x27;()&#x27;,\n",
       "                                                     n_estimators=100, n_jobs=0,\n",
       "                                                     num_parallel_tree=1,\n",
       "                                                     predictor=&#x27;auto&#x27;,\n",
       "                                                     random_state=1, ...))]),\n",
       "             n_jobs=-1,\n",
       "             param_grid=[{&#x27;model__gamma&#x27;: [0, 1, 2, 3],\n",
       "                          &#x27;model__learning_rate&#x27;: [0, 1, 0.2, 0.3, 0.4, 0.5],\n",
       "                          &#x27;model__max_depth&#x27;: [4, 5, 6, 7],\n",
       "                          &#x27;model__n_estimators&#x27;: [100, 200, 1000]}],\n",
       "             scoring=&#x27;neg_root_mean_squared_error&#x27;)</pre><b>In a Jupyter environment, please rerun this cell to show the HTML representation or trust the notebook. <br />On GitHub, the HTML representation is unable to render, please try loading this page with nbviewer.org.</b></div><div class=\"sk-container\" hidden><div class=\"sk-item sk-dashed-wrapped\"><div class=\"sk-label-container\"><div class=\"sk-label sk-toggleable\"><input class=\"sk-toggleable__control sk-hidden--visually\" id=\"sk-estimator-id-1\" type=\"checkbox\" ><label for=\"sk-estimator-id-1\" class=\"sk-toggleable__label sk-toggleable__label-arrow\">GridSearchCV</label><div class=\"sk-toggleable__content\"><pre>GridSearchCV(cv=StratifiedKFold(n_splits=5, random_state=None, shuffle=False),\n",
       "             estimator=Pipeline(steps=[(&#x27;preprocessing&#x27;,\n",
       "                                        ColumnTransformer(remainder=&#x27;passthrough&#x27;,\n",
       "                                                          transformers=[(&#x27;input&#x27;,\n",
       "                                                                         SimpleImputer(strategy=&#x27;median&#x27;),\n",
       "                                                                         [&#x27;total_bedrooms&#x27;]),\n",
       "                                                                        (&#x27;ohe_ocean&#x27;,\n",
       "                                                                         OneHotEncoder(drop=&#x27;first&#x27;),\n",
       "                                                                         [&#x27;ocean_proximity&#x27;])])),\n",
       "                                       (&#x27;scaling&#x27;, StandardScaler()),\n",
       "                                       (&#x27;model&#x27;,\n",
       "                                        XGBRegress...\n",
       "                                                     max_depth=6, max_leaves=0,\n",
       "                                                     min_child_weight=1,\n",
       "                                                     missing=nan,\n",
       "                                                     monotone_constraints=&#x27;()&#x27;,\n",
       "                                                     n_estimators=100, n_jobs=0,\n",
       "                                                     num_parallel_tree=1,\n",
       "                                                     predictor=&#x27;auto&#x27;,\n",
       "                                                     random_state=1, ...))]),\n",
       "             n_jobs=-1,\n",
       "             param_grid=[{&#x27;model__gamma&#x27;: [0, 1, 2, 3],\n",
       "                          &#x27;model__learning_rate&#x27;: [0, 1, 0.2, 0.3, 0.4, 0.5],\n",
       "                          &#x27;model__max_depth&#x27;: [4, 5, 6, 7],\n",
       "                          &#x27;model__n_estimators&#x27;: [100, 200, 1000]}],\n",
       "             scoring=&#x27;neg_root_mean_squared_error&#x27;)</pre></div></div></div><div class=\"sk-parallel\"><div class=\"sk-parallel-item\"><div class=\"sk-item\"><div class=\"sk-label-container\"><div class=\"sk-label sk-toggleable\"><input class=\"sk-toggleable__control sk-hidden--visually\" id=\"sk-estimator-id-2\" type=\"checkbox\" ><label for=\"sk-estimator-id-2\" class=\"sk-toggleable__label sk-toggleable__label-arrow\">estimator: Pipeline</label><div class=\"sk-toggleable__content\"><pre>Pipeline(steps=[(&#x27;preprocessing&#x27;,\n",
       "                 ColumnTransformer(remainder=&#x27;passthrough&#x27;,\n",
       "                                   transformers=[(&#x27;input&#x27;,\n",
       "                                                  SimpleImputer(strategy=&#x27;median&#x27;),\n",
       "                                                  [&#x27;total_bedrooms&#x27;]),\n",
       "                                                 (&#x27;ohe_ocean&#x27;,\n",
       "                                                  OneHotEncoder(drop=&#x27;first&#x27;),\n",
       "                                                  [&#x27;ocean_proximity&#x27;])])),\n",
       "                (&#x27;scaling&#x27;, StandardScaler()),\n",
       "                (&#x27;model&#x27;,\n",
       "                 XGBRegressor(base_score=0.5, booster=&#x27;gbtree&#x27;, callbacks=None,\n",
       "                              colsample_bylevel=1, colsample_bynode...\n",
       "                              feature_types=None, gamma=0, gpu_id=-1,\n",
       "                              grow_policy=&#x27;depthwise&#x27;, importance_type=None,\n",
       "                              interaction_constraints=&#x27;&#x27;,\n",
       "                              learning_rate=0.300000012, max_bin=256,\n",
       "                              max_cat_threshold=64, max_cat_to_onehot=4,\n",
       "                              max_delta_step=0, max_depth=6, max_leaves=0,\n",
       "                              min_child_weight=1, missing=nan,\n",
       "                              monotone_constraints=&#x27;()&#x27;, n_estimators=100,\n",
       "                              n_jobs=0, num_parallel_tree=1, predictor=&#x27;auto&#x27;,\n",
       "                              random_state=1, ...))])</pre></div></div></div><div class=\"sk-serial\"><div class=\"sk-item\"><div class=\"sk-serial\"><div class=\"sk-item sk-dashed-wrapped\"><div class=\"sk-label-container\"><div class=\"sk-label sk-toggleable\"><input class=\"sk-toggleable__control sk-hidden--visually\" id=\"sk-estimator-id-3\" type=\"checkbox\" ><label for=\"sk-estimator-id-3\" class=\"sk-toggleable__label sk-toggleable__label-arrow\">preprocessing: ColumnTransformer</label><div class=\"sk-toggleable__content\"><pre>ColumnTransformer(remainder=&#x27;passthrough&#x27;,\n",
       "                  transformers=[(&#x27;input&#x27;, SimpleImputer(strategy=&#x27;median&#x27;),\n",
       "                                 [&#x27;total_bedrooms&#x27;]),\n",
       "                                (&#x27;ohe_ocean&#x27;, OneHotEncoder(drop=&#x27;first&#x27;),\n",
       "                                 [&#x27;ocean_proximity&#x27;])])</pre></div></div></div><div class=\"sk-parallel\"><div class=\"sk-parallel-item\"><div class=\"sk-item\"><div class=\"sk-label-container\"><div class=\"sk-label sk-toggleable\"><input class=\"sk-toggleable__control sk-hidden--visually\" id=\"sk-estimator-id-4\" type=\"checkbox\" ><label for=\"sk-estimator-id-4\" class=\"sk-toggleable__label sk-toggleable__label-arrow\">input</label><div class=\"sk-toggleable__content\"><pre>[&#x27;total_bedrooms&#x27;]</pre></div></div></div><div class=\"sk-serial\"><div class=\"sk-item\"><div class=\"sk-estimator sk-toggleable\"><input class=\"sk-toggleable__control sk-hidden--visually\" id=\"sk-estimator-id-5\" type=\"checkbox\" ><label for=\"sk-estimator-id-5\" class=\"sk-toggleable__label sk-toggleable__label-arrow\">SimpleImputer</label><div class=\"sk-toggleable__content\"><pre>SimpleImputer(strategy=&#x27;median&#x27;)</pre></div></div></div></div></div></div><div class=\"sk-parallel-item\"><div class=\"sk-item\"><div class=\"sk-label-container\"><div class=\"sk-label sk-toggleable\"><input class=\"sk-toggleable__control sk-hidden--visually\" id=\"sk-estimator-id-6\" type=\"checkbox\" ><label for=\"sk-estimator-id-6\" class=\"sk-toggleable__label sk-toggleable__label-arrow\">ohe_ocean</label><div class=\"sk-toggleable__content\"><pre>[&#x27;ocean_proximity&#x27;]</pre></div></div></div><div class=\"sk-serial\"><div class=\"sk-item\"><div class=\"sk-estimator sk-toggleable\"><input class=\"sk-toggleable__control sk-hidden--visually\" id=\"sk-estimator-id-7\" type=\"checkbox\" ><label for=\"sk-estimator-id-7\" class=\"sk-toggleable__label sk-toggleable__label-arrow\">OneHotEncoder</label><div class=\"sk-toggleable__content\"><pre>OneHotEncoder(drop=&#x27;first&#x27;)</pre></div></div></div></div></div></div><div class=\"sk-parallel-item\"><div class=\"sk-item\"><div class=\"sk-label-container\"><div class=\"sk-label sk-toggleable\"><input class=\"sk-toggleable__control sk-hidden--visually\" id=\"sk-estimator-id-8\" type=\"checkbox\" ><label for=\"sk-estimator-id-8\" class=\"sk-toggleable__label sk-toggleable__label-arrow\">remainder</label><div class=\"sk-toggleable__content\"><pre>[&#x27;longitude&#x27;, &#x27;latitude&#x27;, &#x27;housing_median_age&#x27;, &#x27;total_rooms&#x27;, &#x27;population&#x27;, &#x27;households&#x27;, &#x27;median_income&#x27;]</pre></div></div></div><div class=\"sk-serial\"><div class=\"sk-item\"><div class=\"sk-estimator sk-toggleable\"><input class=\"sk-toggleable__control sk-hidden--visually\" id=\"sk-estimator-id-9\" type=\"checkbox\" ><label for=\"sk-estimator-id-9\" class=\"sk-toggleable__label sk-toggleable__label-arrow\">passthrough</label><div class=\"sk-toggleable__content\"><pre>passthrough</pre></div></div></div></div></div></div></div></div><div class=\"sk-item\"><div class=\"sk-estimator sk-toggleable\"><input class=\"sk-toggleable__control sk-hidden--visually\" id=\"sk-estimator-id-10\" type=\"checkbox\" ><label for=\"sk-estimator-id-10\" class=\"sk-toggleable__label sk-toggleable__label-arrow\">StandardScaler</label><div class=\"sk-toggleable__content\"><pre>StandardScaler()</pre></div></div></div><div class=\"sk-item\"><div class=\"sk-estimator sk-toggleable\"><input class=\"sk-toggleable__control sk-hidden--visually\" id=\"sk-estimator-id-11\" type=\"checkbox\" ><label for=\"sk-estimator-id-11\" class=\"sk-toggleable__label sk-toggleable__label-arrow\">XGBRegressor</label><div class=\"sk-toggleable__content\"><pre>XGBRegressor(base_score=0.5, booster=&#x27;gbtree&#x27;, callbacks=None,\n",
       "             colsample_bylevel=1, colsample_bynode=1, colsample_bytree=1,\n",
       "             early_stopping_rounds=None, enable_categorical=False,\n",
       "             eval_metric=None, feature_types=None, gamma=0, gpu_id=-1,\n",
       "             grow_policy=&#x27;depthwise&#x27;, importance_type=None,\n",
       "             interaction_constraints=&#x27;&#x27;, learning_rate=0.300000012, max_bin=256,\n",
       "             max_cat_threshold=64, max_cat_to_onehot=4, max_delta_step=0,\n",
       "             max_depth=6, max_leaves=0, min_child_weight=1, missing=nan,\n",
       "             monotone_constraints=&#x27;()&#x27;, n_estimators=100, n_jobs=0,\n",
       "             num_parallel_tree=1, predictor=&#x27;auto&#x27;, random_state=1, ...)</pre></div></div></div></div></div></div></div></div></div></div></div></div>"
      ],
      "text/plain": [
       "GridSearchCV(cv=StratifiedKFold(n_splits=5, random_state=None, shuffle=False),\n",
       "             estimator=Pipeline(steps=[('preprocessing',\n",
       "                                        ColumnTransformer(remainder='passthrough',\n",
       "                                                          transformers=[('input',\n",
       "                                                                         SimpleImputer(strategy='median'),\n",
       "                                                                         ['total_bedrooms']),\n",
       "                                                                        ('ohe_ocean',\n",
       "                                                                         OneHotEncoder(drop='first'),\n",
       "                                                                         ['ocean_proximity'])])),\n",
       "                                       ('scaling', StandardScaler()),\n",
       "                                       ('model',\n",
       "                                        XGBRegress...\n",
       "                                                     max_depth=6, max_leaves=0,\n",
       "                                                     min_child_weight=1,\n",
       "                                                     missing=nan,\n",
       "                                                     monotone_constraints='()',\n",
       "                                                     n_estimators=100, n_jobs=0,\n",
       "                                                     num_parallel_tree=1,\n",
       "                                                     predictor='auto',\n",
       "                                                     random_state=1, ...))]),\n",
       "             n_jobs=-1,\n",
       "             param_grid=[{'model__gamma': [0, 1, 2, 3],\n",
       "                          'model__learning_rate': [0, 1, 0.2, 0.3, 0.4, 0.5],\n",
       "                          'model__max_depth': [4, 5, 6, 7],\n",
       "                          'model__n_estimators': [100, 200, 1000]}],\n",
       "             scoring='neg_root_mean_squared_error')"
      ]
     },
     "execution_count": 52,
     "metadata": {},
     "output_type": "execute_result"
    }
   ],
   "source": [
    "# fitting kembali data dengan data train dan test\n",
    "grid.fit(x_train, y_train)"
   ]
  },
  {
   "cell_type": "code",
   "execution_count": 53,
   "id": "8886bdfc",
   "metadata": {},
   "outputs": [
    {
     "data": {
      "text/html": [
       "<div>\n",
       "<style scoped>\n",
       "    .dataframe tbody tr th:only-of-type {\n",
       "        vertical-align: middle;\n",
       "    }\n",
       "\n",
       "    .dataframe tbody tr th {\n",
       "        vertical-align: top;\n",
       "    }\n",
       "\n",
       "    .dataframe thead th {\n",
       "        text-align: right;\n",
       "    }\n",
       "</style>\n",
       "<table border=\"1\" class=\"dataframe\">\n",
       "  <thead>\n",
       "    <tr style=\"text-align: right;\">\n",
       "      <th></th>\n",
       "      <th>mean_fit_time</th>\n",
       "      <th>std_fit_time</th>\n",
       "      <th>mean_score_time</th>\n",
       "      <th>std_score_time</th>\n",
       "      <th>param_model__gamma</th>\n",
       "      <th>param_model__learning_rate</th>\n",
       "      <th>param_model__max_depth</th>\n",
       "      <th>param_model__n_estimators</th>\n",
       "      <th>params</th>\n",
       "      <th>split0_test_score</th>\n",
       "      <th>split1_test_score</th>\n",
       "      <th>split2_test_score</th>\n",
       "      <th>split3_test_score</th>\n",
       "      <th>split4_test_score</th>\n",
       "      <th>mean_test_score</th>\n",
       "      <th>std_test_score</th>\n",
       "      <th>rank_test_score</th>\n",
       "    </tr>\n",
       "  </thead>\n",
       "  <tbody>\n",
       "    <tr>\n",
       "      <th>179</th>\n",
       "      <td>24.374649</td>\n",
       "      <td>0.084263</td>\n",
       "      <td>0.123557</td>\n",
       "      <td>0.003194</td>\n",
       "      <td>2</td>\n",
       "      <td>0.2</td>\n",
       "      <td>7</td>\n",
       "      <td>1000</td>\n",
       "      <td>{'model__gamma': 2, 'model__learning_rate': 0....</td>\n",
       "      <td>-43807.180750</td>\n",
       "      <td>-44945.055455</td>\n",
       "      <td>-45097.538874</td>\n",
       "      <td>-44595.027274</td>\n",
       "      <td>-42918.671525</td>\n",
       "      <td>-44272.694776</td>\n",
       "      <td>810.730187</td>\n",
       "      <td>1</td>\n",
       "    </tr>\n",
       "    <tr>\n",
       "      <th>251</th>\n",
       "      <td>24.121682</td>\n",
       "      <td>0.193489</td>\n",
       "      <td>0.124652</td>\n",
       "      <td>0.007128</td>\n",
       "      <td>3</td>\n",
       "      <td>0.2</td>\n",
       "      <td>7</td>\n",
       "      <td>1000</td>\n",
       "      <td>{'model__gamma': 3, 'model__learning_rate': 0....</td>\n",
       "      <td>-43814.051048</td>\n",
       "      <td>-44946.815447</td>\n",
       "      <td>-45097.538874</td>\n",
       "      <td>-44595.027274</td>\n",
       "      <td>-42918.672419</td>\n",
       "      <td>-44274.421013</td>\n",
       "      <td>810.237054</td>\n",
       "      <td>2</td>\n",
       "    </tr>\n",
       "    <tr>\n",
       "      <th>107</th>\n",
       "      <td>25.677816</td>\n",
       "      <td>0.085327</td>\n",
       "      <td>0.130650</td>\n",
       "      <td>0.005580</td>\n",
       "      <td>1</td>\n",
       "      <td>0.2</td>\n",
       "      <td>7</td>\n",
       "      <td>1000</td>\n",
       "      <td>{'model__gamma': 1, 'model__learning_rate': 0....</td>\n",
       "      <td>-43807.180750</td>\n",
       "      <td>-44945.055455</td>\n",
       "      <td>-45111.982664</td>\n",
       "      <td>-44595.027274</td>\n",
       "      <td>-42918.671525</td>\n",
       "      <td>-44275.583533</td>\n",
       "      <td>813.684439</td>\n",
       "      <td>3</td>\n",
       "    </tr>\n",
       "    <tr>\n",
       "      <th>35</th>\n",
       "      <td>32.114611</td>\n",
       "      <td>2.480895</td>\n",
       "      <td>0.155762</td>\n",
       "      <td>0.015959</td>\n",
       "      <td>0</td>\n",
       "      <td>0.2</td>\n",
       "      <td>7</td>\n",
       "      <td>1000</td>\n",
       "      <td>{'model__gamma': 0, 'model__learning_rate': 0....</td>\n",
       "      <td>-43807.180752</td>\n",
       "      <td>-44945.055455</td>\n",
       "      <td>-45111.982664</td>\n",
       "      <td>-44595.027274</td>\n",
       "      <td>-42918.671525</td>\n",
       "      <td>-44275.583534</td>\n",
       "      <td>813.684439</td>\n",
       "      <td>4</td>\n",
       "    </tr>\n",
       "    <tr>\n",
       "      <th>106</th>\n",
       "      <td>5.598235</td>\n",
       "      <td>0.244814</td>\n",
       "      <td>0.036265</td>\n",
       "      <td>0.004818</td>\n",
       "      <td>1</td>\n",
       "      <td>0.2</td>\n",
       "      <td>7</td>\n",
       "      <td>200</td>\n",
       "      <td>{'model__gamma': 1, 'model__learning_rate': 0....</td>\n",
       "      <td>-43923.721395</td>\n",
       "      <td>-44821.088611</td>\n",
       "      <td>-45033.627708</td>\n",
       "      <td>-44695.801367</td>\n",
       "      <td>-43035.437428</td>\n",
       "      <td>-44301.935302</td>\n",
       "      <td>735.810714</td>\n",
       "      <td>5</td>\n",
       "    </tr>\n",
       "    <tr>\n",
       "      <th>...</th>\n",
       "      <td>...</td>\n",
       "      <td>...</td>\n",
       "      <td>...</td>\n",
       "      <td>...</td>\n",
       "      <td>...</td>\n",
       "      <td>...</td>\n",
       "      <td>...</td>\n",
       "      <td>...</td>\n",
       "      <td>...</td>\n",
       "      <td>...</td>\n",
       "      <td>...</td>\n",
       "      <td>...</td>\n",
       "      <td>...</td>\n",
       "      <td>...</td>\n",
       "      <td>...</td>\n",
       "      <td>...</td>\n",
       "      <td>...</td>\n",
       "    </tr>\n",
       "    <tr>\n",
       "      <th>75</th>\n",
       "      <td>2.241916</td>\n",
       "      <td>0.104827</td>\n",
       "      <td>0.023490</td>\n",
       "      <td>0.006088</td>\n",
       "      <td>1</td>\n",
       "      <td>0</td>\n",
       "      <td>5</td>\n",
       "      <td>100</td>\n",
       "      <td>{'model__gamma': 1, 'model__learning_rate': 0,...</td>\n",
       "      <td>-215067.213076</td>\n",
       "      <td>-211569.172486</td>\n",
       "      <td>-209546.190709</td>\n",
       "      <td>-210287.149520</td>\n",
       "      <td>-210355.681146</td>\n",
       "      <td>-211365.081388</td>\n",
       "      <td>1961.459736</td>\n",
       "      <td>241</td>\n",
       "    </tr>\n",
       "    <tr>\n",
       "      <th>74</th>\n",
       "      <td>17.553062</td>\n",
       "      <td>0.186653</td>\n",
       "      <td>0.080445</td>\n",
       "      <td>0.013171</td>\n",
       "      <td>1</td>\n",
       "      <td>0</td>\n",
       "      <td>4</td>\n",
       "      <td>1000</td>\n",
       "      <td>{'model__gamma': 1, 'model__learning_rate': 0,...</td>\n",
       "      <td>-215067.213076</td>\n",
       "      <td>-211569.172486</td>\n",
       "      <td>-209546.190709</td>\n",
       "      <td>-210287.149520</td>\n",
       "      <td>-210355.681146</td>\n",
       "      <td>-211365.081388</td>\n",
       "      <td>1961.459736</td>\n",
       "      <td>241</td>\n",
       "    </tr>\n",
       "    <tr>\n",
       "      <th>73</th>\n",
       "      <td>3.628742</td>\n",
       "      <td>0.077871</td>\n",
       "      <td>0.024546</td>\n",
       "      <td>0.001426</td>\n",
       "      <td>1</td>\n",
       "      <td>0</td>\n",
       "      <td>4</td>\n",
       "      <td>200</td>\n",
       "      <td>{'model__gamma': 1, 'model__learning_rate': 0,...</td>\n",
       "      <td>-215067.213076</td>\n",
       "      <td>-211569.172486</td>\n",
       "      <td>-209546.190709</td>\n",
       "      <td>-210287.149520</td>\n",
       "      <td>-210355.681146</td>\n",
       "      <td>-211365.081388</td>\n",
       "      <td>1961.459736</td>\n",
       "      <td>241</td>\n",
       "    </tr>\n",
       "    <tr>\n",
       "      <th>227</th>\n",
       "      <td>29.510390</td>\n",
       "      <td>4.994936</td>\n",
       "      <td>0.243512</td>\n",
       "      <td>0.208384</td>\n",
       "      <td>3</td>\n",
       "      <td>0</td>\n",
       "      <td>7</td>\n",
       "      <td>1000</td>\n",
       "      <td>{'model__gamma': 3, 'model__learning_rate': 0,...</td>\n",
       "      <td>-215067.213076</td>\n",
       "      <td>-211569.172486</td>\n",
       "      <td>-209546.190709</td>\n",
       "      <td>-210287.149520</td>\n",
       "      <td>-210355.681146</td>\n",
       "      <td>-211365.081388</td>\n",
       "      <td>1961.459736</td>\n",
       "      <td>241</td>\n",
       "    </tr>\n",
       "    <tr>\n",
       "      <th>0</th>\n",
       "      <td>1.586571</td>\n",
       "      <td>0.101666</td>\n",
       "      <td>0.033142</td>\n",
       "      <td>0.008836</td>\n",
       "      <td>0</td>\n",
       "      <td>0</td>\n",
       "      <td>4</td>\n",
       "      <td>100</td>\n",
       "      <td>{'model__gamma': 0, 'model__learning_rate': 0,...</td>\n",
       "      <td>-215067.213076</td>\n",
       "      <td>-211569.172486</td>\n",
       "      <td>-209546.190709</td>\n",
       "      <td>-210287.149520</td>\n",
       "      <td>-210355.681146</td>\n",
       "      <td>-211365.081388</td>\n",
       "      <td>1961.459736</td>\n",
       "      <td>241</td>\n",
       "    </tr>\n",
       "  </tbody>\n",
       "</table>\n",
       "<p>288 rows × 17 columns</p>\n",
       "</div>"
      ],
      "text/plain": [
       "     mean_fit_time  std_fit_time  mean_score_time  std_score_time  \\\n",
       "179      24.374649      0.084263         0.123557        0.003194   \n",
       "251      24.121682      0.193489         0.124652        0.007128   \n",
       "107      25.677816      0.085327         0.130650        0.005580   \n",
       "35       32.114611      2.480895         0.155762        0.015959   \n",
       "106       5.598235      0.244814         0.036265        0.004818   \n",
       "..             ...           ...              ...             ...   \n",
       "75        2.241916      0.104827         0.023490        0.006088   \n",
       "74       17.553062      0.186653         0.080445        0.013171   \n",
       "73        3.628742      0.077871         0.024546        0.001426   \n",
       "227      29.510390      4.994936         0.243512        0.208384   \n",
       "0         1.586571      0.101666         0.033142        0.008836   \n",
       "\n",
       "    param_model__gamma param_model__learning_rate param_model__max_depth  \\\n",
       "179                  2                        0.2                      7   \n",
       "251                  3                        0.2                      7   \n",
       "107                  1                        0.2                      7   \n",
       "35                   0                        0.2                      7   \n",
       "106                  1                        0.2                      7   \n",
       "..                 ...                        ...                    ...   \n",
       "75                   1                          0                      5   \n",
       "74                   1                          0                      4   \n",
       "73                   1                          0                      4   \n",
       "227                  3                          0                      7   \n",
       "0                    0                          0                      4   \n",
       "\n",
       "    param_model__n_estimators  \\\n",
       "179                      1000   \n",
       "251                      1000   \n",
       "107                      1000   \n",
       "35                       1000   \n",
       "106                       200   \n",
       "..                        ...   \n",
       "75                        100   \n",
       "74                       1000   \n",
       "73                        200   \n",
       "227                      1000   \n",
       "0                         100   \n",
       "\n",
       "                                                params  split0_test_score  \\\n",
       "179  {'model__gamma': 2, 'model__learning_rate': 0....      -43807.180750   \n",
       "251  {'model__gamma': 3, 'model__learning_rate': 0....      -43814.051048   \n",
       "107  {'model__gamma': 1, 'model__learning_rate': 0....      -43807.180750   \n",
       "35   {'model__gamma': 0, 'model__learning_rate': 0....      -43807.180752   \n",
       "106  {'model__gamma': 1, 'model__learning_rate': 0....      -43923.721395   \n",
       "..                                                 ...                ...   \n",
       "75   {'model__gamma': 1, 'model__learning_rate': 0,...     -215067.213076   \n",
       "74   {'model__gamma': 1, 'model__learning_rate': 0,...     -215067.213076   \n",
       "73   {'model__gamma': 1, 'model__learning_rate': 0,...     -215067.213076   \n",
       "227  {'model__gamma': 3, 'model__learning_rate': 0,...     -215067.213076   \n",
       "0    {'model__gamma': 0, 'model__learning_rate': 0,...     -215067.213076   \n",
       "\n",
       "     split1_test_score  split2_test_score  split3_test_score  \\\n",
       "179      -44945.055455      -45097.538874      -44595.027274   \n",
       "251      -44946.815447      -45097.538874      -44595.027274   \n",
       "107      -44945.055455      -45111.982664      -44595.027274   \n",
       "35       -44945.055455      -45111.982664      -44595.027274   \n",
       "106      -44821.088611      -45033.627708      -44695.801367   \n",
       "..                 ...                ...                ...   \n",
       "75      -211569.172486     -209546.190709     -210287.149520   \n",
       "74      -211569.172486     -209546.190709     -210287.149520   \n",
       "73      -211569.172486     -209546.190709     -210287.149520   \n",
       "227     -211569.172486     -209546.190709     -210287.149520   \n",
       "0       -211569.172486     -209546.190709     -210287.149520   \n",
       "\n",
       "     split4_test_score  mean_test_score  std_test_score  rank_test_score  \n",
       "179      -42918.671525    -44272.694776      810.730187                1  \n",
       "251      -42918.672419    -44274.421013      810.237054                2  \n",
       "107      -42918.671525    -44275.583533      813.684439                3  \n",
       "35       -42918.671525    -44275.583534      813.684439                4  \n",
       "106      -43035.437428    -44301.935302      735.810714                5  \n",
       "..                 ...              ...             ...              ...  \n",
       "75      -210355.681146   -211365.081388     1961.459736              241  \n",
       "74      -210355.681146   -211365.081388     1961.459736              241  \n",
       "73      -210355.681146   -211365.081388     1961.459736              241  \n",
       "227     -210355.681146   -211365.081388     1961.459736              241  \n",
       "0       -210355.681146   -211365.081388     1961.459736              241  \n",
       "\n",
       "[288 rows x 17 columns]"
      ]
     },
     "execution_count": 53,
     "metadata": {},
     "output_type": "execute_result"
    }
   ],
   "source": [
    "# tampilkan hasil parameter berdasarkan ranking\n",
    "pd.DataFrame(grid.cv_results_).sort_values(\"rank_test_score\")"
   ]
  },
  {
   "cell_type": "code",
   "execution_count": 54,
   "id": "aab7cdd8",
   "metadata": {},
   "outputs": [
    {
     "data": {
      "text/plain": [
       "{'model__gamma': 2,\n",
       " 'model__learning_rate': 0.2,\n",
       " 'model__max_depth': 7,\n",
       " 'model__n_estimators': 1000}"
      ]
     },
     "execution_count": 54,
     "metadata": {},
     "output_type": "execute_result"
    }
   ],
   "source": [
    "# tampikan parameter terbaik \n",
    "grid.best_params_"
   ]
  },
  {
   "cell_type": "code",
   "execution_count": 55,
   "id": "31a27801",
   "metadata": {},
   "outputs": [],
   "source": [
    "# fitting kembali data dengan best estimator\n",
    "tune_estimator = grid.best_estimator_"
   ]
  },
  {
   "cell_type": "code",
   "execution_count": 56,
   "id": "00bde7da",
   "metadata": {},
   "outputs": [
    {
     "data": {
      "text/html": [
       "<style>#sk-container-id-2 {color: black;background-color: white;}#sk-container-id-2 pre{padding: 0;}#sk-container-id-2 div.sk-toggleable {background-color: white;}#sk-container-id-2 label.sk-toggleable__label {cursor: pointer;display: block;width: 100%;margin-bottom: 0;padding: 0.3em;box-sizing: border-box;text-align: center;}#sk-container-id-2 label.sk-toggleable__label-arrow:before {content: \"▸\";float: left;margin-right: 0.25em;color: #696969;}#sk-container-id-2 label.sk-toggleable__label-arrow:hover:before {color: black;}#sk-container-id-2 div.sk-estimator:hover label.sk-toggleable__label-arrow:before {color: black;}#sk-container-id-2 div.sk-toggleable__content {max-height: 0;max-width: 0;overflow: hidden;text-align: left;background-color: #f0f8ff;}#sk-container-id-2 div.sk-toggleable__content pre {margin: 0.2em;color: black;border-radius: 0.25em;background-color: #f0f8ff;}#sk-container-id-2 input.sk-toggleable__control:checked~div.sk-toggleable__content {max-height: 200px;max-width: 100%;overflow: auto;}#sk-container-id-2 input.sk-toggleable__control:checked~label.sk-toggleable__label-arrow:before {content: \"▾\";}#sk-container-id-2 div.sk-estimator input.sk-toggleable__control:checked~label.sk-toggleable__label {background-color: #d4ebff;}#sk-container-id-2 div.sk-label input.sk-toggleable__control:checked~label.sk-toggleable__label {background-color: #d4ebff;}#sk-container-id-2 input.sk-hidden--visually {border: 0;clip: rect(1px 1px 1px 1px);clip: rect(1px, 1px, 1px, 1px);height: 1px;margin: -1px;overflow: hidden;padding: 0;position: absolute;width: 1px;}#sk-container-id-2 div.sk-estimator {font-family: monospace;background-color: #f0f8ff;border: 1px dotted black;border-radius: 0.25em;box-sizing: border-box;margin-bottom: 0.5em;}#sk-container-id-2 div.sk-estimator:hover {background-color: #d4ebff;}#sk-container-id-2 div.sk-parallel-item::after {content: \"\";width: 100%;border-bottom: 1px solid gray;flex-grow: 1;}#sk-container-id-2 div.sk-label:hover label.sk-toggleable__label {background-color: #d4ebff;}#sk-container-id-2 div.sk-serial::before {content: \"\";position: absolute;border-left: 1px solid gray;box-sizing: border-box;top: 0;bottom: 0;left: 50%;z-index: 0;}#sk-container-id-2 div.sk-serial {display: flex;flex-direction: column;align-items: center;background-color: white;padding-right: 0.2em;padding-left: 0.2em;position: relative;}#sk-container-id-2 div.sk-item {position: relative;z-index: 1;}#sk-container-id-2 div.sk-parallel {display: flex;align-items: stretch;justify-content: center;background-color: white;position: relative;}#sk-container-id-2 div.sk-item::before, #sk-container-id-2 div.sk-parallel-item::before {content: \"\";position: absolute;border-left: 1px solid gray;box-sizing: border-box;top: 0;bottom: 0;left: 50%;z-index: -1;}#sk-container-id-2 div.sk-parallel-item {display: flex;flex-direction: column;z-index: 1;position: relative;background-color: white;}#sk-container-id-2 div.sk-parallel-item:first-child::after {align-self: flex-end;width: 50%;}#sk-container-id-2 div.sk-parallel-item:last-child::after {align-self: flex-start;width: 50%;}#sk-container-id-2 div.sk-parallel-item:only-child::after {width: 0;}#sk-container-id-2 div.sk-dashed-wrapped {border: 1px dashed gray;margin: 0 0.4em 0.5em 0.4em;box-sizing: border-box;padding-bottom: 0.4em;background-color: white;}#sk-container-id-2 div.sk-label label {font-family: monospace;font-weight: bold;display: inline-block;line-height: 1.2em;}#sk-container-id-2 div.sk-label-container {text-align: center;}#sk-container-id-2 div.sk-container {/* jupyter's `normalize.less` sets `[hidden] { display: none; }` but bootstrap.min.css set `[hidden] { display: none !important; }` so we also need the `!important` here to be able to override the default hidden behavior on the sphinx rendered scikit-learn.org. See: https://github.com/scikit-learn/scikit-learn/issues/21755 */display: inline-block !important;position: relative;}#sk-container-id-2 div.sk-text-repr-fallback {display: none;}</style><div id=\"sk-container-id-2\" class=\"sk-top-container\"><div class=\"sk-text-repr-fallback\"><pre>Pipeline(steps=[(&#x27;preprocessing&#x27;,\n",
       "                 ColumnTransformer(remainder=&#x27;passthrough&#x27;,\n",
       "                                   transformers=[(&#x27;input&#x27;,\n",
       "                                                  SimpleImputer(strategy=&#x27;median&#x27;),\n",
       "                                                  [&#x27;total_bedrooms&#x27;]),\n",
       "                                                 (&#x27;ohe_ocean&#x27;,\n",
       "                                                  OneHotEncoder(drop=&#x27;first&#x27;),\n",
       "                                                  [&#x27;ocean_proximity&#x27;])])),\n",
       "                (&#x27;scaling&#x27;, StandardScaler()),\n",
       "                (&#x27;model&#x27;,\n",
       "                 XGBRegressor(base_score=0.5, booster=&#x27;gbtree&#x27;, callbacks=None,\n",
       "                              colsample_bylevel=1, colsample_bynode...\n",
       "                              feature_types=None, gamma=2, gpu_id=-1,\n",
       "                              grow_policy=&#x27;depthwise&#x27;, importance_type=None,\n",
       "                              interaction_constraints=&#x27;&#x27;, learning_rate=0.2,\n",
       "                              max_bin=256, max_cat_threshold=64,\n",
       "                              max_cat_to_onehot=4, max_delta_step=0,\n",
       "                              max_depth=7, max_leaves=0, min_child_weight=1,\n",
       "                              missing=nan, monotone_constraints=&#x27;()&#x27;,\n",
       "                              n_estimators=1000, n_jobs=0, num_parallel_tree=1,\n",
       "                              predictor=&#x27;auto&#x27;, random_state=1, ...))])</pre><b>In a Jupyter environment, please rerun this cell to show the HTML representation or trust the notebook. <br />On GitHub, the HTML representation is unable to render, please try loading this page with nbviewer.org.</b></div><div class=\"sk-container\" hidden><div class=\"sk-item sk-dashed-wrapped\"><div class=\"sk-label-container\"><div class=\"sk-label sk-toggleable\"><input class=\"sk-toggleable__control sk-hidden--visually\" id=\"sk-estimator-id-12\" type=\"checkbox\" ><label for=\"sk-estimator-id-12\" class=\"sk-toggleable__label sk-toggleable__label-arrow\">Pipeline</label><div class=\"sk-toggleable__content\"><pre>Pipeline(steps=[(&#x27;preprocessing&#x27;,\n",
       "                 ColumnTransformer(remainder=&#x27;passthrough&#x27;,\n",
       "                                   transformers=[(&#x27;input&#x27;,\n",
       "                                                  SimpleImputer(strategy=&#x27;median&#x27;),\n",
       "                                                  [&#x27;total_bedrooms&#x27;]),\n",
       "                                                 (&#x27;ohe_ocean&#x27;,\n",
       "                                                  OneHotEncoder(drop=&#x27;first&#x27;),\n",
       "                                                  [&#x27;ocean_proximity&#x27;])])),\n",
       "                (&#x27;scaling&#x27;, StandardScaler()),\n",
       "                (&#x27;model&#x27;,\n",
       "                 XGBRegressor(base_score=0.5, booster=&#x27;gbtree&#x27;, callbacks=None,\n",
       "                              colsample_bylevel=1, colsample_bynode...\n",
       "                              feature_types=None, gamma=2, gpu_id=-1,\n",
       "                              grow_policy=&#x27;depthwise&#x27;, importance_type=None,\n",
       "                              interaction_constraints=&#x27;&#x27;, learning_rate=0.2,\n",
       "                              max_bin=256, max_cat_threshold=64,\n",
       "                              max_cat_to_onehot=4, max_delta_step=0,\n",
       "                              max_depth=7, max_leaves=0, min_child_weight=1,\n",
       "                              missing=nan, monotone_constraints=&#x27;()&#x27;,\n",
       "                              n_estimators=1000, n_jobs=0, num_parallel_tree=1,\n",
       "                              predictor=&#x27;auto&#x27;, random_state=1, ...))])</pre></div></div></div><div class=\"sk-serial\"><div class=\"sk-item sk-dashed-wrapped\"><div class=\"sk-label-container\"><div class=\"sk-label sk-toggleable\"><input class=\"sk-toggleable__control sk-hidden--visually\" id=\"sk-estimator-id-13\" type=\"checkbox\" ><label for=\"sk-estimator-id-13\" class=\"sk-toggleable__label sk-toggleable__label-arrow\">preprocessing: ColumnTransformer</label><div class=\"sk-toggleable__content\"><pre>ColumnTransformer(remainder=&#x27;passthrough&#x27;,\n",
       "                  transformers=[(&#x27;input&#x27;, SimpleImputer(strategy=&#x27;median&#x27;),\n",
       "                                 [&#x27;total_bedrooms&#x27;]),\n",
       "                                (&#x27;ohe_ocean&#x27;, OneHotEncoder(drop=&#x27;first&#x27;),\n",
       "                                 [&#x27;ocean_proximity&#x27;])])</pre></div></div></div><div class=\"sk-parallel\"><div class=\"sk-parallel-item\"><div class=\"sk-item\"><div class=\"sk-label-container\"><div class=\"sk-label sk-toggleable\"><input class=\"sk-toggleable__control sk-hidden--visually\" id=\"sk-estimator-id-14\" type=\"checkbox\" ><label for=\"sk-estimator-id-14\" class=\"sk-toggleable__label sk-toggleable__label-arrow\">input</label><div class=\"sk-toggleable__content\"><pre>[&#x27;total_bedrooms&#x27;]</pre></div></div></div><div class=\"sk-serial\"><div class=\"sk-item\"><div class=\"sk-estimator sk-toggleable\"><input class=\"sk-toggleable__control sk-hidden--visually\" id=\"sk-estimator-id-15\" type=\"checkbox\" ><label for=\"sk-estimator-id-15\" class=\"sk-toggleable__label sk-toggleable__label-arrow\">SimpleImputer</label><div class=\"sk-toggleable__content\"><pre>SimpleImputer(strategy=&#x27;median&#x27;)</pre></div></div></div></div></div></div><div class=\"sk-parallel-item\"><div class=\"sk-item\"><div class=\"sk-label-container\"><div class=\"sk-label sk-toggleable\"><input class=\"sk-toggleable__control sk-hidden--visually\" id=\"sk-estimator-id-16\" type=\"checkbox\" ><label for=\"sk-estimator-id-16\" class=\"sk-toggleable__label sk-toggleable__label-arrow\">ohe_ocean</label><div class=\"sk-toggleable__content\"><pre>[&#x27;ocean_proximity&#x27;]</pre></div></div></div><div class=\"sk-serial\"><div class=\"sk-item\"><div class=\"sk-estimator sk-toggleable\"><input class=\"sk-toggleable__control sk-hidden--visually\" id=\"sk-estimator-id-17\" type=\"checkbox\" ><label for=\"sk-estimator-id-17\" class=\"sk-toggleable__label sk-toggleable__label-arrow\">OneHotEncoder</label><div class=\"sk-toggleable__content\"><pre>OneHotEncoder(drop=&#x27;first&#x27;)</pre></div></div></div></div></div></div><div class=\"sk-parallel-item\"><div class=\"sk-item\"><div class=\"sk-label-container\"><div class=\"sk-label sk-toggleable\"><input class=\"sk-toggleable__control sk-hidden--visually\" id=\"sk-estimator-id-18\" type=\"checkbox\" ><label for=\"sk-estimator-id-18\" class=\"sk-toggleable__label sk-toggleable__label-arrow\">remainder</label><div class=\"sk-toggleable__content\"><pre>[&#x27;longitude&#x27;, &#x27;latitude&#x27;, &#x27;housing_median_age&#x27;, &#x27;total_rooms&#x27;, &#x27;population&#x27;, &#x27;households&#x27;, &#x27;median_income&#x27;]</pre></div></div></div><div class=\"sk-serial\"><div class=\"sk-item\"><div class=\"sk-estimator sk-toggleable\"><input class=\"sk-toggleable__control sk-hidden--visually\" id=\"sk-estimator-id-19\" type=\"checkbox\" ><label for=\"sk-estimator-id-19\" class=\"sk-toggleable__label sk-toggleable__label-arrow\">passthrough</label><div class=\"sk-toggleable__content\"><pre>passthrough</pre></div></div></div></div></div></div></div></div><div class=\"sk-item\"><div class=\"sk-estimator sk-toggleable\"><input class=\"sk-toggleable__control sk-hidden--visually\" id=\"sk-estimator-id-20\" type=\"checkbox\" ><label for=\"sk-estimator-id-20\" class=\"sk-toggleable__label sk-toggleable__label-arrow\">StandardScaler</label><div class=\"sk-toggleable__content\"><pre>StandardScaler()</pre></div></div></div><div class=\"sk-item\"><div class=\"sk-estimator sk-toggleable\"><input class=\"sk-toggleable__control sk-hidden--visually\" id=\"sk-estimator-id-21\" type=\"checkbox\" ><label for=\"sk-estimator-id-21\" class=\"sk-toggleable__label sk-toggleable__label-arrow\">XGBRegressor</label><div class=\"sk-toggleable__content\"><pre>XGBRegressor(base_score=0.5, booster=&#x27;gbtree&#x27;, callbacks=None,\n",
       "             colsample_bylevel=1, colsample_bynode=1, colsample_bytree=1,\n",
       "             early_stopping_rounds=None, enable_categorical=False,\n",
       "             eval_metric=None, feature_types=None, gamma=2, gpu_id=-1,\n",
       "             grow_policy=&#x27;depthwise&#x27;, importance_type=None,\n",
       "             interaction_constraints=&#x27;&#x27;, learning_rate=0.2, max_bin=256,\n",
       "             max_cat_threshold=64, max_cat_to_onehot=4, max_delta_step=0,\n",
       "             max_depth=7, max_leaves=0, min_child_weight=1, missing=nan,\n",
       "             monotone_constraints=&#x27;()&#x27;, n_estimators=1000, n_jobs=0,\n",
       "             num_parallel_tree=1, predictor=&#x27;auto&#x27;, random_state=1, ...)</pre></div></div></div></div></div></div></div>"
      ],
      "text/plain": [
       "Pipeline(steps=[('preprocessing',\n",
       "                 ColumnTransformer(remainder='passthrough',\n",
       "                                   transformers=[('input',\n",
       "                                                  SimpleImputer(strategy='median'),\n",
       "                                                  ['total_bedrooms']),\n",
       "                                                 ('ohe_ocean',\n",
       "                                                  OneHotEncoder(drop='first'),\n",
       "                                                  ['ocean_proximity'])])),\n",
       "                ('scaling', StandardScaler()),\n",
       "                ('model',\n",
       "                 XGBRegressor(base_score=0.5, booster='gbtree', callbacks=None,\n",
       "                              colsample_bylevel=1, colsample_bynode...\n",
       "                              feature_types=None, gamma=2, gpu_id=-1,\n",
       "                              grow_policy='depthwise', importance_type=None,\n",
       "                              interaction_constraints='', learning_rate=0.2,\n",
       "                              max_bin=256, max_cat_threshold=64,\n",
       "                              max_cat_to_onehot=4, max_delta_step=0,\n",
       "                              max_depth=7, max_leaves=0, min_child_weight=1,\n",
       "                              missing=nan, monotone_constraints='()',\n",
       "                              n_estimators=1000, n_jobs=0, num_parallel_tree=1,\n",
       "                              predictor='auto', random_state=1, ...))])"
      ]
     },
     "execution_count": 56,
     "metadata": {},
     "output_type": "execute_result"
    }
   ],
   "source": [
    "tune_estimator.fit(x_train, y_train)"
   ]
  },
  {
   "cell_type": "markdown",
   "id": "b964b0e3",
   "metadata": {},
   "source": [
    "### 3.4.1. Predict ke data test setelah dituning"
   ]
  },
  {
   "cell_type": "code",
   "execution_count": 57,
   "id": "4d1b2570",
   "metadata": {},
   "outputs": [],
   "source": [
    "# test kembali pada data test\n",
    "score_rmse = []\n",
    "score_mae = []\n",
    "score_mape = []\n",
    "\n",
    "y_pred_tune = tune_estimator.predict(x_test)\n",
    "score_rmse.append(np.sqrt(mean_squared_error(y_test, y_pred_tune)))\n",
    "score_mae.append(mean_absolute_error(y_test, y_pred_tune))\n",
    "score_mape.append(mean_absolute_percentage_error(y_test, y_pred_tune))"
   ]
  },
  {
   "cell_type": "code",
   "execution_count": 58,
   "id": "8d99034c",
   "metadata": {},
   "outputs": [
    {
     "data": {
      "text/html": [
       "<div>\n",
       "<style scoped>\n",
       "    .dataframe tbody tr th:only-of-type {\n",
       "        vertical-align: middle;\n",
       "    }\n",
       "\n",
       "    .dataframe tbody tr th {\n",
       "        vertical-align: top;\n",
       "    }\n",
       "\n",
       "    .dataframe thead th {\n",
       "        text-align: right;\n",
       "    }\n",
       "</style>\n",
       "<table border=\"1\" class=\"dataframe\">\n",
       "  <thead>\n",
       "    <tr style=\"text-align: right;\">\n",
       "      <th></th>\n",
       "      <th>Model</th>\n",
       "      <th>RMSE</th>\n",
       "      <th>MAE</th>\n",
       "      <th>MAPE</th>\n",
       "    </tr>\n",
       "  </thead>\n",
       "  <tbody>\n",
       "    <tr>\n",
       "      <th>0</th>\n",
       "      <td>XGB</td>\n",
       "      <td>42070.975066</td>\n",
       "      <td>28487.325706</td>\n",
       "      <td>0.168043</td>\n",
       "    </tr>\n",
       "  </tbody>\n",
       "</table>\n",
       "</div>"
      ],
      "text/plain": [
       "  Model          RMSE           MAE      MAPE\n",
       "0   XGB  42070.975066  28487.325706  0.168043"
      ]
     },
     "execution_count": 58,
     "metadata": {},
     "output_type": "execute_result"
    }
   ],
   "source": [
    "# skor setelah dituning \n",
    "score_after_tuning = pd.DataFrame({'Model': \"XGB\",'RMSE': score_rmse, 'MAE': score_mae, 'MAPE': score_mape})\n",
    "score_after_tuning"
   ]
  },
  {
   "cell_type": "markdown",
   "id": "6f8c5925",
   "metadata": {},
   "source": [
    "Model mengalami improvement kurang lebih sebesar 0.4 %:\n",
    "* MAPE sebelum tunning 0.172185\n",
    "* MAPE setelah tunning 0.168043"
   ]
  },
  {
   "cell_type": "code",
   "execution_count": 59,
   "id": "fce8cdb0",
   "metadata": {},
   "outputs": [
    {
     "data": {
      "image/png": "[encoded data removed]",
      "text/plain": [
       "<Figure size 864x576 with 1 Axes>"
      ]
     },
     "metadata": {
      "needs_background": "light"
     },
     "output_type": "display_data"
    }
   ],
   "source": [
    "# Plot actual dan predited price \n",
    "plt.figure(figsize=(12, 8))\n",
    "plot = sns.scatterplot(x=y_test, y=y_pred_tune)\n",
    "plt.title(\"Actual vs. Prediction Price\", size= 18)\n",
    "plt.ylabel(\"Predicted Price House\")\n",
    "plt.xlabel(\"Actual Price House\")\n",
    "plt.show()"
   ]
  },
  {
   "cell_type": "markdown",
   "id": "95094056",
   "metadata": {},
   "source": [
    "Pada grafik scatterplot yang ditampilkan di atas antara actual price pada sumbu x dengan prediction price di sumbu menunjukkan bahwa data-data sudah cukup membentuk garis lurus atau pola yang linear yang menjukan bahwa hasil prediksi cukup mendekati nilai aktual price. Namun masih dapat dilihat juga bahwa masih terdapat nilai-nilai yang jauh dari pola linear atau tersebar secara acak."
   ]
  },
  {
   "cell_type": "markdown",
   "id": "6eccd4bb",
   "metadata": {},
   "source": [
    "## 3.5. Feature Importances\n",
    "Pada penelitian ini, variabel atau fitur yang penting dalam pemodelan dalam memprediksi harga rumah dapat dilihat pada grafik di bawah."
   ]
  },
  {
   "cell_type": "code",
   "execution_count": 60,
   "id": "be6396cf",
   "metadata": {},
   "outputs": [
    {
     "data": {
      "image/png": "[encoded data removed]",
      "text/plain": [
       "<Figure size 432x288 with 1 Axes>"
      ]
     },
     "metadata": {
      "needs_background": "light"
     },
     "output_type": "display_data"
    }
   ],
   "source": [
    "# Plot feature importances\n",
    "feature_imp = pd.Series(tune_estimator['model'].feature_importances_, transformer.get_feature_names_out()).sort_values(ascending=False).head()\n",
    "feature_imp.plot(kind='barh', title='Feature Importances');"
   ]
  },
  {
   "cell_type": "markdown",
   "id": "482db969",
   "metadata": {},
   "source": [
    "Pada feature Importance dapat dilihat bahwa ada 5 feature yang memiliki pengaruh terhadap model, yang paling besar adalah `ocean_proxixmity(INLAND)` diikuti dengan `median_income`, `latitude`, `ocean_proximity(NEAR OCEAN)` dan `longitude`"
   ]
  },
  {
   "cell_type": "markdown",
   "id": "85cb18ec",
   "metadata": {},
   "source": [
    "# 4. Conclusion"
   ]
  },
  {
   "cell_type": "markdown",
   "id": "ada81310",
   "metadata": {},
   "source": [
    "Kesimpulan dari pemodelan yang telah dilakukan, feature yang paling berpengaruh adalah `ocean_proximity(INLAND)` dan `median_income`. Hal ini juga bisa di lihat dari EDA ada corelation matrix bahwa median income punya korelasi yang tinggi terharap median_house_value. \n",
    "Metrik yang digunakan dalam model untuk melihat seberapa akurat model dalam memprediksi harga adalah dengan RMSE, MAE & MAPE. Ketika kita melihat nilai MAPE yang sudah dilakukan tuning, dihasilkan angka sebesar 16,8% persen. Berarti ketika kita memprediksi harga sebuah rumah pada rentang data yang telah ditentukan, maka prediksi harga akan meleset lebih atau kurang dari 16,8%. Nilai ini dianggap wajar ketika kita akan memprediksi harga rumah dengan nilai tinggi, penggunaan MAPE juga lebih fair karena menghitung presentase bukan nilai mutlak. \n",
    "\n",
    "Namun, tidak menutup kemungkinan kemungkinan ketika model akan memprediksi dengan tidak akurat dan meleset jauh dari nilai aktual, karena bisa terjadi bisa pada model karena terbatasnya fitur yang digunakan. Melakukan prediksi diluar limitasi yang telah ditentukan juga memungkinkan model akan memprediksi dengan tidak akurat. \n"
   ]
  },
  {
   "cell_type": "markdown",
   "id": "34a051b1",
   "metadata": {},
   "source": [
    "### Model yang dipilih (XGBoost)"
   ]
  },
  {
   "cell_type": "markdown",
   "id": "13cf39d2",
   "metadata": {},
   "source": [
    "Model yang dipilih adalah model XGBoost, karena model ini memiliki evaluasi metrik paling baik. Konsep ensemble dengan boosting bekerja melalui persiapan kumpulan model secara berurutan dan kemudian menggabungkan seluruh model untuk membuat harapan, model berikutnya mendapatkan keuntungan dari kesalahan model sebelumnya.\n",
    "\n",
    "Algoritma XGBoost berbasis decision tree. Secara garis besar model ini bekerja dengan membangun satu tree model dengan menyesuaikan data, kemudian tree model berikutnya dibangun untuk mengurangi residual (error) dengan memberikan pembobotan(weight) pada data dengan prediksi yang salah. Proses evaluasi ini dilakukan sampai dengan instruksi yang diberikan berakhir. Hasil tiap pohon keputusan kemudian akan dilakukan majority voting untuk menentukan final prediksi. \n",
    "\n",
    "Pada dasarnya, algoritma ini sama dengan algoritma gradient boost hanya saja menggunakan beberapa proses tambahan sehingga lebih powerful. Proses tersebut adalah pemangkasan, newton boosting, dan parameter pengacakan ekstra. Proses pemangkasan atau penyusutan proporsional simpul daun digunakan untuk meningkatkan generalisasi model. proses newton boosting adalah proses untuk menyediakan rute langsung sehingga tidak memerlukan penurunan gradient. Proses pengacakan parameter bertujuan untuk mengurangi korelasi antar tree sehingga dapat meningkatkan kekuatan algoritma ensemble. "
   ]
  },
  {
   "cell_type": "markdown",
   "id": "af44d402",
   "metadata": {},
   "source": [
    "# 5.  Recommendation \n",
    "\n",
    "Untuk mengukur seberapa efektif pengaplikasian model pada masalah bisnis, kita perlu melakukan A/B testing pada kasus ini, untuk melihat bagaimana kinerja divisi kredit atau seberapa cepat pemberian kredit diberikan pada waktu tertentu sebelum menggunakan model dengan sesudah menggunakan model.\n",
    "\n",
    "Rekomendasi yang dapat diberikan dalam pembuatan model kedepannya adalah:\n",
    "1. Dapat menambah fitur-fitur yang memiliki hubungan atau korelasi yang kuat dengan harga rumah. Seperti Akses jalan(lebar jalan), luas tanah, luas bangunan, nilai pajak tanah dan bangunan, daya listrik. \n",
    "2. Perhatikan juga fitur-fitur yang memiliki hubungan dengan lingkungan seperti seberapa dekat dengan sekolah, pasar, pelayanan kesehatan, taman kota, dan lain-lain. Karena rumah dengan akses yang lebih mudah serta dekat dengan tempat-tempat strategis akan memiliki nilai yang lebih tinggi. \n",
    "3. Membedakan rumah-rumah yang masuk dalam cluster(perumahan) dengan yang tidak. \n",
    "4. Update dan tambah dengan data-data yang baru dan relevan dengan daerah tempat kantor melakukan operasional, penambahan data baru juga bisa diikuti dengan percobaan pada model-model lain yang lebih bisa mengeneralisasi data. \n",
    "5. Mungkin jika diperlukan bisa dibuat model lanjutan yang berkaitan dengan berapa jumlah plafond atau kredit yang dapat diterima oleh nasabah. \n"
   ]
  },
  {
   "cell_type": "markdown",
   "id": "a12c1dfe",
   "metadata": {},
   "source": [
    "### Save Model"
   ]
  },
  {
   "cell_type": "code",
   "execution_count": 63,
   "id": "bae3fd9d",
   "metadata": {},
   "outputs": [
    {
     "data": {
      "text/html": [
       "<style>#sk-container-id-3 {color: black;background-color: white;}#sk-container-id-3 pre{padding: 0;}#sk-container-id-3 div.sk-toggleable {background-color: white;}#sk-container-id-3 label.sk-toggleable__label {cursor: pointer;display: block;width: 100%;margin-bottom: 0;padding: 0.3em;box-sizing: border-box;text-align: center;}#sk-container-id-3 label.sk-toggleable__label-arrow:before {content: \"▸\";float: left;margin-right: 0.25em;color: #696969;}#sk-container-id-3 label.sk-toggleable__label-arrow:hover:before {color: black;}#sk-container-id-3 div.sk-estimator:hover label.sk-toggleable__label-arrow:before {color: black;}#sk-container-id-3 div.sk-toggleable__content {max-height: 0;max-width: 0;overflow: hidden;text-align: left;background-color: #f0f8ff;}#sk-container-id-3 div.sk-toggleable__content pre {margin: 0.2em;color: black;border-radius: 0.25em;background-color: #f0f8ff;}#sk-container-id-3 input.sk-toggleable__control:checked~div.sk-toggleable__content {max-height: 200px;max-width: 100%;overflow: auto;}#sk-container-id-3 input.sk-toggleable__control:checked~label.sk-toggleable__label-arrow:before {content: \"▾\";}#sk-container-id-3 div.sk-estimator input.sk-toggleable__control:checked~label.sk-toggleable__label {background-color: #d4ebff;}#sk-container-id-3 div.sk-label input.sk-toggleable__control:checked~label.sk-toggleable__label {background-color: #d4ebff;}#sk-container-id-3 input.sk-hidden--visually {border: 0;clip: rect(1px 1px 1px 1px);clip: rect(1px, 1px, 1px, 1px);height: 1px;margin: -1px;overflow: hidden;padding: 0;position: absolute;width: 1px;}#sk-container-id-3 div.sk-estimator {font-family: monospace;background-color: #f0f8ff;border: 1px dotted black;border-radius: 0.25em;box-sizing: border-box;margin-bottom: 0.5em;}#sk-container-id-3 div.sk-estimator:hover {background-color: #d4ebff;}#sk-container-id-3 div.sk-parallel-item::after {content: \"\";width: 100%;border-bottom: 1px solid gray;flex-grow: 1;}#sk-container-id-3 div.sk-label:hover label.sk-toggleable__label {background-color: #d4ebff;}#sk-container-id-3 div.sk-serial::before {content: \"\";position: absolute;border-left: 1px solid gray;box-sizing: border-box;top: 0;bottom: 0;left: 50%;z-index: 0;}#sk-container-id-3 div.sk-serial {display: flex;flex-direction: column;align-items: center;background-color: white;padding-right: 0.2em;padding-left: 0.2em;position: relative;}#sk-container-id-3 div.sk-item {position: relative;z-index: 1;}#sk-container-id-3 div.sk-parallel {display: flex;align-items: stretch;justify-content: center;background-color: white;position: relative;}#sk-container-id-3 div.sk-item::before, #sk-container-id-3 div.sk-parallel-item::before {content: \"\";position: absolute;border-left: 1px solid gray;box-sizing: border-box;top: 0;bottom: 0;left: 50%;z-index: -1;}#sk-container-id-3 div.sk-parallel-item {display: flex;flex-direction: column;z-index: 1;position: relative;background-color: white;}#sk-container-id-3 div.sk-parallel-item:first-child::after {align-self: flex-end;width: 50%;}#sk-container-id-3 div.sk-parallel-item:last-child::after {align-self: flex-start;width: 50%;}#sk-container-id-3 div.sk-parallel-item:only-child::after {width: 0;}#sk-container-id-3 div.sk-dashed-wrapped {border: 1px dashed gray;margin: 0 0.4em 0.5em 0.4em;box-sizing: border-box;padding-bottom: 0.4em;background-color: white;}#sk-container-id-3 div.sk-label label {font-family: monospace;font-weight: bold;display: inline-block;line-height: 1.2em;}#sk-container-id-3 div.sk-label-container {text-align: center;}#sk-container-id-3 div.sk-container {/* jupyter's `normalize.less` sets `[hidden] { display: none; }` but bootstrap.min.css set `[hidden] { display: none !important; }` so we also need the `!important` here to be able to override the default hidden behavior on the sphinx rendered scikit-learn.org. See: https://github.com/scikit-learn/scikit-learn/issues/21755 */display: inline-block !important;position: relative;}#sk-container-id-3 div.sk-text-repr-fallback {display: none;}</style><div id=\"sk-container-id-3\" class=\"sk-top-container\"><div class=\"sk-text-repr-fallback\"><pre>Pipeline(steps=[(&#x27;preprocessing&#x27;,\n",
       "                 ColumnTransformer(remainder=&#x27;passthrough&#x27;,\n",
       "                                   transformers=[(&#x27;input&#x27;,\n",
       "                                                  SimpleImputer(strategy=&#x27;median&#x27;),\n",
       "                                                  [&#x27;total_bedrooms&#x27;]),\n",
       "                                                 (&#x27;ohe_ocean&#x27;,\n",
       "                                                  OneHotEncoder(drop=&#x27;first&#x27;),\n",
       "                                                  [&#x27;ocean_proximity&#x27;])])),\n",
       "                (&#x27;scaling&#x27;, StandardScaler()),\n",
       "                (&#x27;model&#x27;,\n",
       "                 XGBRegressor(base_score=0.5, booster=&#x27;gbtree&#x27;, callbacks=None,\n",
       "                              colsample_bylevel=1, colsample_bynode...\n",
       "                              feature_types=None, gamma=2, gpu_id=-1,\n",
       "                              grow_policy=&#x27;depthwise&#x27;, importance_type=None,\n",
       "                              interaction_constraints=&#x27;&#x27;, learning_rate=0.2,\n",
       "                              max_bin=256, max_cat_threshold=64,\n",
       "                              max_cat_to_onehot=4, max_delta_step=0,\n",
       "                              max_depth=7, max_leaves=0, min_child_weight=1,\n",
       "                              missing=nan, monotone_constraints=&#x27;()&#x27;,\n",
       "                              n_estimators=1000, n_jobs=0, num_parallel_tree=1,\n",
       "                              predictor=&#x27;auto&#x27;, random_state=1, ...))])</pre><b>In a Jupyter environment, please rerun this cell to show the HTML representation or trust the notebook. <br />On GitHub, the HTML representation is unable to render, please try loading this page with nbviewer.org.</b></div><div class=\"sk-container\" hidden><div class=\"sk-item sk-dashed-wrapped\"><div class=\"sk-label-container\"><div class=\"sk-label sk-toggleable\"><input class=\"sk-toggleable__control sk-hidden--visually\" id=\"sk-estimator-id-22\" type=\"checkbox\" ><label for=\"sk-estimator-id-22\" class=\"sk-toggleable__label sk-toggleable__label-arrow\">Pipeline</label><div class=\"sk-toggleable__content\"><pre>Pipeline(steps=[(&#x27;preprocessing&#x27;,\n",
       "                 ColumnTransformer(remainder=&#x27;passthrough&#x27;,\n",
       "                                   transformers=[(&#x27;input&#x27;,\n",
       "                                                  SimpleImputer(strategy=&#x27;median&#x27;),\n",
       "                                                  [&#x27;total_bedrooms&#x27;]),\n",
       "                                                 (&#x27;ohe_ocean&#x27;,\n",
       "                                                  OneHotEncoder(drop=&#x27;first&#x27;),\n",
       "                                                  [&#x27;ocean_proximity&#x27;])])),\n",
       "                (&#x27;scaling&#x27;, StandardScaler()),\n",
       "                (&#x27;model&#x27;,\n",
       "                 XGBRegressor(base_score=0.5, booster=&#x27;gbtree&#x27;, callbacks=None,\n",
       "                              colsample_bylevel=1, colsample_bynode...\n",
       "                              feature_types=None, gamma=2, gpu_id=-1,\n",
       "                              grow_policy=&#x27;depthwise&#x27;, importance_type=None,\n",
       "                              interaction_constraints=&#x27;&#x27;, learning_rate=0.2,\n",
       "                              max_bin=256, max_cat_threshold=64,\n",
       "                              max_cat_to_onehot=4, max_delta_step=0,\n",
       "                              max_depth=7, max_leaves=0, min_child_weight=1,\n",
       "                              missing=nan, monotone_constraints=&#x27;()&#x27;,\n",
       "                              n_estimators=1000, n_jobs=0, num_parallel_tree=1,\n",
       "                              predictor=&#x27;auto&#x27;, random_state=1, ...))])</pre></div></div></div><div class=\"sk-serial\"><div class=\"sk-item sk-dashed-wrapped\"><div class=\"sk-label-container\"><div class=\"sk-label sk-toggleable\"><input class=\"sk-toggleable__control sk-hidden--visually\" id=\"sk-estimator-id-23\" type=\"checkbox\" ><label for=\"sk-estimator-id-23\" class=\"sk-toggleable__label sk-toggleable__label-arrow\">preprocessing: ColumnTransformer</label><div class=\"sk-toggleable__content\"><pre>ColumnTransformer(remainder=&#x27;passthrough&#x27;,\n",
       "                  transformers=[(&#x27;input&#x27;, SimpleImputer(strategy=&#x27;median&#x27;),\n",
       "                                 [&#x27;total_bedrooms&#x27;]),\n",
       "                                (&#x27;ohe_ocean&#x27;, OneHotEncoder(drop=&#x27;first&#x27;),\n",
       "                                 [&#x27;ocean_proximity&#x27;])])</pre></div></div></div><div class=\"sk-parallel\"><div class=\"sk-parallel-item\"><div class=\"sk-item\"><div class=\"sk-label-container\"><div class=\"sk-label sk-toggleable\"><input class=\"sk-toggleable__control sk-hidden--visually\" id=\"sk-estimator-id-24\" type=\"checkbox\" ><label for=\"sk-estimator-id-24\" class=\"sk-toggleable__label sk-toggleable__label-arrow\">input</label><div class=\"sk-toggleable__content\"><pre>[&#x27;total_bedrooms&#x27;]</pre></div></div></div><div class=\"sk-serial\"><div class=\"sk-item\"><div class=\"sk-estimator sk-toggleable\"><input class=\"sk-toggleable__control sk-hidden--visually\" id=\"sk-estimator-id-25\" type=\"checkbox\" ><label for=\"sk-estimator-id-25\" class=\"sk-toggleable__label sk-toggleable__label-arrow\">SimpleImputer</label><div class=\"sk-toggleable__content\"><pre>SimpleImputer(strategy=&#x27;median&#x27;)</pre></div></div></div></div></div></div><div class=\"sk-parallel-item\"><div class=\"sk-item\"><div class=\"sk-label-container\"><div class=\"sk-label sk-toggleable\"><input class=\"sk-toggleable__control sk-hidden--visually\" id=\"sk-estimator-id-26\" type=\"checkbox\" ><label for=\"sk-estimator-id-26\" class=\"sk-toggleable__label sk-toggleable__label-arrow\">ohe_ocean</label><div class=\"sk-toggleable__content\"><pre>[&#x27;ocean_proximity&#x27;]</pre></div></div></div><div class=\"sk-serial\"><div class=\"sk-item\"><div class=\"sk-estimator sk-toggleable\"><input class=\"sk-toggleable__control sk-hidden--visually\" id=\"sk-estimator-id-27\" type=\"checkbox\" ><label for=\"sk-estimator-id-27\" class=\"sk-toggleable__label sk-toggleable__label-arrow\">OneHotEncoder</label><div class=\"sk-toggleable__content\"><pre>OneHotEncoder(drop=&#x27;first&#x27;)</pre></div></div></div></div></div></div><div class=\"sk-parallel-item\"><div class=\"sk-item\"><div class=\"sk-label-container\"><div class=\"sk-label sk-toggleable\"><input class=\"sk-toggleable__control sk-hidden--visually\" id=\"sk-estimator-id-28\" type=\"checkbox\" ><label for=\"sk-estimator-id-28\" class=\"sk-toggleable__label sk-toggleable__label-arrow\">remainder</label><div class=\"sk-toggleable__content\"><pre>[&#x27;longitude&#x27;, &#x27;latitude&#x27;, &#x27;housing_median_age&#x27;, &#x27;total_rooms&#x27;, &#x27;population&#x27;, &#x27;households&#x27;, &#x27;median_income&#x27;]</pre></div></div></div><div class=\"sk-serial\"><div class=\"sk-item\"><div class=\"sk-estimator sk-toggleable\"><input class=\"sk-toggleable__control sk-hidden--visually\" id=\"sk-estimator-id-29\" type=\"checkbox\" ><label for=\"sk-estimator-id-29\" class=\"sk-toggleable__label sk-toggleable__label-arrow\">passthrough</label><div class=\"sk-toggleable__content\"><pre>passthrough</pre></div></div></div></div></div></div></div></div><div class=\"sk-item\"><div class=\"sk-estimator sk-toggleable\"><input class=\"sk-toggleable__control sk-hidden--visually\" id=\"sk-estimator-id-30\" type=\"checkbox\" ><label for=\"sk-estimator-id-30\" class=\"sk-toggleable__label sk-toggleable__label-arrow\">StandardScaler</label><div class=\"sk-toggleable__content\"><pre>StandardScaler()</pre></div></div></div><div class=\"sk-item\"><div class=\"sk-estimator sk-toggleable\"><input class=\"sk-toggleable__control sk-hidden--visually\" id=\"sk-estimator-id-31\" type=\"checkbox\" ><label for=\"sk-estimator-id-31\" class=\"sk-toggleable__label sk-toggleable__label-arrow\">XGBRegressor</label><div class=\"sk-toggleable__content\"><pre>XGBRegressor(base_score=0.5, booster=&#x27;gbtree&#x27;, callbacks=None,\n",
       "             colsample_bylevel=1, colsample_bynode=1, colsample_bytree=1,\n",
       "             early_stopping_rounds=None, enable_categorical=False,\n",
       "             eval_metric=None, feature_types=None, gamma=2, gpu_id=-1,\n",
       "             grow_policy=&#x27;depthwise&#x27;, importance_type=None,\n",
       "             interaction_constraints=&#x27;&#x27;, learning_rate=0.2, max_bin=256,\n",
       "             max_cat_threshold=64, max_cat_to_onehot=4, max_delta_step=0,\n",
       "             max_depth=7, max_leaves=0, min_child_weight=1, missing=nan,\n",
       "             monotone_constraints=&#x27;()&#x27;, n_estimators=1000, n_jobs=0,\n",
       "             num_parallel_tree=1, predictor=&#x27;auto&#x27;, random_state=1, ...)</pre></div></div></div></div></div></div></div>"
      ],
      "text/plain": [
       "Pipeline(steps=[('preprocessing',\n",
       "                 ColumnTransformer(remainder='passthrough',\n",
       "                                   transformers=[('input',\n",
       "                                                  SimpleImputer(strategy='median'),\n",
       "                                                  ['total_bedrooms']),\n",
       "                                                 ('ohe_ocean',\n",
       "                                                  OneHotEncoder(drop='first'),\n",
       "                                                  ['ocean_proximity'])])),\n",
       "                ('scaling', StandardScaler()),\n",
       "                ('model',\n",
       "                 XGBRegressor(base_score=0.5, booster='gbtree', callbacks=None,\n",
       "                              colsample_bylevel=1, colsample_bynode...\n",
       "                              feature_types=None, gamma=2, gpu_id=-1,\n",
       "                              grow_policy='depthwise', importance_type=None,\n",
       "                              interaction_constraints='', learning_rate=0.2,\n",
       "                              max_bin=256, max_cat_threshold=64,\n",
       "                              max_cat_to_onehot=4, max_delta_step=0,\n",
       "                              max_depth=7, max_leaves=0, min_child_weight=1,\n",
       "                              missing=nan, monotone_constraints='()',\n",
       "                              n_estimators=1000, n_jobs=0, num_parallel_tree=1,\n",
       "                              predictor='auto', random_state=1, ...))])"
      ]
     },
     "execution_count": 63,
     "metadata": {},
     "output_type": "execute_result"
    }
   ],
   "source": [
    "model_xgb_final = grid.best_estimator_\n",
    "model_xgb_final.fit(x, y)"
   ]
  },
  {
   "cell_type": "code",
   "execution_count": 64,
   "id": "18358dc8",
   "metadata": {},
   "outputs": [],
   "source": [
    "# Save model\n",
    "import pickle\n",
    "\n",
    "pickle.dump(model_xgb_final, open('Model_House_Final.sav', 'wb'))"
   ]
  },
  {
   "cell_type": "code",
   "execution_count": null,
   "id": "22c3b4bd",
   "metadata": {},
   "outputs": [],
   "source": [
    "# # Load model\n",
    "# filename = 'Model_House_Final.sav'\n",
    "# loaded_model = pickle.load(open(filename, 'rb'))"
   ]
  },
  {
   "cell_type": "code",
   "execution_count": null,
   "id": "d7854214",
   "metadata": {},
   "outputs": [],
   "source": [
    "# np.sqrt(mean_squared_error(y_test, loaded_model.predict(X_test)))"
   ]
  }
 ],
 "metadata": {
  "kernelspec": {
   "display_name": "Python 3 (ipykernel)",
   "language": "python",
   "name": "python3"
  },
  "language_info": {
   "codemirror_mode": {
    "name": "ipython",
    "version": 3
   },
   "file_extension": ".py",
   "mimetype": "text/x-python",
   "name": "python",
   "nbconvert_exporter": "python",
   "pygments_lexer": "ipython3",
   "version": "3.9.12"
  }
 },
 "nbformat": 4,
 "nbformat_minor": 5
}
